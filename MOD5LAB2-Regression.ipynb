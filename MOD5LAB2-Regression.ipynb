{
 "cells": [
  {
   "cell_type": "code",
   "execution_count": 6,
   "metadata": {},
   "outputs": [],
   "source": [
    "import pandas as pd\n",
    "import numpy as np\n",
    "import statsmodels.api as sm\n",
    "from statsmodels.stats.anova import anova_lm\n",
    "from sklearn.preprocessing import StandardScaler\n",
    "import matplotlib.pyplot as plt\n",
    "import seaborn as sns\n",
    "\n",
    "%matplotlib inline"
   ]
  },
  {
   "cell_type": "code",
   "execution_count": 7,
   "metadata": {},
   "outputs": [],
   "source": [
    "dat = pd.read_csv('datasets_regionalhappy.csv')"
   ]
  },
  {
   "cell_type": "code",
   "execution_count": 8,
   "metadata": {},
   "outputs": [],
   "source": [
    "dat.columns = [\"Happiness\", \"GDP\", \"Family\", \"Life.Expect\", \"Freedom\", \"Generosity\", \"Trust.Gov\", \"Dystopia\"]"
   ]
  },
  {
   "cell_type": "code",
   "execution_count": 9,
   "metadata": {},
   "outputs": [
    {
     "data": {
      "text/html": [
       "<div>\n",
       "<style scoped>\n",
       "    .dataframe tbody tr th:only-of-type {\n",
       "        vertical-align: middle;\n",
       "    }\n",
       "\n",
       "    .dataframe tbody tr th {\n",
       "        vertical-align: top;\n",
       "    }\n",
       "\n",
       "    .dataframe thead th {\n",
       "        text-align: right;\n",
       "    }\n",
       "</style>\n",
       "<table border=\"1\" class=\"dataframe\">\n",
       "  <thead>\n",
       "    <tr style=\"text-align: right;\">\n",
       "      <th></th>\n",
       "      <th>Happiness</th>\n",
       "      <th>GDP</th>\n",
       "      <th>Family</th>\n",
       "      <th>Life.Expect</th>\n",
       "      <th>Freedom</th>\n",
       "      <th>Generosity</th>\n",
       "      <th>Trust.Gov</th>\n",
       "      <th>Dystopia</th>\n",
       "    </tr>\n",
       "  </thead>\n",
       "  <tbody>\n",
       "    <tr>\n",
       "      <th>0</th>\n",
       "      <td>7.537</td>\n",
       "      <td>1.616463</td>\n",
       "      <td>1.533524</td>\n",
       "      <td>0.796667</td>\n",
       "      <td>0.635423</td>\n",
       "      <td>0.362012</td>\n",
       "      <td>0.315964</td>\n",
       "      <td>2.277027</td>\n",
       "    </tr>\n",
       "    <tr>\n",
       "      <th>1</th>\n",
       "      <td>7.522</td>\n",
       "      <td>1.482383</td>\n",
       "      <td>1.551122</td>\n",
       "      <td>0.792566</td>\n",
       "      <td>0.626007</td>\n",
       "      <td>0.355280</td>\n",
       "      <td>0.400770</td>\n",
       "      <td>2.313707</td>\n",
       "    </tr>\n",
       "    <tr>\n",
       "      <th>2</th>\n",
       "      <td>7.504</td>\n",
       "      <td>1.480633</td>\n",
       "      <td>1.610574</td>\n",
       "      <td>0.833552</td>\n",
       "      <td>0.627163</td>\n",
       "      <td>0.475540</td>\n",
       "      <td>0.153527</td>\n",
       "      <td>2.322715</td>\n",
       "    </tr>\n",
       "    <tr>\n",
       "      <th>3</th>\n",
       "      <td>7.494</td>\n",
       "      <td>1.564980</td>\n",
       "      <td>1.516912</td>\n",
       "      <td>0.858131</td>\n",
       "      <td>0.620071</td>\n",
       "      <td>0.290549</td>\n",
       "      <td>0.367007</td>\n",
       "      <td>2.276716</td>\n",
       "    </tr>\n",
       "    <tr>\n",
       "      <th>4</th>\n",
       "      <td>7.469</td>\n",
       "      <td>1.443572</td>\n",
       "      <td>1.540247</td>\n",
       "      <td>0.809158</td>\n",
       "      <td>0.617951</td>\n",
       "      <td>0.245483</td>\n",
       "      <td>0.382612</td>\n",
       "      <td>2.430182</td>\n",
       "    </tr>\n",
       "  </tbody>\n",
       "</table>\n",
       "</div>"
      ],
      "text/plain": [
       "   Happiness       GDP    Family  Life.Expect   Freedom  Generosity  \\\n",
       "0      7.537  1.616463  1.533524     0.796667  0.635423    0.362012   \n",
       "1      7.522  1.482383  1.551122     0.792566  0.626007    0.355280   \n",
       "2      7.504  1.480633  1.610574     0.833552  0.627163    0.475540   \n",
       "3      7.494  1.564980  1.516912     0.858131  0.620071    0.290549   \n",
       "4      7.469  1.443572  1.540247     0.809158  0.617951    0.245483   \n",
       "\n",
       "   Trust.Gov  Dystopia  \n",
       "0   0.315964  2.277027  \n",
       "1   0.400770  2.313707  \n",
       "2   0.153527  2.322715  \n",
       "3   0.367007  2.276716  \n",
       "4   0.382612  2.430182  "
      ]
     },
     "execution_count": 9,
     "metadata": {},
     "output_type": "execute_result"
    }
   ],
   "source": [
    "dat.head()"
   ]
  },
  {
   "cell_type": "code",
   "execution_count": 12,
   "metadata": {},
   "outputs": [
    {
     "data": {
      "text/html": [
       "<table class=\"simpletable\">\n",
       "<caption>OLS Regression Results</caption>\n",
       "<tr>\n",
       "  <th>Dep. Variable:</th>        <td>Happiness</td>    <th>  R-squared:         </th> <td>   0.660</td>\n",
       "</tr>\n",
       "<tr>\n",
       "  <th>Model:</th>                   <td>OLS</td>       <th>  Adj. R-squared:    </th> <td>   0.658</td>\n",
       "</tr>\n",
       "<tr>\n",
       "  <th>Method:</th>             <td>Least Squares</td>  <th>  F-statistic:       </th> <td>   297.1</td>\n",
       "</tr>\n",
       "<tr>\n",
       "  <th>Date:</th>             <td>Sun, 10 May 2020</td> <th>  Prob (F-statistic):</th> <td>1.11e-37</td>\n",
       "</tr>\n",
       "<tr>\n",
       "  <th>Time:</th>                 <td>11:22:45</td>     <th>  Log-Likelihood:    </th> <td> -154.91</td>\n",
       "</tr>\n",
       "<tr>\n",
       "  <th>No. Observations:</th>      <td>   155</td>      <th>  AIC:               </th> <td>   313.8</td>\n",
       "</tr>\n",
       "<tr>\n",
       "  <th>Df Residuals:</th>          <td>   153</td>      <th>  BIC:               </th> <td>   319.9</td>\n",
       "</tr>\n",
       "<tr>\n",
       "  <th>Df Model:</th>              <td>     1</td>      <th>                     </th>     <td> </td>   \n",
       "</tr>\n",
       "<tr>\n",
       "  <th>Covariance Type:</th>      <td>nonrobust</td>    <th>                     </th>     <td> </td>   \n",
       "</tr>\n",
       "</table>\n",
       "<table class=\"simpletable\">\n",
       "<tr>\n",
       "    <td></td>       <th>coef</th>     <th>std err</th>      <th>t</th>      <th>P>|t|</th>  <th>[0.025</th>    <th>0.975]</th>  \n",
       "</tr>\n",
       "<tr>\n",
       "  <th>GDP</th>   <td>    2.1842</td> <td>    0.127</td> <td>   17.238</td> <td> 0.000</td> <td>    1.934</td> <td>    2.435</td>\n",
       "</tr>\n",
       "<tr>\n",
       "  <th>const</th> <td>    3.2032</td> <td>    0.136</td> <td>   23.619</td> <td> 0.000</td> <td>    2.935</td> <td>    3.471</td>\n",
       "</tr>\n",
       "</table>\n",
       "<table class=\"simpletable\">\n",
       "<tr>\n",
       "  <th>Omnibus:</th>       <td> 0.351</td> <th>  Durbin-Watson:     </th> <td>   1.211</td>\n",
       "</tr>\n",
       "<tr>\n",
       "  <th>Prob(Omnibus):</th> <td> 0.839</td> <th>  Jarque-Bera (JB):  </th> <td>   0.494</td>\n",
       "</tr>\n",
       "<tr>\n",
       "  <th>Skew:</th>          <td> 0.088</td> <th>  Prob(JB):          </th> <td>   0.781</td>\n",
       "</tr>\n",
       "<tr>\n",
       "  <th>Kurtosis:</th>      <td> 2.787</td> <th>  Cond. No.          </th> <td>    4.91</td>\n",
       "</tr>\n",
       "</table><br/><br/>Warnings:<br/>[1] Standard Errors assume that the covariance matrix of the errors is correctly specified."
      ],
      "text/plain": [
       "<class 'statsmodels.iolib.summary.Summary'>\n",
       "\"\"\"\n",
       "                            OLS Regression Results                            \n",
       "==============================================================================\n",
       "Dep. Variable:              Happiness   R-squared:                       0.660\n",
       "Model:                            OLS   Adj. R-squared:                  0.658\n",
       "Method:                 Least Squares   F-statistic:                     297.1\n",
       "Date:                Sun, 10 May 2020   Prob (F-statistic):           1.11e-37\n",
       "Time:                        11:22:45   Log-Likelihood:                -154.91\n",
       "No. Observations:                 155   AIC:                             313.8\n",
       "Df Residuals:                     153   BIC:                             319.9\n",
       "Df Model:                           1                                         \n",
       "Covariance Type:            nonrobust                                         \n",
       "==============================================================================\n",
       "                 coef    std err          t      P>|t|      [0.025      0.975]\n",
       "------------------------------------------------------------------------------\n",
       "GDP            2.1842      0.127     17.238      0.000       1.934       2.435\n",
       "const          3.2032      0.136     23.619      0.000       2.935       3.471\n",
       "==============================================================================\n",
       "Omnibus:                        0.351   Durbin-Watson:                   1.211\n",
       "Prob(Omnibus):                  0.839   Jarque-Bera (JB):                0.494\n",
       "Skew:                           0.088   Prob(JB):                        0.781\n",
       "Kurtosis:                       2.787   Cond. No.                         4.91\n",
       "==============================================================================\n",
       "\n",
       "Warnings:\n",
       "[1] Standard Errors assume that the covariance matrix of the errors is correctly specified.\n",
       "\"\"\""
      ]
     },
     "execution_count": 12,
     "metadata": {},
     "output_type": "execute_result"
    }
   ],
   "source": [
    "## Add a constant term to the array of predictors to get an intercept term\n",
    "predictors = sm.add_constant(dat.GDP, prepend = False)\n",
    "\n",
    "lm_mod = sm.OLS(dat.Happiness, predictors)\n",
    "res = lm_mod.fit()\n",
    "res.summary()\n",
    "\n"
   ]
  },
  {
   "cell_type": "code",
   "execution_count": 19,
   "metadata": {},
   "outputs": [
    {
     "data": {
      "text/html": [
       "<div>\n",
       "<style scoped>\n",
       "    .dataframe tbody tr th:only-of-type {\n",
       "        vertical-align: middle;\n",
       "    }\n",
       "\n",
       "    .dataframe tbody tr th {\n",
       "        vertical-align: top;\n",
       "    }\n",
       "\n",
       "    .dataframe thead th {\n",
       "        text-align: right;\n",
       "    }\n",
       "</style>\n",
       "<table border=\"1\" class=\"dataframe\">\n",
       "  <thead>\n",
       "    <tr style=\"text-align: right;\">\n",
       "      <th></th>\n",
       "      <th>GDP</th>\n",
       "      <th>const</th>\n",
       "    </tr>\n",
       "  </thead>\n",
       "  <tbody>\n",
       "    <tr>\n",
       "      <th>0</th>\n",
       "      <td>1.616463</td>\n",
       "      <td>1.0</td>\n",
       "    </tr>\n",
       "    <tr>\n",
       "      <th>1</th>\n",
       "      <td>1.482383</td>\n",
       "      <td>1.0</td>\n",
       "    </tr>\n",
       "    <tr>\n",
       "      <th>2</th>\n",
       "      <td>1.480633</td>\n",
       "      <td>1.0</td>\n",
       "    </tr>\n",
       "    <tr>\n",
       "      <th>3</th>\n",
       "      <td>1.564980</td>\n",
       "      <td>1.0</td>\n",
       "    </tr>\n",
       "    <tr>\n",
       "      <th>4</th>\n",
       "      <td>1.443572</td>\n",
       "      <td>1.0</td>\n",
       "    </tr>\n",
       "  </tbody>\n",
       "</table>\n",
       "</div>"
      ],
      "text/plain": [
       "        GDP  const\n",
       "0  1.616463    1.0\n",
       "1  1.482383    1.0\n",
       "2  1.480633    1.0\n",
       "3  1.564980    1.0\n",
       "4  1.443572    1.0"
      ]
     },
     "execution_count": 19,
     "metadata": {},
     "output_type": "execute_result"
    }
   ],
   "source": [
    "predictors.head()\n"
   ]
  },
  {
   "cell_type": "code",
   "execution_count": 23,
   "metadata": {},
   "outputs": [
    {
     "name": "stdout",
     "output_type": "stream",
     "text": [
      "range of Happiness = { ' +str(min(dat.Happiness))+''+ str(min(dat.Happiness))+'}\n"
     ]
    },
    {
     "data": {
      "text/plain": [
       "Text(0, 0.5, 'Happiness')"
      ]
     },
     "execution_count": 23,
     "metadata": {},
     "output_type": "execute_result"
    },
    {
     "data": {
      "image/png": "[encoded data removed]",
      "text/plain": [
       "<Figure size 576x432 with 1 Axes>"
      ]
     },
     "metadata": {
      "needs_background": "light"
     },
     "output_type": "display_data"
    }
   ],
   "source": [
    "print(\"range of Happiness = { ' +str(min(dat.Happiness))+''+ str(min(dat.Happiness))+'}\")\n",
    "\n",
    "ax = plt.figure(figsize=(8,6)).gca()\n",
    "dat.Happiness.plot.hist(ax= ax, alpha = 0.6)\n",
    "plt.title('Happiness vs GDP')\n",
    "plt.ylabel('Happiness')"
   ]
  },
  {
   "cell_type": "code",
   "execution_count": 24,
   "metadata": {},
   "outputs": [
    {
     "data": {
      "text/plain": [
       "Text(0.5, 0, 'GDP')"
      ]
     },
     "execution_count": 24,
     "metadata": {},
     "output_type": "execute_result"
    },
    {
     "data": {
      "image/png": "[encoded data removed]",
      "text/plain": [
       "<Figure size 576x432 with 1 Axes>"
      ]
     },
     "metadata": {
      "needs_background": "light"
     },
     "output_type": "display_data"
    }
   ],
   "source": [
    "ax = plt.figure(figsize=(8, 6)).gca() # define axis\n",
    "dat.GDP.plot.hist(ax = ax, alpha = 0.6)\n",
    "plt.title('Histogram of GDP')\n",
    "plt.xlabel('GDP')"
   ]
  },
  {
   "cell_type": "code",
   "execution_count": 25,
   "metadata": {},
   "outputs": [
    {
     "data": {
      "text/plain": [
       "0    4.295305\n",
       "dtype: float64"
      ]
     },
     "execution_count": 25,
     "metadata": {},
     "output_type": "execute_result"
    }
   ],
   "source": [
    "#Creating a new data frame with the predictor value and a new constant\n",
    "new_predict = pd.DataFrame({'GDP':[0.5], 'const':[1.0]})\n",
    "# Make prediction with new values\n",
    "res.predict(new_predict)"
   ]
  },
  {
   "cell_type": "code",
   "execution_count": 27,
   "metadata": {},
   "outputs": [
    {
     "data": {
      "text/plain": [
       "0    4.295305\n",
       "1    5.168979\n",
       "2    5.387398\n",
       "dtype: float64"
      ]
     },
     "execution_count": 27,
     "metadata": {},
     "output_type": "execute_result"
    }
   ],
   "source": [
    "##This is handy. We can also give it several GDP scores (0.5, 0.9, 1.7). \n",
    "##In this case we can automate adding the constant column with the add_connstant method.\n",
    "## Create a new data frame with the predictor value and constraint\n",
    "new_predict = pd.DataFrame({'GDP':[0.5, 0.9, 1.0]})\n",
    "new_predict = sm.add_constant(new_predict, prepend=False)\n",
    "res.predict(new_predict)"
   ]
  },
  {
   "cell_type": "code",
   "execution_count": 33,
   "metadata": {
    "scrolled": true
   },
   "outputs": [
    {
     "data": {
      "text/plain": [
       "Text(0.5, 1.0, 'Happiness vs GDP with linear regression line ')"
      ]
     },
     "execution_count": 33,
     "metadata": {},
     "output_type": "execute_result"
    },
    {
     "data": {
      "image/png": "[encoded data removed]",
      "text/plain": [
       "<Figure size 576x576 with 1 Axes>"
      ]
     },
     "metadata": {
      "needs_background": "light"
     },
     "output_type": "display_data"
    }
   ],
   "source": [
    "ax = plt.figure(figsize=(8,8)).gca()\n",
    "sns.regplot(x='GDP', y='Happiness', data = dat,ax =ax)\n",
    "plt.title('Happiness vs GDP with linear regression line ')"
   ]
  },
  {
   "cell_type": "code",
   "execution_count": 34,
   "metadata": {},
   "outputs": [
    {
     "data": {
      "text/html": [
       "<table class=\"simpletable\">\n",
       "<caption>OLS Regression Results</caption>\n",
       "<tr>\n",
       "  <th>Dep. Variable:</th>        <td>Happiness</td>    <th>  R-squared:         </th> <td>   0.660</td>\n",
       "</tr>\n",
       "<tr>\n",
       "  <th>Model:</th>                   <td>OLS</td>       <th>  Adj. R-squared:    </th> <td>   0.658</td>\n",
       "</tr>\n",
       "<tr>\n",
       "  <th>Method:</th>             <td>Least Squares</td>  <th>  F-statistic:       </th> <td>   297.1</td>\n",
       "</tr>\n",
       "<tr>\n",
       "  <th>Date:</th>             <td>Sun, 10 May 2020</td> <th>  Prob (F-statistic):</th> <td>1.11e-37</td>\n",
       "</tr>\n",
       "<tr>\n",
       "  <th>Time:</th>                 <td>12:32:34</td>     <th>  Log-Likelihood:    </th> <td> -154.91</td>\n",
       "</tr>\n",
       "<tr>\n",
       "  <th>No. Observations:</th>      <td>   155</td>      <th>  AIC:               </th> <td>   313.8</td>\n",
       "</tr>\n",
       "<tr>\n",
       "  <th>Df Residuals:</th>          <td>   153</td>      <th>  BIC:               </th> <td>   319.9</td>\n",
       "</tr>\n",
       "<tr>\n",
       "  <th>Df Model:</th>              <td>     1</td>      <th>                     </th>     <td> </td>   \n",
       "</tr>\n",
       "<tr>\n",
       "  <th>Covariance Type:</th>      <td>nonrobust</td>    <th>                     </th>     <td> </td>   \n",
       "</tr>\n",
       "</table>\n",
       "<table class=\"simpletable\">\n",
       "<tr>\n",
       "    <td></td>       <th>coef</th>     <th>std err</th>      <th>t</th>      <th>P>|t|</th>  <th>[0.025</th>    <th>0.975]</th>  \n",
       "</tr>\n",
       "<tr>\n",
       "  <th>GDP</th>   <td>    2.1842</td> <td>    0.127</td> <td>   17.238</td> <td> 0.000</td> <td>    1.934</td> <td>    2.435</td>\n",
       "</tr>\n",
       "<tr>\n",
       "  <th>const</th> <td>    3.2032</td> <td>    0.136</td> <td>   23.619</td> <td> 0.000</td> <td>    2.935</td> <td>    3.471</td>\n",
       "</tr>\n",
       "</table>\n",
       "<table class=\"simpletable\">\n",
       "<tr>\n",
       "  <th>Omnibus:</th>       <td> 0.351</td> <th>  Durbin-Watson:     </th> <td>   1.211</td>\n",
       "</tr>\n",
       "<tr>\n",
       "  <th>Prob(Omnibus):</th> <td> 0.839</td> <th>  Jarque-Bera (JB):  </th> <td>   0.494</td>\n",
       "</tr>\n",
       "<tr>\n",
       "  <th>Skew:</th>          <td> 0.088</td> <th>  Prob(JB):          </th> <td>   0.781</td>\n",
       "</tr>\n",
       "<tr>\n",
       "  <th>Kurtosis:</th>      <td> 2.787</td> <th>  Cond. No.          </th> <td>    4.91</td>\n",
       "</tr>\n",
       "</table><br/><br/>Warnings:<br/>[1] Standard Errors assume that the covariance matrix of the errors is correctly specified."
      ],
      "text/plain": [
       "<class 'statsmodels.iolib.summary.Summary'>\n",
       "\"\"\"\n",
       "                            OLS Regression Results                            \n",
       "==============================================================================\n",
       "Dep. Variable:              Happiness   R-squared:                       0.660\n",
       "Model:                            OLS   Adj. R-squared:                  0.658\n",
       "Method:                 Least Squares   F-statistic:                     297.1\n",
       "Date:                Sun, 10 May 2020   Prob (F-statistic):           1.11e-37\n",
       "Time:                        12:32:34   Log-Likelihood:                -154.91\n",
       "No. Observations:                 155   AIC:                             313.8\n",
       "Df Residuals:                     153   BIC:                             319.9\n",
       "Df Model:                           1                                         \n",
       "Covariance Type:            nonrobust                                         \n",
       "==============================================================================\n",
       "                 coef    std err          t      P>|t|      [0.025      0.975]\n",
       "------------------------------------------------------------------------------\n",
       "GDP            2.1842      0.127     17.238      0.000       1.934       2.435\n",
       "const          3.2032      0.136     23.619      0.000       2.935       3.471\n",
       "==============================================================================\n",
       "Omnibus:                        0.351   Durbin-Watson:                   1.211\n",
       "Prob(Omnibus):                  0.839   Jarque-Bera (JB):                0.494\n",
       "Skew:                           0.088   Prob(JB):                        0.781\n",
       "Kurtosis:                       2.787   Cond. No.                         4.91\n",
       "==============================================================================\n",
       "\n",
       "Warnings:\n",
       "[1] Standard Errors assume that the covariance matrix of the errors is correctly specified.\n",
       "\"\"\""
      ]
     },
     "execution_count": 34,
     "metadata": {},
     "output_type": "execute_result"
    }
   ],
   "source": [
    "res.summary()"
   ]
  },
  {
   "cell_type": "code",
   "execution_count": 35,
   "metadata": {},
   "outputs": [
    {
     "data": {
      "text/html": [
       "<div>\n",
       "<style scoped>\n",
       "    .dataframe tbody tr th:only-of-type {\n",
       "        vertical-align: middle;\n",
       "    }\n",
       "\n",
       "    .dataframe tbody tr th {\n",
       "        vertical-align: top;\n",
       "    }\n",
       "\n",
       "    .dataframe thead th {\n",
       "        text-align: right;\n",
       "    }\n",
       "</style>\n",
       "<table border=\"1\" class=\"dataframe\">\n",
       "  <thead>\n",
       "    <tr style=\"text-align: right;\">\n",
       "      <th></th>\n",
       "      <th>Happiness</th>\n",
       "      <th>GDP</th>\n",
       "      <th>Family</th>\n",
       "      <th>Life.Expect</th>\n",
       "      <th>Freedom</th>\n",
       "      <th>Generosity</th>\n",
       "      <th>Trust.Gov</th>\n",
       "      <th>Dystopia</th>\n",
       "    </tr>\n",
       "  </thead>\n",
       "  <tbody>\n",
       "    <tr>\n",
       "      <th>0</th>\n",
       "      <td>7.537</td>\n",
       "      <td>1.616463</td>\n",
       "      <td>1.533524</td>\n",
       "      <td>0.796667</td>\n",
       "      <td>0.635423</td>\n",
       "      <td>0.362012</td>\n",
       "      <td>0.315964</td>\n",
       "      <td>2.277027</td>\n",
       "    </tr>\n",
       "    <tr>\n",
       "      <th>1</th>\n",
       "      <td>7.522</td>\n",
       "      <td>1.482383</td>\n",
       "      <td>1.551122</td>\n",
       "      <td>0.792566</td>\n",
       "      <td>0.626007</td>\n",
       "      <td>0.355280</td>\n",
       "      <td>0.400770</td>\n",
       "      <td>2.313707</td>\n",
       "    </tr>\n",
       "    <tr>\n",
       "      <th>2</th>\n",
       "      <td>7.504</td>\n",
       "      <td>1.480633</td>\n",
       "      <td>1.610574</td>\n",
       "      <td>0.833552</td>\n",
       "      <td>0.627163</td>\n",
       "      <td>0.475540</td>\n",
       "      <td>0.153527</td>\n",
       "      <td>2.322715</td>\n",
       "    </tr>\n",
       "    <tr>\n",
       "      <th>3</th>\n",
       "      <td>7.494</td>\n",
       "      <td>1.564980</td>\n",
       "      <td>1.516912</td>\n",
       "      <td>0.858131</td>\n",
       "      <td>0.620071</td>\n",
       "      <td>0.290549</td>\n",
       "      <td>0.367007</td>\n",
       "      <td>2.276716</td>\n",
       "    </tr>\n",
       "    <tr>\n",
       "      <th>4</th>\n",
       "      <td>7.469</td>\n",
       "      <td>1.443572</td>\n",
       "      <td>1.540247</td>\n",
       "      <td>0.809158</td>\n",
       "      <td>0.617951</td>\n",
       "      <td>0.245483</td>\n",
       "      <td>0.382612</td>\n",
       "      <td>2.430182</td>\n",
       "    </tr>\n",
       "    <tr>\n",
       "      <th>...</th>\n",
       "      <td>...</td>\n",
       "      <td>...</td>\n",
       "      <td>...</td>\n",
       "      <td>...</td>\n",
       "      <td>...</td>\n",
       "      <td>...</td>\n",
       "      <td>...</td>\n",
       "      <td>...</td>\n",
       "    </tr>\n",
       "    <tr>\n",
       "      <th>150</th>\n",
       "      <td>3.471</td>\n",
       "      <td>0.368746</td>\n",
       "      <td>0.945707</td>\n",
       "      <td>0.326425</td>\n",
       "      <td>0.581844</td>\n",
       "      <td>0.252756</td>\n",
       "      <td>0.455220</td>\n",
       "      <td>0.540061</td>\n",
       "    </tr>\n",
       "    <tr>\n",
       "      <th>151</th>\n",
       "      <td>3.462</td>\n",
       "      <td>0.777153</td>\n",
       "      <td>0.396103</td>\n",
       "      <td>0.500533</td>\n",
       "      <td>0.081539</td>\n",
       "      <td>0.493664</td>\n",
       "      <td>0.151347</td>\n",
       "      <td>1.061574</td>\n",
       "    </tr>\n",
       "    <tr>\n",
       "      <th>152</th>\n",
       "      <td>3.349</td>\n",
       "      <td>0.511136</td>\n",
       "      <td>1.041990</td>\n",
       "      <td>0.364509</td>\n",
       "      <td>0.390018</td>\n",
       "      <td>0.354256</td>\n",
       "      <td>0.066035</td>\n",
       "      <td>0.621130</td>\n",
       "    </tr>\n",
       "    <tr>\n",
       "      <th>153</th>\n",
       "      <td>2.905</td>\n",
       "      <td>0.091623</td>\n",
       "      <td>0.629794</td>\n",
       "      <td>0.151611</td>\n",
       "      <td>0.059901</td>\n",
       "      <td>0.204435</td>\n",
       "      <td>0.084148</td>\n",
       "      <td>1.683024</td>\n",
       "    </tr>\n",
       "    <tr>\n",
       "      <th>154</th>\n",
       "      <td>2.693</td>\n",
       "      <td>0.000000</td>\n",
       "      <td>0.000000</td>\n",
       "      <td>0.018773</td>\n",
       "      <td>0.270842</td>\n",
       "      <td>0.280876</td>\n",
       "      <td>0.056565</td>\n",
       "      <td>2.066005</td>\n",
       "    </tr>\n",
       "  </tbody>\n",
       "</table>\n",
       "<p>155 rows × 8 columns</p>\n",
       "</div>"
      ],
      "text/plain": [
       "     Happiness       GDP    Family  Life.Expect   Freedom  Generosity  \\\n",
       "0        7.537  1.616463  1.533524     0.796667  0.635423    0.362012   \n",
       "1        7.522  1.482383  1.551122     0.792566  0.626007    0.355280   \n",
       "2        7.504  1.480633  1.610574     0.833552  0.627163    0.475540   \n",
       "3        7.494  1.564980  1.516912     0.858131  0.620071    0.290549   \n",
       "4        7.469  1.443572  1.540247     0.809158  0.617951    0.245483   \n",
       "..         ...       ...       ...          ...       ...         ...   \n",
       "150      3.471  0.368746  0.945707     0.326425  0.581844    0.252756   \n",
       "151      3.462  0.777153  0.396103     0.500533  0.081539    0.493664   \n",
       "152      3.349  0.511136  1.041990     0.364509  0.390018    0.354256   \n",
       "153      2.905  0.091623  0.629794     0.151611  0.059901    0.204435   \n",
       "154      2.693  0.000000  0.000000     0.018773  0.270842    0.280876   \n",
       "\n",
       "     Trust.Gov  Dystopia  \n",
       "0     0.315964  2.277027  \n",
       "1     0.400770  2.313707  \n",
       "2     0.153527  2.322715  \n",
       "3     0.367007  2.276716  \n",
       "4     0.382612  2.430182  \n",
       "..         ...       ...  \n",
       "150   0.455220  0.540061  \n",
       "151   0.151347  1.061574  \n",
       "152   0.066035  0.621130  \n",
       "153   0.084148  1.683024  \n",
       "154   0.056565  2.066005  \n",
       "\n",
       "[155 rows x 8 columns]"
      ]
     },
     "execution_count": 35,
     "metadata": {},
     "output_type": "execute_result"
    }
   ],
   "source": [
    "#We are going to look at the residuals and to start we'll create a new dataframe with the redictor value and constants\n",
    "dat"
   ]
  },
  {
   "cell_type": "code",
   "execution_count": 39,
   "metadata": {},
   "outputs": [
    {
     "data": {
      "text/html": [
       "<div>\n",
       "<style scoped>\n",
       "    .dataframe tbody tr th:only-of-type {\n",
       "        vertical-align: middle;\n",
       "    }\n",
       "\n",
       "    .dataframe tbody tr th {\n",
       "        vertical-align: top;\n",
       "    }\n",
       "\n",
       "    .dataframe thead th {\n",
       "        text-align: right;\n",
       "    }\n",
       "</style>\n",
       "<table border=\"1\" class=\"dataframe\">\n",
       "  <thead>\n",
       "    <tr style=\"text-align: right;\">\n",
       "      <th></th>\n",
       "      <th>GDP</th>\n",
       "      <th>const</th>\n",
       "      <th>Score</th>\n",
       "      <th>Residuals</th>\n",
       "    </tr>\n",
       "  </thead>\n",
       "  <tbody>\n",
       "    <tr>\n",
       "      <th>0</th>\n",
       "      <td>1.616463</td>\n",
       "      <td>1.0</td>\n",
       "      <td>6.733867</td>\n",
       "      <td>0.803133</td>\n",
       "    </tr>\n",
       "    <tr>\n",
       "      <th>1</th>\n",
       "      <td>1.482383</td>\n",
       "      <td>1.0</td>\n",
       "      <td>6.441011</td>\n",
       "      <td>1.080988</td>\n",
       "    </tr>\n",
       "    <tr>\n",
       "      <th>2</th>\n",
       "      <td>1.480633</td>\n",
       "      <td>1.0</td>\n",
       "      <td>6.437189</td>\n",
       "      <td>1.066811</td>\n",
       "    </tr>\n",
       "    <tr>\n",
       "      <th>3</th>\n",
       "      <td>1.564980</td>\n",
       "      <td>1.0</td>\n",
       "      <td>6.621417</td>\n",
       "      <td>0.872582</td>\n",
       "    </tr>\n",
       "    <tr>\n",
       "      <th>4</th>\n",
       "      <td>1.443572</td>\n",
       "      <td>1.0</td>\n",
       "      <td>6.356241</td>\n",
       "      <td>1.112759</td>\n",
       "    </tr>\n",
       "    <tr>\n",
       "      <th>...</th>\n",
       "      <td>...</td>\n",
       "      <td>...</td>\n",
       "      <td>...</td>\n",
       "      <td>...</td>\n",
       "    </tr>\n",
       "    <tr>\n",
       "      <th>150</th>\n",
       "      <td>0.368746</td>\n",
       "      <td>1.0</td>\n",
       "      <td>4.008622</td>\n",
       "      <td>-0.537622</td>\n",
       "    </tr>\n",
       "    <tr>\n",
       "      <th>151</th>\n",
       "      <td>0.777153</td>\n",
       "      <td>1.0</td>\n",
       "      <td>4.900659</td>\n",
       "      <td>-1.438659</td>\n",
       "    </tr>\n",
       "    <tr>\n",
       "      <th>152</th>\n",
       "      <td>0.511136</td>\n",
       "      <td>1.0</td>\n",
       "      <td>4.319628</td>\n",
       "      <td>-0.970628</td>\n",
       "    </tr>\n",
       "    <tr>\n",
       "      <th>153</th>\n",
       "      <td>0.091623</td>\n",
       "      <td>1.0</td>\n",
       "      <td>3.403333</td>\n",
       "      <td>-0.498333</td>\n",
       "    </tr>\n",
       "    <tr>\n",
       "      <th>154</th>\n",
       "      <td>0.000000</td>\n",
       "      <td>1.0</td>\n",
       "      <td>3.203213</td>\n",
       "      <td>-0.510213</td>\n",
       "    </tr>\n",
       "  </tbody>\n",
       "</table>\n",
       "<p>155 rows × 4 columns</p>\n",
       "</div>"
      ],
      "text/plain": [
       "          GDP  const     Score  Residuals\n",
       "0    1.616463    1.0  6.733867   0.803133\n",
       "1    1.482383    1.0  6.441011   1.080988\n",
       "2    1.480633    1.0  6.437189   1.066811\n",
       "3    1.564980    1.0  6.621417   0.872582\n",
       "4    1.443572    1.0  6.356241   1.112759\n",
       "..        ...    ...       ...        ...\n",
       "150  0.368746    1.0  4.008622  -0.537622\n",
       "151  0.777153    1.0  4.900659  -1.438659\n",
       "152  0.511136    1.0  4.319628  -0.970628\n",
       "153  0.091623    1.0  3.403333  -0.498333\n",
       "154  0.000000    1.0  3.203213  -0.510213\n",
       "\n",
       "[155 rows x 4 columns]"
      ]
     },
     "execution_count": 39,
     "metadata": {},
     "output_type": "execute_result"
    }
   ],
   "source": [
    "new_predict = dat.GDP\n",
    "new_predict = sm.add_constant(new_predict, prepend=False)\n",
    "#Then we'll mke the prediction with the new values\n",
    "new_predict['Score'] = res.predict(new_predict)\n",
    "##Compute the residuals\n",
    "new_predict['Residuals'] = dat.Happiness - new_predict['Score']\n",
    "\n",
    "new_predict"
   ]
  },
  {
   "cell_type": "code",
   "execution_count": 45,
   "metadata": {},
   "outputs": [
    {
     "data": {
      "text/plain": [
       "Text(0, 0.5, 'Residual Values')"
      ]
     },
     "execution_count": 45,
     "metadata": {},
     "output_type": "execute_result"
    },
    {
     "data": {
      "image/png": "[encoded data removed]",
      "text/plain": [
       "<Figure size 576x576 with 1 Axes>"
      ]
     },
     "metadata": {
      "needs_background": "light"
     },
     "output_type": "display_data"
    }
   ],
   "source": [
    "ax = plt.figure(figsize=(8,8)).gca()\n",
    "new_predict.plot.scatter(x='Score', y = 'Residuals', ax=ax)\n",
    "plt.title('Residuals vs. prediceted value')\n",
    "plt.xlabel('Predicted Values')\n",
    "plt.ylabel('Residual Values')"
   ]
  },
  {
   "cell_type": "code",
   "execution_count": 47,
   "metadata": {},
   "outputs": [
    {
     "data": {
      "text/plain": [
       "<matplotlib.axes._subplots.AxesSubplot at 0x7931f0160880>"
      ]
     },
     "execution_count": 47,
     "metadata": {},
     "output_type": "execute_result"
    },
    {
     "data": {
      "image/png": "[encoded data removed]",
      "text/plain": [
       "<Figure size 576x576 with 1 Axes>"
      ]
     },
     "metadata": {
      "needs_background": "light"
     },
     "output_type": "display_data"
    }
   ],
   "source": [
    "ax = plt.figure(figsize=(8,8)).gca()\n",
    "new_predict.Residuals.plot.hist(ax=ax)"
   ]
  },
  {
   "cell_type": "code",
   "execution_count": 48,
   "metadata": {},
   "outputs": [
    {
     "data": {
      "text/plain": [
       "'These residuals are beautifully Normally distributed. This is a good sign for our model. This means that we \\ntend to under-predict (negative values) just as much as we over-predict (positive values). \\nThis looks like a healthy and valid regression model'"
      ]
     },
     "execution_count": 48,
     "metadata": {},
     "output_type": "execute_result"
    }
   ],
   "source": [
    "'''These residuals are beautifully Normally distributed. This is a good sign for our model. This means that we \n",
    "tend to under-predict (negative values) just as much as we over-predict (positive values). \n",
    "This looks like a healthy and valid regression model'''"
   ]
  },
  {
   "cell_type": "markdown",
   "metadata": {},
   "source": [
    "# Multiple Regression"
   ]
  },
  {
   "cell_type": "code",
   "execution_count": 49,
   "metadata": {},
   "outputs": [
    {
     "data": {
      "text/html": [
       "<table class=\"simpletable\">\n",
       "<caption>OLS Regression Results</caption>\n",
       "<tr>\n",
       "  <th>Dep. Variable:</th>        <td>Happiness</td>    <th>  R-squared:         </th> <td>   0.744</td>\n",
       "</tr>\n",
       "<tr>\n",
       "  <th>Model:</th>                   <td>OLS</td>       <th>  Adj. R-squared:    </th> <td>   0.741</td>\n",
       "</tr>\n",
       "<tr>\n",
       "  <th>Method:</th>             <td>Least Squares</td>  <th>  F-statistic:       </th> <td>   221.3</td>\n",
       "</tr>\n",
       "<tr>\n",
       "  <th>Date:</th>             <td>Sun, 10 May 2020</td> <th>  Prob (F-statistic):</th> <td>9.64e-46</td>\n",
       "</tr>\n",
       "<tr>\n",
       "  <th>Time:</th>                 <td>13:07:37</td>     <th>  Log-Likelihood:    </th> <td> -132.85</td>\n",
       "</tr>\n",
       "<tr>\n",
       "  <th>No. Observations:</th>      <td>   155</td>      <th>  AIC:               </th> <td>   271.7</td>\n",
       "</tr>\n",
       "<tr>\n",
       "  <th>Df Residuals:</th>          <td>   152</td>      <th>  BIC:               </th> <td>   280.8</td>\n",
       "</tr>\n",
       "<tr>\n",
       "  <th>Df Model:</th>              <td>     2</td>      <th>                     </th>     <td> </td>   \n",
       "</tr>\n",
       "<tr>\n",
       "  <th>Covariance Type:</th>      <td>nonrobust</td>    <th>                     </th>     <td> </td>   \n",
       "</tr>\n",
       "</table>\n",
       "<table class=\"simpletable\">\n",
       "<tr>\n",
       "     <td></td>        <th>coef</th>     <th>std err</th>      <th>t</th>      <th>P>|t|</th>  <th>[0.025</th>    <th>0.975]</th>  \n",
       "</tr>\n",
       "<tr>\n",
       "  <th>GDP</th>     <td>    1.8736</td> <td>    0.119</td> <td>   15.788</td> <td> 0.000</td> <td>    1.639</td> <td>    2.108</td>\n",
       "</tr>\n",
       "<tr>\n",
       "  <th>Freedom</th> <td>    2.3557</td> <td>    0.333</td> <td>    7.076</td> <td> 0.000</td> <td>    1.698</td> <td>    3.013</td>\n",
       "</tr>\n",
       "<tr>\n",
       "  <th>const</th>   <td>    2.5461</td> <td>    0.150</td> <td>   16.955</td> <td> 0.000</td> <td>    2.249</td> <td>    2.843</td>\n",
       "</tr>\n",
       "</table>\n",
       "<table class=\"simpletable\">\n",
       "<tr>\n",
       "  <th>Omnibus:</th>       <td> 4.155</td> <th>  Durbin-Watson:     </th> <td>   1.585</td>\n",
       "</tr>\n",
       "<tr>\n",
       "  <th>Prob(Omnibus):</th> <td> 0.125</td> <th>  Jarque-Bera (JB):  </th> <td>   3.653</td>\n",
       "</tr>\n",
       "<tr>\n",
       "  <th>Skew:</th>          <td>-0.336</td> <th>  Prob(JB):          </th> <td>   0.161</td>\n",
       "</tr>\n",
       "<tr>\n",
       "  <th>Kurtosis:</th>      <td> 3.336</td> <th>  Cond. No.          </th> <td>    11.3</td>\n",
       "</tr>\n",
       "</table><br/><br/>Warnings:<br/>[1] Standard Errors assume that the covariance matrix of the errors is correctly specified."
      ],
      "text/plain": [
       "<class 'statsmodels.iolib.summary.Summary'>\n",
       "\"\"\"\n",
       "                            OLS Regression Results                            \n",
       "==============================================================================\n",
       "Dep. Variable:              Happiness   R-squared:                       0.744\n",
       "Model:                            OLS   Adj. R-squared:                  0.741\n",
       "Method:                 Least Squares   F-statistic:                     221.3\n",
       "Date:                Sun, 10 May 2020   Prob (F-statistic):           9.64e-46\n",
       "Time:                        13:07:37   Log-Likelihood:                -132.85\n",
       "No. Observations:                 155   AIC:                             271.7\n",
       "Df Residuals:                     152   BIC:                             280.8\n",
       "Df Model:                           2                                         \n",
       "Covariance Type:            nonrobust                                         \n",
       "==============================================================================\n",
       "                 coef    std err          t      P>|t|      [0.025      0.975]\n",
       "------------------------------------------------------------------------------\n",
       "GDP            1.8736      0.119     15.788      0.000       1.639       2.108\n",
       "Freedom        2.3557      0.333      7.076      0.000       1.698       3.013\n",
       "const          2.5461      0.150     16.955      0.000       2.249       2.843\n",
       "==============================================================================\n",
       "Omnibus:                        4.155   Durbin-Watson:                   1.585\n",
       "Prob(Omnibus):                  0.125   Jarque-Bera (JB):                3.653\n",
       "Skew:                          -0.336   Prob(JB):                        0.161\n",
       "Kurtosis:                       3.336   Cond. No.                         11.3\n",
       "==============================================================================\n",
       "\n",
       "Warnings:\n",
       "[1] Standard Errors assume that the covariance matrix of the errors is correctly specified.\n",
       "\"\"\""
      ]
     },
     "execution_count": 49,
     "metadata": {},
     "output_type": "execute_result"
    }
   ],
   "source": [
    "predictors = sm.add_constant(dat[['GDP', 'Freedom']], prepend=False)\n",
    "\n",
    "lm_mod_2 = sm.OLS(dat.Happiness, predictors)\n",
    "res_2 = lm_mod_2.fit()\n",
    "res_2.summary()"
   ]
  },
  {
   "cell_type": "code",
   "execution_count": 50,
   "metadata": {},
   "outputs": [
    {
     "name": "stderr",
     "output_type": "stream",
     "text": [
      "/opt/miniconda3/envs/conda_env/lib/python3.8/site-packages/scipy/stats/_distn_infrastructure.py:903: RuntimeWarning: invalid value encountered in greater\n",
      "  return (a < x) & (x < b)\n",
      "/opt/miniconda3/envs/conda_env/lib/python3.8/site-packages/scipy/stats/_distn_infrastructure.py:903: RuntimeWarning: invalid value encountered in less\n",
      "  return (a < x) & (x < b)\n",
      "/opt/miniconda3/envs/conda_env/lib/python3.8/site-packages/scipy/stats/_distn_infrastructure.py:1912: RuntimeWarning: invalid value encountered in less_equal\n",
      "  cond2 = cond0 & (x <= _a)\n"
     ]
    },
    {
     "data": {
      "text/html": [
       "<div>\n",
       "<style scoped>\n",
       "    .dataframe tbody tr th:only-of-type {\n",
       "        vertical-align: middle;\n",
       "    }\n",
       "\n",
       "    .dataframe tbody tr th {\n",
       "        vertical-align: top;\n",
       "    }\n",
       "\n",
       "    .dataframe thead th {\n",
       "        text-align: right;\n",
       "    }\n",
       "</style>\n",
       "<table border=\"1\" class=\"dataframe\">\n",
       "  <thead>\n",
       "    <tr style=\"text-align: right;\">\n",
       "      <th></th>\n",
       "      <th>df_resid</th>\n",
       "      <th>ssr</th>\n",
       "      <th>df_diff</th>\n",
       "      <th>ss_diff</th>\n",
       "      <th>F</th>\n",
       "      <th>Pr(&gt;F)</th>\n",
       "    </tr>\n",
       "  </thead>\n",
       "  <tbody>\n",
       "    <tr>\n",
       "      <th>0</th>\n",
       "      <td>153.0</td>\n",
       "      <td>66.983338</td>\n",
       "      <td>0.0</td>\n",
       "      <td>NaN</td>\n",
       "      <td>NaN</td>\n",
       "      <td>NaN</td>\n",
       "    </tr>\n",
       "    <tr>\n",
       "      <th>1</th>\n",
       "      <td>152.0</td>\n",
       "      <td>50.385944</td>\n",
       "      <td>1.0</td>\n",
       "      <td>16.597394</td>\n",
       "      <td>50.069597</td>\n",
       "      <td>5.094782e-11</td>\n",
       "    </tr>\n",
       "  </tbody>\n",
       "</table>\n",
       "</div>"
      ],
      "text/plain": [
       "   df_resid        ssr  df_diff    ss_diff          F        Pr(>F)\n",
       "0     153.0  66.983338      0.0        NaN        NaN           NaN\n",
       "1     152.0  50.385944      1.0  16.597394  50.069597  5.094782e-11"
      ]
     },
     "execution_count": 50,
     "metadata": {},
     "output_type": "execute_result"
    }
   ],
   "source": [
    "#look this up at some point\n",
    "anova_lm(res, res_2)"
   ]
  },
  {
   "cell_type": "raw",
   "metadata": {},
   "source": [
    "Standardized Slopes\n",
    "At this point, you might also be interested in which variable is the stronger predictor. Unfortunately, the slopes are entirely dependent on the units measured.\n",
    "\n",
    "However, we can standardize them, putting them on the same scale so they can be directly compared. This is done by taking each slope and multiplying it by the ratio of the standard deviations:\n",
    "\n",
    "𝑏=𝑆𝐷_𝑥𝑆𝐷_𝑦\n",
    " \n",
    "Functionally, this changes nothing. It only changes the units. For example, the slope for freedom was originally 2.3557. This means that happiness is expected to increase 2.3557 units per unit of freedom. If we multiply by standard deviations, however, the units become standard deviations:\n",
    "\n"
   ]
  },
  {
   "cell_type": "code",
   "execution_count": 51,
   "metadata": {},
   "outputs": [
    {
     "name": "stdout",
     "output_type": "stream",
     "text": [
      "Adjusted coefficient for GDP = 0.6969353395951953\n",
      "Adjusted coefficient for Freedom = 0.3123593556398879\n"
     ]
    }
   ],
   "source": [
    "print('Adjusted coefficient for GDP = ' + str(res_2.params[0] * np.std(dat.GDP)/np.std(dat.Happiness)))\n",
    "print('Adjusted coefficient for Freedom = ' + str(res_2.params[1] * np.std(dat.Freedom)/np.std(dat.Happiness)))"
   ]
  },
  {
   "cell_type": "raw",
   "metadata": {},
   "source": [
    "We immediately see that GDP has a much larger estimated effect than freedom. At least in our sample data, the wealth of a region is more important for its happiness than its freedom (the difference between slopes can also be tested for significance, ideally with something called bootstrapping, but we will not explore that now).\n",
    "\n",
    "We now have the tools we need to begin to understand our data. Using multiple regression, I can examine the relationships between any variables, controlling for any number of others. If I want to be able to assess what variables are the most important predictors, standardized slopes offer an easy solution (they are often comparable to correlations as well, providing a rough mental guide for interpreting them).\n",
    "\n",
    "Assumptions of Regression\n",
    "There are a few important assumptions and caveats you should know. Seven key assumptions are:\n",
    "\n",
    "Our assumptions are:\n",
    "\n",
    "Linear model is appropriate\n",
    "Homoskedasticity\n",
    "Observations are independent\n",
    "Our residuals must be normally distributed\n",
    "Our residuals should have a mean of zero\n",
    "The model is correctly specified\n",
    "Multicollinearity is not a problem\n",
    "Assumption 1, is a linear model appropriate? Well, do we have good reason to suspect a non-linear relationship between GDP and happiness? In this case, I have no theoretical or evidence based reason to think otherwise. However, obviously, a linear model (i.e., a \"straight line\" regression) would not make sense if the data were not a straight line.\n",
    "\n",
    "Note that there are a few cases where this IS violated.\n",
    "\n",
    "If your y-variable has only two levels (e.g., \"purchased product, did not purchase product\"), then a linear model is not appropriate (we use something called logistic regression). There are similar extensions for variables with several categories.\n",
    "\n",
    "Another common case is if your y-variable is a \"count\" of something (e.g., how many pairs of shoes do people have?). In that case, negative numbers are impossible, and any slopes will need to \"bend\" as they approach the x-axis so they don't cross it. There are \"count\" models for that. We won't learn them, but you could if you needed to.\n",
    "\n",
    "Math allows for any shape of line; for similar reasons, we can make a regression line into any shape (not covered here). A word of caution: the more complex a model, the more likely it is to be a \"false positive\" finding. Beware making models too complex on the basis of your data. Usually, simpler models are more correct unless you have good reason to make it non-linear.\n",
    "\n",
    "Assumption 2, homoskedasicity. Briefly, this means that the residuals are the same all the way up and down the line. This is violated if residuals are really small at one end (line fits great) and really big at the other (line fits awful). Without going into detail, the p-values for the slopes use the residuals in the equations. If the residuals vary systematically throughout the graph, that's a problem. Look at the residuals plot above, however, and we see they seem roughly uniform up and down the line. We're fine.\n",
    "\n",
    "Assumption 3, our observations are independent. That is, our data points didn't influence each other. This would be a problem, for example, if our data included the same regions over a multi-year period. The 2016 happiness score and the 2017 happiness score for a region will be similar because it's the same region. This influences the residuals, and in turn, the p-values in a problematic way. Violating this assumption tends to make your findings more significant so it's good to account for any kind of \"nesting\" substructure.\n",
    "\n",
    "Having multiple data points on the same observation is one common way you can violate this assumption, but other kinds of nesting might as well. For example, data may be nested within stores in a way we might want to account for. In such a case, a linear mixed model is often better and simply extends the regression somewhat to account for the nesting.\n",
    "\n",
    "Assumption 4 + 5, our residuals must be normally distributed and with a mean of zero. We can briefly check this with a histogram:"
   ]
  },
  {
   "cell_type": "code",
   "execution_count": 52,
   "metadata": {},
   "outputs": [
    {
     "data": {
      "text/plain": [
       "<matplotlib.axes._subplots.AxesSubplot at 0x7931f004a220>"
      ]
     },
     "execution_count": 52,
     "metadata": {},
     "output_type": "execute_result"
    },
    {
     "data": {
      "image/png": "[encoded data removed]",
      "text/plain": [
       "<Figure size 576x432 with 1 Axes>"
      ]
     },
     "metadata": {
      "needs_background": "light"
     },
     "output_type": "display_data"
    }
   ],
   "source": [
    "## Create a new data frame with the predictor values and the constant\n",
    "new_predict = dat[['GDP','Freedom']]\n",
    "new_predict = sm.add_constant(new_predict, prepend = False)\n",
    "## Make prediction with new values and 2 predictor model\n",
    "new_predict['Score'] = res_2.predict(new_predict)\n",
    "## Compute the residuals \n",
    "new_predict['Residuals'] = dat.Happiness - new_predict.Score\n",
    "\n",
    "## Plot the histogram of the residuals\n",
    "ax = plt.figure(figsize=(8, 6)).gca() # define axis\n",
    "new_predict.Residuals.plot.hist(ax = ax)"
   ]
  },
  {
   "cell_type": "code",
   "execution_count": 53,
   "metadata": {},
   "outputs": [
    {
     "data": {
      "text/plain": [
       "-5.730183352904034e-16"
      ]
     },
     "execution_count": 53,
     "metadata": {},
     "output_type": "execute_result"
    }
   ],
   "source": [
    "new_predict['Residuals'].mean()"
   ]
  },
  {
   "cell_type": "raw",
   "metadata": {},
   "source": [
    "It has some skew, but it's not terrible.\n",
    "\n",
    "The normality of residuals tends to be violated if the outcome (y-variable) is skewed. There are other kinds of regressions for highly skewed outcome variables; there are also transformations that can be done to the outcome variable to make it more normal. We explored such transformations in the previous lab, but such a transformation is not needed here.\n",
    "\n",
    "Assumption 6 states that we have included all the causes of our outcome in the model. Although impossible in practice, we can reasonably think through what variables we need to control for when running our regression.\n",
    "\n",
    "Now you see something important: to do regression analysis well, you need to understand the subject area. You need to know what to control for before the data are collected.\n",
    "\n",
    "Assumption 7 states that multicollinearity is not a problem.\n",
    "\n",
    "Briefly, when you control for a variable (e.g., looking at GDP and happiness, controlling for freedom), you can cause a problem called multicollinearity.\n",
    "\n",
    "Consider the following situation: you want to assess the role of annual salary on employee engagement, controlling for monthly salary. Hopefully, you think that's a crazy idea because the predictor and control variables are redundant. It's completely nonsensical. What would it even mean to examine the role of your annual salary, holding your monthly salary constant? There would be \"nothing left\" to annual salary after we statistically hold monthly salary constant.\n",
    "\n",
    "Similarly, there are a lot of highly overlapping variables in research contexts. Imagine a survey asking customers how 'angry' they are and how 'upset' they are after receiving poor service. Angry people are upset. Upset people feel angry. They're very similar. Conceptually, if you tried to examine anger with 'upset' controlled, you are going to remove a lot of the meaning in the anger variable, and vice versa. Will there be enough \"left\" to make a reasonable regression?\n",
    "\n",
    "When predictors overlap (correlate) too much among each other, they become useless. In general, it's good to avoid having high correlations among predictors, r = .80, r = .90, etc.). The slopes can act oddly in such cases, even reversing directions."
   ]
  },
  {
   "cell_type": "code",
   "execution_count": null,
   "metadata": {},
   "outputs": [],
   "source": []
  }
 ],
 "metadata": {
  "kernelspec": {
   "display_name": "Python 3",
   "language": "python",
   "name": "python3"
  },
  "language_info": {
   "codemirror_mode": {
    "name": "ipython",
    "version": 3
   },
   "file_extension": ".py",
   "mimetype": "text/x-python",
   "name": "python",
   "nbconvert_exporter": "python",
   "pygments_lexer": "ipython3",
   "version": "3.8.2"
  }
 },
 "nbformat": 4,
 "nbformat_minor": 4
}
