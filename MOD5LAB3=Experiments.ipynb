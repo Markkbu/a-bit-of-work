{
 "cells": [
  {
   "cell_type": "code",
   "execution_count": 1,
   "metadata": {},
   "outputs": [],
   "source": [
    "import pandas as pd\n",
    "import numpy as np\n",
    "import scipy.stats as ss\n",
    "import statsmodels.stats.weightstats as ws\n",
    "from statsmodels.stats.power import tt_ind_solve_power\n",
    "from statsmodels.stats.multicomp import pairwise_tukeyhsd\n",
    "import matplotlib.pyplot as plt\n",
    "import seaborn as sns\n",
    "\n",
    "%matplotlib inline"
   ]
  },
  {
   "cell_type": "code",
   "execution_count": 2,
   "metadata": {},
   "outputs": [
    {
     "data": {
      "text/html": [
       "<div>\n",
       "<style scoped>\n",
       "    .dataframe tbody tr th:only-of-type {\n",
       "        vertical-align: middle;\n",
       "    }\n",
       "\n",
       "    .dataframe tbody tr th {\n",
       "        vertical-align: top;\n",
       "    }\n",
       "\n",
       "    .dataframe thead th {\n",
       "        text-align: right;\n",
       "    }\n",
       "</style>\n",
       "<table border=\"1\" class=\"dataframe\">\n",
       "  <thead>\n",
       "    <tr style=\"text-align: right;\">\n",
       "      <th></th>\n",
       "      <th>id</th>\n",
       "      <th>friendly</th>\n",
       "      <th>inviting</th>\n",
       "      <th>interesting</th>\n",
       "      <th>positive</th>\n",
       "      <th>pleasant</th>\n",
       "      <th>sex</th>\n",
       "      <th>logo</th>\n",
       "    </tr>\n",
       "  </thead>\n",
       "  <tbody>\n",
       "    <tr>\n",
       "      <th>0</th>\n",
       "      <td>3</td>\n",
       "      <td>9</td>\n",
       "      <td>8</td>\n",
       "      <td>9</td>\n",
       "      <td>10</td>\n",
       "      <td>9</td>\n",
       "      <td>f</td>\n",
       "      <td>Logo A</td>\n",
       "    </tr>\n",
       "    <tr>\n",
       "      <th>1</th>\n",
       "      <td>98</td>\n",
       "      <td>7</td>\n",
       "      <td>6</td>\n",
       "      <td>8</td>\n",
       "      <td>7</td>\n",
       "      <td>7</td>\n",
       "      <td>f</td>\n",
       "      <td>Logo C</td>\n",
       "    </tr>\n",
       "    <tr>\n",
       "      <th>2</th>\n",
       "      <td>73</td>\n",
       "      <td>5</td>\n",
       "      <td>3</td>\n",
       "      <td>6</td>\n",
       "      <td>6</td>\n",
       "      <td>6</td>\n",
       "      <td>m</td>\n",
       "      <td>Logo C</td>\n",
       "    </tr>\n",
       "    <tr>\n",
       "      <th>3</th>\n",
       "      <td>89</td>\n",
       "      <td>4</td>\n",
       "      <td>5</td>\n",
       "      <td>2</td>\n",
       "      <td>3</td>\n",
       "      <td>4</td>\n",
       "      <td>f</td>\n",
       "      <td>Logo C</td>\n",
       "    </tr>\n",
       "    <tr>\n",
       "      <th>4</th>\n",
       "      <td>13</td>\n",
       "      <td>8</td>\n",
       "      <td>7</td>\n",
       "      <td>9</td>\n",
       "      <td>8</td>\n",
       "      <td>6</td>\n",
       "      <td>f</td>\n",
       "      <td>Logo A</td>\n",
       "    </tr>\n",
       "  </tbody>\n",
       "</table>\n",
       "</div>"
      ],
      "text/plain": [
       "   id  friendly  inviting  interesting  positive  pleasant sex    logo\n",
       "0   3         9         8            9        10         9   f  Logo A\n",
       "1  98         7         6            8         7         7   f  Logo C\n",
       "2  73         5         3            6         6         6   m  Logo C\n",
       "3  89         4         5            2         3         4   f  Logo C\n",
       "4  13         8         7            9         8         6   f  Logo A"
      ]
     },
     "execution_count": 2,
     "metadata": {},
     "output_type": "execute_result"
    }
   ],
   "source": [
    "dat = pd.read_csv('datasets_logos.csv')\n",
    "dat.head()"
   ]
  },
  {
   "cell_type": "code",
   "execution_count": 3,
   "metadata": {},
   "outputs": [
    {
     "data": {
      "text/html": [
       "<div>\n",
       "<style scoped>\n",
       "    .dataframe tbody tr th:only-of-type {\n",
       "        vertical-align: middle;\n",
       "    }\n",
       "\n",
       "    .dataframe tbody tr th {\n",
       "        vertical-align: top;\n",
       "    }\n",
       "\n",
       "    .dataframe thead th {\n",
       "        text-align: right;\n",
       "    }\n",
       "</style>\n",
       "<table border=\"1\" class=\"dataframe\">\n",
       "  <thead>\n",
       "    <tr style=\"text-align: right;\">\n",
       "      <th></th>\n",
       "      <th>id</th>\n",
       "      <th>friendly</th>\n",
       "      <th>inviting</th>\n",
       "      <th>interesting</th>\n",
       "      <th>positive</th>\n",
       "      <th>pleasant</th>\n",
       "      <th>sex</th>\n",
       "      <th>logo</th>\n",
       "      <th>sentiment</th>\n",
       "    </tr>\n",
       "  </thead>\n",
       "  <tbody>\n",
       "    <tr>\n",
       "      <th>0</th>\n",
       "      <td>3</td>\n",
       "      <td>9</td>\n",
       "      <td>8</td>\n",
       "      <td>9</td>\n",
       "      <td>10</td>\n",
       "      <td>9</td>\n",
       "      <td>f</td>\n",
       "      <td>Logo A</td>\n",
       "      <td>9.0</td>\n",
       "    </tr>\n",
       "    <tr>\n",
       "      <th>1</th>\n",
       "      <td>98</td>\n",
       "      <td>7</td>\n",
       "      <td>6</td>\n",
       "      <td>8</td>\n",
       "      <td>7</td>\n",
       "      <td>7</td>\n",
       "      <td>f</td>\n",
       "      <td>Logo C</td>\n",
       "      <td>7.0</td>\n",
       "    </tr>\n",
       "    <tr>\n",
       "      <th>2</th>\n",
       "      <td>73</td>\n",
       "      <td>5</td>\n",
       "      <td>3</td>\n",
       "      <td>6</td>\n",
       "      <td>6</td>\n",
       "      <td>6</td>\n",
       "      <td>m</td>\n",
       "      <td>Logo C</td>\n",
       "      <td>5.2</td>\n",
       "    </tr>\n",
       "    <tr>\n",
       "      <th>3</th>\n",
       "      <td>89</td>\n",
       "      <td>4</td>\n",
       "      <td>5</td>\n",
       "      <td>2</td>\n",
       "      <td>3</td>\n",
       "      <td>4</td>\n",
       "      <td>f</td>\n",
       "      <td>Logo C</td>\n",
       "      <td>3.6</td>\n",
       "    </tr>\n",
       "    <tr>\n",
       "      <th>4</th>\n",
       "      <td>13</td>\n",
       "      <td>8</td>\n",
       "      <td>7</td>\n",
       "      <td>9</td>\n",
       "      <td>8</td>\n",
       "      <td>6</td>\n",
       "      <td>f</td>\n",
       "      <td>Logo A</td>\n",
       "      <td>7.6</td>\n",
       "    </tr>\n",
       "  </tbody>\n",
       "</table>\n",
       "</div>"
      ],
      "text/plain": [
       "   id  friendly  inviting  interesting  positive  pleasant sex    logo  \\\n",
       "0   3         9         8            9        10         9   f  Logo A   \n",
       "1  98         7         6            8         7         7   f  Logo C   \n",
       "2  73         5         3            6         6         6   m  Logo C   \n",
       "3  89         4         5            2         3         4   f  Logo C   \n",
       "4  13         8         7            9         8         6   f  Logo A   \n",
       "\n",
       "   sentiment  \n",
       "0        9.0  \n",
       "1        7.0  \n",
       "2        5.2  \n",
       "3        3.6  \n",
       "4        7.6  "
      ]
     },
     "execution_count": 3,
     "metadata": {},
     "output_type": "execute_result"
    }
   ],
   "source": [
    "dat['sentiment'] = dat[['friendly', 'inviting', 'interesting','positive','pleasant']].apply(np.mean, axis=1)\n",
    "dat.head()"
   ]
  },
  {
   "cell_type": "code",
   "execution_count": 4,
   "metadata": {},
   "outputs": [
    {
     "name": "stdout",
     "output_type": "stream",
     "text": [
      "Mean of Sentiment = 7.972\n",
      "STD of Sentiment = 1.536\n"
     ]
    }
   ],
   "source": [
    "print('Mean of Sentiment = ' + str(np.mean(dat.sentiment).round(3)))\n",
    "print('STD of Sentiment = ' + str(np.std(dat.sentiment).round(3)))"
   ]
  },
  {
   "cell_type": "code",
   "execution_count": 5,
   "metadata": {},
   "outputs": [
    {
     "data": {
      "text/plain": [
       "Text(0.5, 1.0, 'Sentiment')"
      ]
     },
     "execution_count": 5,
     "metadata": {},
     "output_type": "execute_result"
    },
    {
     "data": {
      "image/png": "[encoded data removed]",
      "text/plain": [
       "<Figure size 576x576 with 1 Axes>"
      ]
     },
     "metadata": {
      "needs_background": "light"
     },
     "output_type": "display_data"
    }
   ],
   "source": [
    "ax = plt.figure(figsize=(8,8)).gca()\n",
    "dat.sentiment.plot.hist(ax=ax, alpha= 0.6, bins= 15)\n",
    "plt.xlabel('Sentiment')\n",
    "plt.title(\"Sentiment\")"
   ]
  },
  {
   "cell_type": "code",
   "execution_count": 6,
   "metadata": {},
   "outputs": [],
   "source": [
    "#looking for missing values"
   ]
  },
  {
   "cell_type": "code",
   "execution_count": 7,
   "metadata": {},
   "outputs": [
    {
     "name": "stdout",
     "output_type": "stream",
     "text": [
      "id has missing values False\n",
      "friendly has missing values False\n",
      "inviting has missing values False\n",
      "interesting has missing values False\n",
      "positive has missing values False\n",
      "pleasant has missing values False\n",
      "sex has missing values False\n",
      "logo has missing values True\n",
      "sentiment has missing values False\n"
     ]
    }
   ],
   "source": [
    "for col in dat.columns:\n",
    "    print(col+' has missing values '+ \n",
    "         str((dat[col].isnull().values.any())) or \n",
    "          str(dat[col].isna().values.any()))"
   ]
  },
  {
   "cell_type": "code",
   "execution_count": 8,
   "metadata": {},
   "outputs": [
    {
     "name": "stdout",
     "output_type": "stream",
     "text": [
      "(100, 9)\n",
      "(99, 9)\n"
     ]
    }
   ],
   "source": [
    "#see how many and then remove them\n",
    "print(dat.shape)\n",
    "dat.dropna(subset= ['logo'], inplace=True)\n",
    "print(dat.shape)"
   ]
  },
  {
   "cell_type": "code",
   "execution_count": 9,
   "metadata": {},
   "outputs": [
    {
     "name": "stdout",
     "output_type": "stream",
     "text": [
      "id has missing values False\n",
      "friendly has missing values False\n",
      "inviting has missing values False\n",
      "interesting has missing values False\n",
      "positive has missing values False\n",
      "pleasant has missing values False\n",
      "sex has missing values False\n",
      "logo has missing values False\n",
      "sentiment has missing values False\n"
     ]
    }
   ],
   "source": [
    "#Check once more\n",
    "for col in dat.columns:\n",
    "    print(col+' has missing values '+ \n",
    "         str((dat[col].isnull().values.any())) or \n",
    "          str(dat[col].isna().values.any()))"
   ]
  },
  {
   "cell_type": "code",
   "execution_count": 10,
   "metadata": {
    "scrolled": true
   },
   "outputs": [
    {
     "data": {
      "text/plain": [
       "<matplotlib.axes._subplots.AxesSubplot at 0x7bc0f66602b0>"
      ]
     },
     "execution_count": 10,
     "metadata": {},
     "output_type": "execute_result"
    },
    {
     "data": {
      "image/png": "[encoded data removed]",
      "text/plain": [
       "<Figure size 576x576 with 1 Axes>"
      ]
     },
     "metadata": {
      "needs_background": "light"
     },
     "output_type": "display_data"
    }
   ],
   "source": [
    "ax = plt.figure(figsize=(8,8)).gca()\n",
    "sns.boxplot(x='logo', y='sentiment', data = dat, ax =ax)\n",
    "sns.swarmplot(x='logo', y='sentiment', color='black', alpha=0.4,data = dat, ax =ax)"
   ]
  },
  {
   "cell_type": "code",
   "execution_count": 11,
   "metadata": {
    "scrolled": true
   },
   "outputs": [
    {
     "name": "stdout",
     "output_type": "stream",
     "text": [
      "MEan by logo\n",
      "        sentiment\n",
      "logo             \n",
      "Logo A       8.58\n",
      "Logo B       8.44\n",
      "Logo C       7.00\n",
      "\n",
      " Standard deviation by logo\n",
      "        sentiment\n",
      "logo             \n",
      "Logo A       1.27\n",
      "Logo B       1.51\n",
      "Logo C       1.33\n"
     ]
    }
   ],
   "source": [
    "logo_grouped =dat[['logo', 'sentiment']].groupby('logo')\n",
    "\n",
    "print('MEan by logo')\n",
    "print(logo_grouped.mean().round(2))\n",
    "print('\\n Standard deviation by logo')\n",
    "print(logo_grouped.std().round(2))"
   ]
  },
  {
   "cell_type": "raw",
   "metadata": {},
   "source": [
    "Logo A and B look close together and ahead of Logo C. Of course, that is just in our sample, so it is unclear whether we can infer there are real differences in the population. For that, we need our inferential tests.\n",
    "\n",
    "Inferential Test for Two Groups\n",
    "In some experiments, you will have two groups to compare. For example, in the Module 3 lab on causal claims, we explored such an experiment. In others, you will have three or more groups. Although our overarching example is three groups, let's review this and pretend for a while that you were only comparing logos A and B to illustrate the two-group example.\n",
    "\n",
    "Whenever you compare (means of) two groups, you conduct an independent samples t-test. You can also use regression (run a regression predicting your outcome from your two-group predictor), but the t-test is commonly done and is illustrated here.\n",
    "\n",
    "Recall that Logo A did better in our sample, but is this a real difference in the population or just an artifact of random chance (due to reliance on random assignment to groups)?\n",
    "\n",
    "Recall that the null hypothesis always says that the effect is absent in the population and that the sample result is an artifact of random chance. In symbols, this means that the difference between the group averages is exactly zero in the population.\n",
    "\n",
    "𝐻0: 𝜇𝐴−𝜇𝐵=0\n",
    " \n",
    "Remember that μ refers to the population average, so this is saying that the population difference is exactly zero. Any difference observed in our sample is therefore due to random chance.\n",
    "\n",
    "We run our t-test to consider this possibility.\n",
    "\n",
    "Recall that a t-test compares the size of the observed difference ( 𝑥¯1−𝑥¯2 ) against the value in the null hypothesis (zero), divided by what is typically expected by chance:\n",
    "\n",
    "𝑡=𝑟𝑒𝑠𝑢𝑙𝑡−𝑛𝑢𝑙𝑙𝑐ℎ𝑎𝑛𝑐𝑒\n",
    " \n",
    "The top of the faction is key here. The more the data \"disagree\" with the null, the larger the t-value and hence more evidence for a logo effect. However, we also know some differences occur due to random chance, so we divide by a measure of that that to take it into account. When all is said and done, therefore, a large t-value tells you that the effect is considerably larger than expected by chance. That would be evidence for a real logo effect.\n",
    "\n",
    "How can we run our test? The default in R is to run the \"Welch\" version of the test. This version of the test does not make any assumptions about the variances of the two groups.\n",
    "\n",
    "𝑡′=𝑟𝑒𝑠𝑢𝑙𝑡−𝑛𝑢𝑙𝑙𝑐ℎ𝑎𝑛𝑐𝑒=(𝑥¯1−𝑥¯2)−0𝜎̂ 21𝑛1+𝜎̂ 22𝑛2⎯⎯⎯⎯⎯⎯⎯⎯⎯⎯⎯⎯⎯√\n",
    " \n",
    "There's no need to worry about the equation; it just implements what we said above. Notice that the bottom includes the sample variances of the two groups ( 𝜎̂ 21  and  𝜎̂ 22  .... i.e., standard deviations squared). These are kept separate in the Welch t-test, meaning that it's OK if they are different from each other.\n",
    "\n",
    "The function below computes the t-test values. Several methods from different packages are used. The two subsets of the data frame are created using the loc method:"
   ]
  },
  {
   "cell_type": "code",
   "execution_count": 13,
   "metadata": {},
   "outputs": [
    {
     "data": {
      "text/plain": [
       "DegFreedom    60.546791\n",
       "Difference     0.132008\n",
       "Statistic      0.381916\n",
       "P-Value        0.703809\n",
       "Low95CI       -0.561103\n",
       "High85CI       0.825118\n",
       "dtype: float64"
      ]
     },
     "execution_count": 13,
     "metadata": {},
     "output_type": "execute_result"
    }
   ],
   "source": [
    "def t_test_two_sample(a,b, alpha, alternative='two-sided'):\n",
    "    \n",
    "    diff = a.mean() - b.mean()\n",
    "    \n",
    "    res = ss.ttest_ind(a,b)\n",
    "    \n",
    "    means = ws.CompareMeans(ws.DescrStatsW(a),ws.DescrStatsW(b))\n",
    "    confint = means.tconfint_diff(alpha=alpha, alternative=alternative, usevar='unequal')\n",
    "    degfree = means.dof_satt()\n",
    "    \n",
    "    index = ['DegFreedom', 'Difference', 'Statistic', 'P-Value','Low95CI', 'High85CI']\n",
    "    return pd.Series([degfree, diff, res[0], res[1], confint[0], confint[1]], index=index)\n",
    "\n",
    "test = t_test_two_sample(dat.loc[dat.logo == 'Logo A','sentiment'],\n",
    "                        dat.loc[dat.logo == 'Logo B','sentiment'], 0.05)\n",
    "test\n"
   ]
  },
  {
   "cell_type": "raw",
   "metadata": {},
   "source": [
    "Conclusions\n",
    "We need to tell our team that Logo A and Logo B are statistically tied: we have no evidence for any real difference between them at the population level. But what does that mean?\n",
    "\n",
    "Before we move on: remember that any time a result is not significant, it means that either\n",
    "\n",
    "The null hypothesis is true (i.e., the two groups are exactly equal in the population)\n",
    "The effect is smaller than we have power to detect\n",
    "In fact, given our sample size, it's possible that there may still be an logo effect...and we simply missed it. Given our sample size, what can we actually say about the difference? This is given for us in the t-test output with a 95% Confidence Interval.\n",
    "\n",
    "Notice in the middle of the t-test output that a 95% CI is given to you: [-0.55 to 0.82]. This means that we are 95% confident that the true difference between the groups is somewhere between a half a point lower for Logo A and nearly a full point higher for Logo A. Thus, it is obvious this is non-significant (since a difference of zero is right in the middle of that range of plausible values).\n",
    "\n",
    "It is up to our subject matter expertise to interpret this. On a 1-10 satisfaction scale, we are confident that the they are within about .50 to .80 points of each other. That's not a very big difference in my subjective opinion. Thus, we can reasonably state that there is not a large difference between our groups, but it is possible there is still a small difference (specifically: between a half a point lower for Logo A and nearly a full point higher for Logo A).\n",
    "\n",
    "What if we wanted a more precise answer with a tighter range? Well, we would need a bigger sample size. A bigger sample has less error and therefore a more precise CI. If our higher ups wanted a more precise answer, we would need to re-run the survey with a larger sample.\n",
    "\n",
    "If Units Are Meaningless\n",
    "In this case, a 1-10 satisfaction scale has somewhat meaningful units. In some situations, this is not the case. In such situations, you can use the Cohen's d effect size statistic.\n",
    "\n",
    "Recall from an earlier module that this quantifies the size of the difference using a standard unit. Technically, that unit is standard deviations:  𝑑=𝑑𝑖𝑓𝑓𝑒𝑟𝑒𝑛𝑐𝑒𝑆𝐷=𝑥¯1−𝑥¯2𝜎 . If you don't care about formulas, you simply need to know that it rephrases the size of the difference using a common unit with a known scale to it:\n",
    "\n",
    "d Value\tMeaning\n",
    "1.\t0 - 0.2\tNegligible\n",
    "2.\t0.2 - 0.5\tSmall\n",
    "3.\t0.5 - 0.8\tMedium\n",
    "4.\t0.80 +\tLarge\n",
    "First, we should find the number of samples in each group:"
   ]
  },
  {
   "cell_type": "code",
   "execution_count": 14,
   "metadata": {},
   "outputs": [
    {
     "data": {
      "text/html": [
       "<div>\n",
       "<style scoped>\n",
       "    .dataframe tbody tr th:only-of-type {\n",
       "        vertical-align: middle;\n",
       "    }\n",
       "\n",
       "    .dataframe tbody tr th {\n",
       "        vertical-align: top;\n",
       "    }\n",
       "\n",
       "    .dataframe thead th {\n",
       "        text-align: right;\n",
       "    }\n",
       "</style>\n",
       "<table border=\"1\" class=\"dataframe\">\n",
       "  <thead>\n",
       "    <tr style=\"text-align: right;\">\n",
       "      <th></th>\n",
       "      <th>sentiment</th>\n",
       "    </tr>\n",
       "    <tr>\n",
       "      <th>logo</th>\n",
       "      <th></th>\n",
       "    </tr>\n",
       "  </thead>\n",
       "  <tbody>\n",
       "    <tr>\n",
       "      <th>Logo A</th>\n",
       "      <td>33</td>\n",
       "    </tr>\n",
       "    <tr>\n",
       "      <th>Logo B</th>\n",
       "      <td>32</td>\n",
       "    </tr>\n",
       "    <tr>\n",
       "      <th>Logo C</th>\n",
       "      <td>34</td>\n",
       "    </tr>\n",
       "  </tbody>\n",
       "</table>\n",
       "</div>"
      ],
      "text/plain": [
       "        sentiment\n",
       "logo             \n",
       "Logo A         33\n",
       "Logo B         32\n",
       "Logo C         34"
      ]
     },
     "execution_count": 14,
     "metadata": {},
     "output_type": "execute_result"
    }
   ],
   "source": [
    "logo_grouped.count()"
   ]
  },
  {
   "cell_type": "code",
   "execution_count": 15,
   "metadata": {},
   "outputs": [
    {
     "data": {
      "text/plain": [
       "0.11189360267699686"
      ]
     },
     "execution_count": 15,
     "metadata": {},
     "output_type": "execute_result"
    }
   ],
   "source": [
    "d = (8.58 - 8.44)/(np.std(dat.loc[dat.logo == 'Logo A', 'sentiment']))\n",
    "d"
   ]
  },
  {
   "cell_type": "code",
   "execution_count": 16,
   "metadata": {},
   "outputs": [
    {
     "data": {
      "text/plain": [
       "0.07252871716498967"
      ]
     },
     "execution_count": 16,
     "metadata": {},
     "output_type": "execute_result"
    }
   ],
   "source": [
    "tt_ind_solve_power(effect_size=d, nobs1=32,alpha=0.05, power= None, ratio=1, alternative='two-sided')"
   ]
  },
  {
   "cell_type": "code",
   "execution_count": 17,
   "metadata": {},
   "outputs": [
    {
     "data": {
      "text/plain": [
       "<matplotlib.axes._subplots.AxesSubplot at 0x7bc0f65670d0>"
      ]
     },
     "execution_count": 17,
     "metadata": {},
     "output_type": "execute_result"
    },
    {
     "data": {
      "image/png": "[encoded data removed]",
      "text/plain": [
       "<Figure size 576x576 with 1 Axes>"
      ]
     },
     "metadata": {
      "needs_background": "light"
     },
     "output_type": "display_data"
    }
   ],
   "source": [
    "ax = plt.figure(figsize=(8,8)).gca() # define axis\n",
    "temp = dat[dat.logo != 'Logo C']\n",
    "sns.boxplot(x = 'logo', y = 'sentiment', data = temp, ax = ax)\n",
    "sns.swarmplot(x = 'logo', y = 'sentiment', color = 'black', data = temp, ax = ax, alpha = 0.4)"
   ]
  },
  {
   "cell_type": "code",
   "execution_count": 18,
   "metadata": {},
   "outputs": [
    {
     "data": {
      "text/plain": [
       "0.711479964061509"
      ]
     },
     "execution_count": 18,
     "metadata": {},
     "output_type": "execute_result"
    }
   ],
   "source": [
    "tt_ind_solve_power(effect_size=None, nobs1=32,alpha=0.05, power= .8, ratio=1, alternative='two-sided')"
   ]
  },
  {
   "cell_type": "code",
   "execution_count": 19,
   "metadata": {},
   "outputs": [
    {
     "data": {
      "text/plain": [
       "393.4056989990335"
      ]
     },
     "execution_count": 19,
     "metadata": {},
     "output_type": "execute_result"
    }
   ],
   "source": [
    "tt_ind_solve_power(effect_size=.2, nobs1=None,alpha=0.05, power= .8, ratio=1, alternative='two-sided')"
   ]
  },
  {
   "cell_type": "raw",
   "metadata": {},
   "source": [
    "Example 1: Inferential Test for Three Groups\n",
    "The previous example considered only two groups: Logo A and Logo B. However, we had three logos in our study.\n",
    "\n",
    "When three or more groups are present, we switch from a t-test to ANOVA (ANalysis Of VAriance).\n",
    "\n",
    "The ANOVA is a two stage analysis. In the first stage, we test whether we can the logo mattered at all (i.e., null hypothesis says there were no differences: H0 : μA = μB = μC). If that comes up significant, we can systematically compare the logos.\n",
    "\n",
    "In this example, I assume you are familiar with ANOVA. An overview of the math behind ANOVA goes beyond the scope of this lab. Essentially, ANOVA computes the F statistic, which yields a p-value for the null hypothesis that all the groups are equal. If we can reject that null hypothesis, it means the logo is doing something. I illustrate this next.\n",
    "\n",
    "The f_oneway function from the scipy.stats package computes the F-Statistic and p-value for two or more groups. In this case, the groups are subsets defined by the three logos being tested:"
   ]
  },
  {
   "cell_type": "code",
   "execution_count": 20,
   "metadata": {},
   "outputs": [
    {
     "name": "stdout",
     "output_type": "stream",
     "text": [
      "F-Satatistic = 13.611076880502567\n",
      "p_value = 6.251108050657806e-06\n"
     ]
    }
   ],
   "source": [
    "f_statistic, p_value = ss.f_oneway(dat.loc[dat.logo == 'Logo A', 'sentiment'],\n",
    "                                   dat.loc[dat.logo == 'Logo B', 'sentiment'],\n",
    "                                   dat.loc[dat.logo == 'Logo C', 'sentiment'])\n",
    "print('F-Satatistic = ' + str(f_statistic))\n",
    "print('p_value = ' + str(p_value))"
   ]
  },
  {
   "cell_type": "raw",
   "metadata": {},
   "source": [
    "This first step tests the null hypothesis that all the group means are equall ... in other words that the logo doesn't matter at all. In this case, the p value is 6.25e-06 (aka 0.00000625). This is highly statistically significant (p < .05). By definition, this means that we could only get a logo effect this big 0.000625% of the time by random chance alone. So we are confident the logo is doing something.\n",
    "\n",
    "Why did we bother with the test described above? Consider what would happen had we done several t-tests. There were three possible t-tests we could have conducted, each of which has the possibility of giving us a false positive. If we were to run many tests, we would likely stumble across a false-positive eventually. Thus, we appreciate the ability to conduct a single overall test to tell us our logo is doing something.\n",
    "\n",
    "The next step is to figure out where the differences are. Recall we made a table of results earlier with using the Pandas groupby and mean() methods.\n",
    "\n",
    "To avoid the issue described above, we use a special test (there are many; I cover Tukey's HSD here) that takes into account the number of comparisons we want to make. We wish to make 3 comparisons:\n",
    "\n",
    "A vs. B\n",
    "A vs. C\n",
    "B vs. C\n",
    "Tukey's test knows how many comparisons we want to make. It inflates our p-values on each test, making it harder to detect a difference for any one comparison. This reduces our likelihood of making a false positive on any one comparison, counteracting the problem of running multiple tests. Neat!\n",
    "\n",
    "It is easy to run. The pairwise_tukeyhsd from the statsmodels.stats.multicomp package computes these differences:"
   ]
  },
  {
   "cell_type": "code",
   "execution_count": 21,
   "metadata": {},
   "outputs": [
    {
     "name": "stdout",
     "output_type": "stream",
     "text": [
      "Multiple Comparison of Means - Tukey HSD, FWER=0.05\n",
      "===================================================\n",
      "group1 group2 meandiff p-adj  lower   upper  reject\n",
      "---------------------------------------------------\n",
      "Logo A Logo B   -0.132   0.9 -0.9423  0.6783  False\n",
      "Logo A Logo C  -1.5758 0.001 -2.3739 -0.7776   True\n",
      "Logo B Logo C  -1.4438 0.001 -2.2482 -0.6393   True\n",
      "---------------------------------------------------\n"
     ]
    }
   ],
   "source": [
    "Tukey_HSD = pairwise_tukeyhsd(dat.sentiment, dat.logo)\n",
    "print(Tukey_HSD)"
   ]
  },
  {
   "cell_type": "raw",
   "metadata": {},
   "source": [
    "The output above also gave us difference scores + 95% CIs. Very handy:\n",
    "\n",
    "Group A vs. B = not significant. Logo B was 0.13 points lower than Logo A. We are 95% confident the true difference is between -0.94 and 0.68. This includes zero, so we cannot declare a difference between Logo B and Logo A.\n",
    "\n",
    "Group A vs. C = highly significant. Logo C was 1.58 points lower than Logo A. We are 95% confident the true difference is between -2.37 and -0.78.\n",
    "\n",
    "Group B vs C = highly significant. Logo C was 1.44 points lower than Logo A. We are 95% confident the true difference is between -2.25 and -0.64.\n",
    "\n",
    "As in the t-test example above, we see the confidence intervals are helpful. If we wanted more precise CIs, we need a larger sample.\n",
    "\n",
    "We can see these confidence intervals for each of the means visually by applying the plot_simultaneous method:"
   ]
  },
  {
   "cell_type": "code",
   "execution_count": 22,
   "metadata": {},
   "outputs": [
    {
     "name": "stdout",
     "output_type": "stream",
     "text": [
      " Mean by logo\n",
      "        sentiment\n",
      "logo             \n",
      "Logo A       8.58\n",
      "Logo B       8.44\n",
      "Logo C       7.00\n",
      "\n",
      " Standard deviation by logo\n",
      "        sentiment\n",
      "logo             \n",
      "Logo A       1.27\n",
      "Logo B       1.51\n",
      "Logo C       1.33\n"
     ]
    }
   ],
   "source": [
    "logo_grouped = dat[['logo','sentiment']].groupby('logo')\n",
    "\n",
    "print(' Mean by logo')\n",
    "print(logo_grouped.mean().round(2))\n",
    "print('\\n Standard deviation by logo')\n",
    "print(logo_grouped.std().round(2))"
   ]
  },
  {
   "cell_type": "markdown",
   "metadata": {},
   "source": [
    "# Suggested final report"
   ]
  },
  {
   "cell_type": "raw",
   "metadata": {},
   "source": [
    "An ANOVA revealed a signifiant effect of logo on sentiment (F = 13.61, p < .001). As shown in the table above, Logos A and B were similar in sentiment, while Logo C had reduced sentiment. The pattern of results was such that Logos A and B were statistically tied, and both performed better than Logo C. Further, the confidence intervals computed with the Tukey HSD test supports this conclusion.\n"
   ]
  },
  {
   "cell_type": "raw",
   "metadata": {},
   "source": [
    "Given the number of results, one could then report the CIs or p-values above in a table or in paragraph form. It is possible to go into the same level of detail as for the t-test, but people usually don't, as it becomes exponentially more complicated with all the comparisons going on."
   ]
  }
 ],
 "metadata": {
  "kernelspec": {
   "display_name": "Python 3",
   "language": "python",
   "name": "python3"
  },
  "language_info": {
   "codemirror_mode": {
    "name": "ipython",
    "version": 3
   },
   "file_extension": ".py",
   "mimetype": "text/x-python",
   "name": "python",
   "nbconvert_exporter": "python",
   "pygments_lexer": "ipython3",
   "version": "3.8.2"
  }
 },
 "nbformat": 4,
 "nbformat_minor": 4
}
