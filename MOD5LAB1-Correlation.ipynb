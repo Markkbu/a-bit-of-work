{
 "cells": [
  {
   "cell_type": "code",
   "execution_count": 1,
   "metadata": {},
   "outputs": [],
   "source": [
    "import pandas as pd\n",
    "import numpy as np\n",
    "import scipy.stats as ss\n",
    "import math\n",
    "import scipy.cluster.hierarchy as sch\n",
    "import seaborn as sns\n",
    "import matplotlib.pyplot as plt\n",
    "\n",
    "%matplotlib inline"
   ]
  },
  {
   "cell_type": "code",
   "execution_count": 2,
   "metadata": {},
   "outputs": [],
   "source": [
    "dat = pd.read_csv('datasets_regionalhappy.csv')"
   ]
  },
  {
   "cell_type": "code",
   "execution_count": 3,
   "metadata": {},
   "outputs": [
    {
     "data": {
      "text/html": [
       "<div>\n",
       "<style scoped>\n",
       "    .dataframe tbody tr th:only-of-type {\n",
       "        vertical-align: middle;\n",
       "    }\n",
       "\n",
       "    .dataframe tbody tr th {\n",
       "        vertical-align: top;\n",
       "    }\n",
       "\n",
       "    .dataframe thead th {\n",
       "        text-align: right;\n",
       "    }\n",
       "</style>\n",
       "<table border=\"1\" class=\"dataframe\">\n",
       "  <thead>\n",
       "    <tr style=\"text-align: right;\">\n",
       "      <th></th>\n",
       "      <th>Happiness.Score</th>\n",
       "      <th>Economy..GDP.per.Capita.</th>\n",
       "      <th>Family</th>\n",
       "      <th>Health..Life.Expectancy.</th>\n",
       "      <th>Freedom</th>\n",
       "      <th>Generosity</th>\n",
       "      <th>Trust..Government.Corruption.</th>\n",
       "      <th>Dystopia.Residual</th>\n",
       "    </tr>\n",
       "  </thead>\n",
       "  <tbody>\n",
       "    <tr>\n",
       "      <th>0</th>\n",
       "      <td>7.537</td>\n",
       "      <td>1.616463</td>\n",
       "      <td>1.533524</td>\n",
       "      <td>0.796667</td>\n",
       "      <td>0.635423</td>\n",
       "      <td>0.362012</td>\n",
       "      <td>0.315964</td>\n",
       "      <td>2.277027</td>\n",
       "    </tr>\n",
       "    <tr>\n",
       "      <th>1</th>\n",
       "      <td>7.522</td>\n",
       "      <td>1.482383</td>\n",
       "      <td>1.551122</td>\n",
       "      <td>0.792566</td>\n",
       "      <td>0.626007</td>\n",
       "      <td>0.355280</td>\n",
       "      <td>0.400770</td>\n",
       "      <td>2.313707</td>\n",
       "    </tr>\n",
       "    <tr>\n",
       "      <th>2</th>\n",
       "      <td>7.504</td>\n",
       "      <td>1.480633</td>\n",
       "      <td>1.610574</td>\n",
       "      <td>0.833552</td>\n",
       "      <td>0.627163</td>\n",
       "      <td>0.475540</td>\n",
       "      <td>0.153527</td>\n",
       "      <td>2.322715</td>\n",
       "    </tr>\n",
       "    <tr>\n",
       "      <th>3</th>\n",
       "      <td>7.494</td>\n",
       "      <td>1.564980</td>\n",
       "      <td>1.516912</td>\n",
       "      <td>0.858131</td>\n",
       "      <td>0.620071</td>\n",
       "      <td>0.290549</td>\n",
       "      <td>0.367007</td>\n",
       "      <td>2.276716</td>\n",
       "    </tr>\n",
       "    <tr>\n",
       "      <th>4</th>\n",
       "      <td>7.469</td>\n",
       "      <td>1.443572</td>\n",
       "      <td>1.540247</td>\n",
       "      <td>0.809158</td>\n",
       "      <td>0.617951</td>\n",
       "      <td>0.245483</td>\n",
       "      <td>0.382612</td>\n",
       "      <td>2.430182</td>\n",
       "    </tr>\n",
       "  </tbody>\n",
       "</table>\n",
       "</div>"
      ],
      "text/plain": [
       "   Happiness.Score  Economy..GDP.per.Capita.    Family  \\\n",
       "0            7.537                  1.616463  1.533524   \n",
       "1            7.522                  1.482383  1.551122   \n",
       "2            7.504                  1.480633  1.610574   \n",
       "3            7.494                  1.564980  1.516912   \n",
       "4            7.469                  1.443572  1.540247   \n",
       "\n",
       "   Health..Life.Expectancy.   Freedom  Generosity  \\\n",
       "0                  0.796667  0.635423    0.362012   \n",
       "1                  0.792566  0.626007    0.355280   \n",
       "2                  0.833552  0.627163    0.475540   \n",
       "3                  0.858131  0.620071    0.290549   \n",
       "4                  0.809158  0.617951    0.245483   \n",
       "\n",
       "   Trust..Government.Corruption.  Dystopia.Residual  \n",
       "0                       0.315964           2.277027  \n",
       "1                       0.400770           2.313707  \n",
       "2                       0.153527           2.322715  \n",
       "3                       0.367007           2.276716  \n",
       "4                       0.382612           2.430182  "
      ]
     },
     "execution_count": 3,
     "metadata": {},
     "output_type": "execute_result"
    }
   ],
   "source": [
    "dat.head()"
   ]
  },
  {
   "cell_type": "code",
   "execution_count": 4,
   "metadata": {},
   "outputs": [
    {
     "data": {
      "text/plain": [
       "Index(['Happiness.Score', 'Economy..GDP.per.Capita.', 'Family',\n",
       "       'Health..Life.Expectancy.', 'Freedom', 'Generosity',\n",
       "       'Trust..Government.Corruption.', 'Dystopia.Residual'],\n",
       "      dtype='object')"
      ]
     },
     "execution_count": 4,
     "metadata": {},
     "output_type": "execute_result"
    }
   ],
   "source": [
    "dat.columns"
   ]
  },
  {
   "cell_type": "code",
   "execution_count": 5,
   "metadata": {},
   "outputs": [],
   "source": [
    "dat.columns = ['Happiness', 'GDP', 'Family', 'Life_Exp','Freedom', 'Generosity', 'Trust_Gov', 'Dystopia']"
   ]
  },
  {
   "cell_type": "code",
   "execution_count": 6,
   "metadata": {},
   "outputs": [
    {
     "data": {
      "text/html": [
       "<div>\n",
       "<style scoped>\n",
       "    .dataframe tbody tr th:only-of-type {\n",
       "        vertical-align: middle;\n",
       "    }\n",
       "\n",
       "    .dataframe tbody tr th {\n",
       "        vertical-align: top;\n",
       "    }\n",
       "\n",
       "    .dataframe thead th {\n",
       "        text-align: right;\n",
       "    }\n",
       "</style>\n",
       "<table border=\"1\" class=\"dataframe\">\n",
       "  <thead>\n",
       "    <tr style=\"text-align: right;\">\n",
       "      <th></th>\n",
       "      <th>Happiness</th>\n",
       "      <th>GDP</th>\n",
       "      <th>Family</th>\n",
       "      <th>Life_Exp</th>\n",
       "      <th>Freedom</th>\n",
       "      <th>Generosity</th>\n",
       "      <th>Trust_Gov</th>\n",
       "      <th>Dystopia</th>\n",
       "    </tr>\n",
       "  </thead>\n",
       "  <tbody>\n",
       "    <tr>\n",
       "      <th>0</th>\n",
       "      <td>7.537</td>\n",
       "      <td>1.616463</td>\n",
       "      <td>1.533524</td>\n",
       "      <td>0.796667</td>\n",
       "      <td>0.635423</td>\n",
       "      <td>0.362012</td>\n",
       "      <td>0.315964</td>\n",
       "      <td>2.277027</td>\n",
       "    </tr>\n",
       "    <tr>\n",
       "      <th>1</th>\n",
       "      <td>7.522</td>\n",
       "      <td>1.482383</td>\n",
       "      <td>1.551122</td>\n",
       "      <td>0.792566</td>\n",
       "      <td>0.626007</td>\n",
       "      <td>0.355280</td>\n",
       "      <td>0.400770</td>\n",
       "      <td>2.313707</td>\n",
       "    </tr>\n",
       "    <tr>\n",
       "      <th>2</th>\n",
       "      <td>7.504</td>\n",
       "      <td>1.480633</td>\n",
       "      <td>1.610574</td>\n",
       "      <td>0.833552</td>\n",
       "      <td>0.627163</td>\n",
       "      <td>0.475540</td>\n",
       "      <td>0.153527</td>\n",
       "      <td>2.322715</td>\n",
       "    </tr>\n",
       "    <tr>\n",
       "      <th>3</th>\n",
       "      <td>7.494</td>\n",
       "      <td>1.564980</td>\n",
       "      <td>1.516912</td>\n",
       "      <td>0.858131</td>\n",
       "      <td>0.620071</td>\n",
       "      <td>0.290549</td>\n",
       "      <td>0.367007</td>\n",
       "      <td>2.276716</td>\n",
       "    </tr>\n",
       "    <tr>\n",
       "      <th>4</th>\n",
       "      <td>7.469</td>\n",
       "      <td>1.443572</td>\n",
       "      <td>1.540247</td>\n",
       "      <td>0.809158</td>\n",
       "      <td>0.617951</td>\n",
       "      <td>0.245483</td>\n",
       "      <td>0.382612</td>\n",
       "      <td>2.430182</td>\n",
       "    </tr>\n",
       "  </tbody>\n",
       "</table>\n",
       "</div>"
      ],
      "text/plain": [
       "   Happiness       GDP    Family  Life_Exp   Freedom  Generosity  Trust_Gov  \\\n",
       "0      7.537  1.616463  1.533524  0.796667  0.635423    0.362012   0.315964   \n",
       "1      7.522  1.482383  1.551122  0.792566  0.626007    0.355280   0.400770   \n",
       "2      7.504  1.480633  1.610574  0.833552  0.627163    0.475540   0.153527   \n",
       "3      7.494  1.564980  1.516912  0.858131  0.620071    0.290549   0.367007   \n",
       "4      7.469  1.443572  1.540247  0.809158  0.617951    0.245483   0.382612   \n",
       "\n",
       "   Dystopia  \n",
       "0  2.277027  \n",
       "1  2.313707  \n",
       "2  2.322715  \n",
       "3  2.276716  \n",
       "4  2.430182  "
      ]
     },
     "execution_count": 6,
     "metadata": {},
     "output_type": "execute_result"
    }
   ],
   "source": [
    "dat.head()"
   ]
  },
  {
   "cell_type": "code",
   "execution_count": 8,
   "metadata": {},
   "outputs": [
    {
     "data": {
      "text/html": [
       "<div>\n",
       "<style scoped>\n",
       "    .dataframe tbody tr th:only-of-type {\n",
       "        vertical-align: middle;\n",
       "    }\n",
       "\n",
       "    .dataframe tbody tr th {\n",
       "        vertical-align: top;\n",
       "    }\n",
       "\n",
       "    .dataframe thead th {\n",
       "        text-align: right;\n",
       "    }\n",
       "</style>\n",
       "<table border=\"1\" class=\"dataframe\">\n",
       "  <thead>\n",
       "    <tr style=\"text-align: right;\">\n",
       "      <th></th>\n",
       "      <th>Happiness</th>\n",
       "      <th>Life_Exp</th>\n",
       "    </tr>\n",
       "  </thead>\n",
       "  <tbody>\n",
       "    <tr>\n",
       "      <th>Happiness</th>\n",
       "      <td>1.000000</td>\n",
       "      <td>0.781951</td>\n",
       "    </tr>\n",
       "    <tr>\n",
       "      <th>Life_Exp</th>\n",
       "      <td>0.781951</td>\n",
       "      <td>1.000000</td>\n",
       "    </tr>\n",
       "  </tbody>\n",
       "</table>\n",
       "</div>"
      ],
      "text/plain": [
       "           Happiness  Life_Exp\n",
       "Happiness   1.000000  0.781951\n",
       "Life_Exp    0.781951  1.000000"
      ]
     },
     "execution_count": 8,
     "metadata": {},
     "output_type": "execute_result"
    }
   ],
   "source": [
    "corr_mat = dat[['Happiness','Life_Exp']].corr()\n",
    "corr_mat"
   ]
  },
  {
   "cell_type": "code",
   "execution_count": 10,
   "metadata": {},
   "outputs": [
    {
     "data": {
      "text/plain": [
       "<matplotlib.axes._subplots.AxesSubplot at 0x7b4f310461c0>"
      ]
     },
     "execution_count": 10,
     "metadata": {},
     "output_type": "execute_result"
    },
    {
     "data": {
      "image/png": "[encoded data removed]",
      "text/plain": [
       "<Figure size 576x576 with 1 Axes>"
      ]
     },
     "metadata": {
      "needs_background": "light"
     },
     "output_type": "display_data"
    }
   ],
   "source": [
    "ax = plt.figure(figsize=(8,8)).gca()\n",
    "dat.plot.scatter(x='Happiness', y = 'Life_Exp', ax=ax, alpha =.4)"
   ]
  },
  {
   "cell_type": "code",
   "execution_count": 12,
   "metadata": {},
   "outputs": [
    {
     "name": "stdout",
     "output_type": "stream",
     "text": [
      "Correlation = 0.782 with CI of 0.757 to 0.805 and p_value 3.213e-33\n"
     ]
    }
   ],
   "source": [
    "def r_z(r): ## transform distribution\n",
    "    return math.log((1 + r) / (1 - r)) / 2.0\n",
    "\n",
    "def z_r(z): ## inverse transform distribution \n",
    "    e = math.exp(2 * z)\n",
    "    return((e - 1) / (e + 1))\n",
    "\n",
    "def r_conf_int(r, alpha, n):\n",
    "    # Transform r to z space\n",
    "    z = r_z(r)\n",
    "    # Compute standard error and critcal value in z\n",
    "    se = 1.0 / math.sqrt(n - 3)\n",
    "    z_crit = ss.norm.ppf(1 - alpha/2)\n",
    "\n",
    "    ## Compute CIs with transform to r\n",
    "    lo = z_r(z - z_crit * se)\n",
    "    hi = z_r(z + z_crit * se)\n",
    "    return (lo, hi)\n",
    "\n",
    "def correlation_sig(df, col1, col2):\n",
    "    pearson_cor = ss.pearsonr(x = df[col1], y = dat[col2])\n",
    "    conf_ints = r_conf_int(pearson_cor[0], 0.05, 1000)\n",
    "    print('Correlation = %4.3f with CI of %4.3f to %4.3f and p_value %4.3e' \n",
    "        % (pearson_cor[0], conf_ints[0], conf_ints[1], pearson_cor[1]))\n",
    "    \n",
    "correlation_sig(dat, 'Happiness', 'Life_Exp')    "
   ]
  },
  {
   "cell_type": "code",
   "execution_count": 13,
   "metadata": {},
   "outputs": [],
   "source": [
    "#Since Correlation works best with normally distributed data, let's check for skewness."
   ]
  },
  {
   "cell_type": "code",
   "execution_count": 14,
   "metadata": {
    "scrolled": true
   },
   "outputs": [
    {
     "data": {
      "text/plain": [
       "Text(0.5, 0, 'Happiness')"
      ]
     },
     "execution_count": 14,
     "metadata": {},
     "output_type": "execute_result"
    },
    {
     "data": {
      "image/png": "[encoded data removed]",
      "text/plain": [
       "<Figure size 576x432 with 1 Axes>"
      ]
     },
     "metadata": {
      "needs_background": "light"
     },
     "output_type": "display_data"
    }
   ],
   "source": [
    "ax = plt.figure(figsize=(8, 6)).gca() # define axis\n",
    "dat.Happiness.plot.hist(ax = ax, alpha = 0.4)\n",
    "plt.title('Histogram of Happiness')\n",
    "plt.xlabel('Happiness')"
   ]
  },
  {
   "cell_type": "code",
   "execution_count": 15,
   "metadata": {},
   "outputs": [
    {
     "data": {
      "text/plain": [
       "Text(0.5, 0, 'Life Expectancy')"
      ]
     },
     "execution_count": 15,
     "metadata": {},
     "output_type": "execute_result"
    },
    {
     "data": {
      "image/png": "[encoded data removed]",
      "text/plain": [
       "<Figure size 576x432 with 1 Axes>"
      ]
     },
     "metadata": {
      "needs_background": "light"
     },
     "output_type": "display_data"
    }
   ],
   "source": [
    "ax = plt.figure(figsize=(8, 6)).gca() # define axis\n",
    "dat.Life_Exp.plot.hist(ax = ax, alpha = 0.4)\n",
    "plt.title('Histogram of Life Expectancy')\n",
    "plt.xlabel('Life Expectancy')"
   ]
  },
  {
   "cell_type": "code",
   "execution_count": 16,
   "metadata": {},
   "outputs": [
    {
     "data": {
      "text/plain": [
       "'We see here that both variables are decently normally distributed, but life expectancy \\nis possibly negative skewed (i.e., \"skew left\"). We can get a metric of the skew using the skewtest() \\nfunction from the Scipy.Stats package:'"
      ]
     },
     "execution_count": 16,
     "metadata": {},
     "output_type": "execute_result"
    }
   ],
   "source": [
    "'''We see here that both variables are decently normally distributed, but life expectancy \n",
    "is possibly negative skewed (i.e., \"skew left\"). We can get a metric of the skew using the skewtest() \n",
    "function from the Scipy.Stats package:'''"
   ]
  },
  {
   "cell_type": "code",
   "execution_count": 17,
   "metadata": {},
   "outputs": [
    {
     "data": {
      "text/plain": [
       "SkewtestResult(statistic=0.05018342604501572, pvalue=0.9599762190117113)"
      ]
     },
     "execution_count": 17,
     "metadata": {},
     "output_type": "execute_result"
    }
   ],
   "source": [
    "skew = ss.skewtest(dat.Happiness)\n",
    "skew\n"
   ]
  },
  {
   "cell_type": "code",
   "execution_count": 18,
   "metadata": {},
   "outputs": [
    {
     "data": {
      "text/plain": [
       "SkewtestResult(statistic=-2.8528836098343473, pvalue=0.0043324486370550416)"
      ]
     },
     "execution_count": 18,
     "metadata": {},
     "output_type": "execute_result"
    }
   ],
   "source": [
    "skew = ss.skewtest(dat.Life_Exp)\n",
    "skew"
   ]
  },
  {
   "cell_type": "code",
   "execution_count": 19,
   "metadata": {},
   "outputs": [],
   "source": [
    "#We can see that Life_Exp has a negative skew. So let's reverse it."
   ]
  },
  {
   "cell_type": "code",
   "execution_count": 20,
   "metadata": {},
   "outputs": [],
   "source": [
    "dat['Life_Exp2']= max(dat.Life_Exp) + 1 - dat.Life_Exp"
   ]
  },
  {
   "cell_type": "code",
   "execution_count": 21,
   "metadata": {},
   "outputs": [],
   "source": [
    "#now let's look at it"
   ]
  },
  {
   "cell_type": "code",
   "execution_count": 22,
   "metadata": {},
   "outputs": [
    {
     "data": {
      "text/plain": [
       "Text(0.5, 0, 'Reversed Life Expectancy')"
      ]
     },
     "execution_count": 22,
     "metadata": {},
     "output_type": "execute_result"
    },
    {
     "data": {
      "image/png": "[encoded data removed]",
      "text/plain": [
       "<Figure size 576x432 with 1 Axes>"
      ]
     },
     "metadata": {
      "needs_background": "light"
     },
     "output_type": "display_data"
    }
   ],
   "source": [
    "ax = plt.figure(figsize=(8, 6)).gca() # define axis\n",
    "dat.Life_Exp2.plot.hist(ax = ax, alpha = 0.4)\n",
    "plt.title('Histogram of reversed Life Expectancy')\n",
    "plt.xlabel('Reversed Life Expectancy')"
   ]
  },
  {
   "cell_type": "code",
   "execution_count": 23,
   "metadata": {},
   "outputs": [
    {
     "data": {
      "text/plain": [
       "'Now we can perform any number of operations. The square root is the most mild transformation. We \\ncan also take the natural log of every score (no values may be zero!). \\nIn general, these operations reduce big numbers more than small numbers and thus rein in the long tail. \\nThe Pandas apply method is used to apply the math.sqrt function to each element of Life_Exp2.'"
      ]
     },
     "execution_count": 23,
     "metadata": {},
     "output_type": "execute_result"
    }
   ],
   "source": [
    "'''Now we can perform any number of operations. The square root is the most mild transformation. We \n",
    "can also take the natural log of every score (no values may be zero!). \n",
    "In general, these operations reduce big numbers more than small numbers and thus rein in the long tail. \n",
    "The Pandas apply method is used to apply the math.sqrt function to each element of Life_Exp2.'''"
   ]
  },
  {
   "cell_type": "code",
   "execution_count": 26,
   "metadata": {
    "scrolled": true
   },
   "outputs": [
    {
     "data": {
      "text/plain": [
       "Text(0.5, 0, 'Reversed Life Expectancy squared')"
      ]
     },
     "execution_count": 26,
     "metadata": {},
     "output_type": "execute_result"
    },
    {
     "data": {
      "image/png": "[encoded data removed]",
      "text/plain": [
       "<Figure size 576x432 with 1 Axes>"
      ]
     },
     "metadata": {
      "needs_background": "light"
     },
     "output_type": "display_data"
    }
   ],
   "source": [
    "## Square the reversed variable\n",
    "dat['Life_Expect2_sqrt'] = dat.Life_Exp2.apply(math.sqrt)\n",
    "\n",
    "ax = plt.figure(figsize=(8, 6)).gca() # define axis\n",
    "dat.Life_Expect2_sqrt.plot.hist(ax = ax, alpha = 0.4)\n",
    "plt.title('Histogram of reversed Life Expectancy squared')\n",
    "plt.xlabel('Reversed Life Expectancy squared')"
   ]
  },
  {
   "cell_type": "code",
   "execution_count": 27,
   "metadata": {},
   "outputs": [
    {
     "name": "stdout",
     "output_type": "stream",
     "text": [
      "Correlation = 0.786 with CI of 0.762 to 0.809 and p_value 7.978e-34\n"
     ]
    }
   ],
   "source": [
    "## un-reverse the variable\n",
    "dat['Life_Expect2']= max(dat.Life_Expect2_sqrt) + 1 - dat.Life_Expect2_sqrt\n",
    "\n",
    "## compute correlation of new variable and test statistics\n",
    "correlation_sig(dat, 'Happiness', 'Life_Expect2')  "
   ]
  },
  {
   "cell_type": "code",
   "execution_count": 28,
   "metadata": {},
   "outputs": [
    {
     "data": {
      "text/plain": [
       "\"We see here the results barely changed. In this case, that wasn't really necessary because the \\nvariable was not that skewed to begin with. You will find, in many cases, that it \\nis very helpful, however. In those cases, there are many online guides to data transformation.\""
      ]
     },
     "execution_count": 28,
     "metadata": {},
     "output_type": "execute_result"
    }
   ],
   "source": [
    "'''We see here the results barely changed. In this case, that wasn't really necessary because the \n",
    "variable was not that skewed to begin with. You will find, in many cases, that it \n",
    "is very helpful, however. In those cases, there are many online guides to data transformation.'''"
   ]
  },
  {
   "cell_type": "code",
   "execution_count": 29,
   "metadata": {},
   "outputs": [
    {
     "data": {
      "text/html": [
       "<div>\n",
       "<style scoped>\n",
       "    .dataframe tbody tr th:only-of-type {\n",
       "        vertical-align: middle;\n",
       "    }\n",
       "\n",
       "    .dataframe tbody tr th {\n",
       "        vertical-align: top;\n",
       "    }\n",
       "\n",
       "    .dataframe thead th {\n",
       "        text-align: right;\n",
       "    }\n",
       "</style>\n",
       "<table border=\"1\" class=\"dataframe\">\n",
       "  <thead>\n",
       "    <tr style=\"text-align: right;\">\n",
       "      <th></th>\n",
       "      <th>Happiness</th>\n",
       "      <th>Life_Exp</th>\n",
       "      <th>Generosity</th>\n",
       "    </tr>\n",
       "  </thead>\n",
       "  <tbody>\n",
       "    <tr>\n",
       "      <th>Happiness</th>\n",
       "      <td>1.000000</td>\n",
       "      <td>0.781951</td>\n",
       "      <td>0.155256</td>\n",
       "    </tr>\n",
       "    <tr>\n",
       "      <th>Life_Exp</th>\n",
       "      <td>0.781951</td>\n",
       "      <td>1.000000</td>\n",
       "      <td>0.063191</td>\n",
       "    </tr>\n",
       "    <tr>\n",
       "      <th>Generosity</th>\n",
       "      <td>0.155256</td>\n",
       "      <td>0.063191</td>\n",
       "      <td>1.000000</td>\n",
       "    </tr>\n",
       "  </tbody>\n",
       "</table>\n",
       "</div>"
      ],
      "text/plain": [
       "            Happiness  Life_Exp  Generosity\n",
       "Happiness    1.000000  0.781951    0.155256\n",
       "Life_Exp     0.781951  1.000000    0.063191\n",
       "Generosity   0.155256  0.063191    1.000000"
      ]
     },
     "execution_count": 29,
     "metadata": {},
     "output_type": "execute_result"
    }
   ],
   "source": [
    "dat[['Happiness', 'Life_Exp', 'Generosity']].corr()"
   ]
  },
  {
   "cell_type": "code",
   "execution_count": 30,
   "metadata": {},
   "outputs": [
    {
     "data": {
      "text/plain": [
       "<matplotlib.axes._subplots.AxesSubplot at 0x7b4f30b51d30>"
      ]
     },
     "execution_count": 30,
     "metadata": {},
     "output_type": "execute_result"
    },
    {
     "data": {
      "image/png": "[encoded data removed]",
      "text/plain": [
       "<Figure size 432x288 with 2 Axes>"
      ]
     },
     "metadata": {
      "needs_background": "light"
     },
     "output_type": "display_data"
    }
   ],
   "source": [
    "## Compute the correlation matrix\n",
    "corrs = dat.drop(['Life_Expect2', 'Life_Expect2_sqrt'], axis = 1).corr()\n",
    "\n",
    "## Create the hierarchical clustering model\n",
    "dist = sch.distance.pdist(corrs)   # vector of pairwise distances using correlations\n",
    "linkage = sch.linkage(dist, method='complete') # Compute the linkages for the clusters\n",
    "ind = sch.fcluster(linkage, 0.5*dist.max(), 'distance')  # Apply the clustering algorithm\n",
    "\n",
    "## Order the columns of the correlaton matrix according to the hierarchy\n",
    "columns = [corrs.columns.tolist()[i] for i in list((np.argsort(ind)))]  # Order the names for the result\n",
    "corrs_clustered = corrs.reindex(columns) ## Reindex the columns following the heirarchy \n",
    "\n",
    "## Plot a heat map of the clustered correlations\n",
    "sns.heatmap(corrs_clustered, \n",
    "            xticklabels=corrs_clustered.columns.values,\n",
    "            yticklabels=corrs_clustered.columns.values)"
   ]
  },
  {
   "cell_type": "code",
   "execution_count": 36,
   "metadata": {},
   "outputs": [
    {
     "data": {
      "text/plain": [
       "array([1, 1, 1, 1, 2, 2, 2, 2, 3], dtype=int32)"
      ]
     },
     "execution_count": 36,
     "metadata": {},
     "output_type": "execute_result"
    }
   ],
   "source": [
    "ind"
   ]
  },
  {
   "cell_type": "code",
   "execution_count": 31,
   "metadata": {},
   "outputs": [
    {
     "data": {
      "text/plain": [
       "'Here we see there is a prominent cluster of happiness, family, life expectancy, and GDP. \\nThese are all highly inter-correlated. You can see this from the bright spot in the heat map.\\n\\nAnother Correlation Plot\\nWith small number variables, it can be useful to display the correlation matrix with the numerical values.\\nThe Pandas style.background_gradient() does just this:'"
      ]
     },
     "execution_count": 31,
     "metadata": {},
     "output_type": "execute_result"
    }
   ],
   "source": [
    "'''Here we see there is a prominent cluster of happiness, family, life expectancy, and GDP. \n",
    "These are all highly inter-correlated. You can see this from the bright spot in the heat map.\n",
    "\n",
    "Another Correlation Plot\n",
    "With small number variables, it can be useful to display the correlation matrix with the numerical values.\n",
    "The Pandas style.background_gradient() does just this:'''"
   ]
  },
  {
   "cell_type": "code",
   "execution_count": 32,
   "metadata": {},
   "outputs": [
    {
     "data": {
      "text/html": [
       "<div>\n",
       "<style scoped>\n",
       "    .dataframe tbody tr th:only-of-type {\n",
       "        vertical-align: middle;\n",
       "    }\n",
       "\n",
       "    .dataframe tbody tr th {\n",
       "        vertical-align: top;\n",
       "    }\n",
       "\n",
       "    .dataframe thead th {\n",
       "        text-align: right;\n",
       "    }\n",
       "</style>\n",
       "<table border=\"1\" class=\"dataframe\">\n",
       "  <thead>\n",
       "    <tr style=\"text-align: right;\">\n",
       "      <th></th>\n",
       "      <th>Happiness</th>\n",
       "      <th>GDP</th>\n",
       "      <th>Family</th>\n",
       "      <th>Life_Exp</th>\n",
       "      <th>Freedom</th>\n",
       "      <th>Generosity</th>\n",
       "      <th>Trust_Gov</th>\n",
       "      <th>Dystopia</th>\n",
       "      <th>Life_Exp2</th>\n",
       "    </tr>\n",
       "  </thead>\n",
       "  <tbody>\n",
       "    <tr>\n",
       "      <th>Happiness</th>\n",
       "      <td>1.000000</td>\n",
       "      <td>0.812469</td>\n",
       "      <td>0.752737</td>\n",
       "      <td>0.781951</td>\n",
       "      <td>0.570137</td>\n",
       "      <td>0.155256</td>\n",
       "      <td>0.429080</td>\n",
       "      <td>0.475355</td>\n",
       "      <td>-0.781951</td>\n",
       "    </tr>\n",
       "    <tr>\n",
       "      <th>GDP</th>\n",
       "      <td>0.812469</td>\n",
       "      <td>1.000000</td>\n",
       "      <td>0.688296</td>\n",
       "      <td>0.843077</td>\n",
       "      <td>0.369873</td>\n",
       "      <td>-0.019011</td>\n",
       "      <td>0.350944</td>\n",
       "      <td>0.024226</td>\n",
       "      <td>-0.843077</td>\n",
       "    </tr>\n",
       "    <tr>\n",
       "      <th>Family</th>\n",
       "      <td>0.752737</td>\n",
       "      <td>0.688296</td>\n",
       "      <td>1.000000</td>\n",
       "      <td>0.612080</td>\n",
       "      <td>0.424966</td>\n",
       "      <td>0.051693</td>\n",
       "      <td>0.231841</td>\n",
       "      <td>0.070506</td>\n",
       "      <td>-0.612080</td>\n",
       "    </tr>\n",
       "    <tr>\n",
       "      <th>Life_Exp</th>\n",
       "      <td>0.781951</td>\n",
       "      <td>0.843077</td>\n",
       "      <td>0.612080</td>\n",
       "      <td>1.000000</td>\n",
       "      <td>0.349827</td>\n",
       "      <td>0.063191</td>\n",
       "      <td>0.279752</td>\n",
       "      <td>0.054963</td>\n",
       "      <td>-1.000000</td>\n",
       "    </tr>\n",
       "    <tr>\n",
       "      <th>Freedom</th>\n",
       "      <td>0.570137</td>\n",
       "      <td>0.369873</td>\n",
       "      <td>0.424966</td>\n",
       "      <td>0.349827</td>\n",
       "      <td>1.000000</td>\n",
       "      <td>0.316083</td>\n",
       "      <td>0.499183</td>\n",
       "      <td>0.081926</td>\n",
       "      <td>-0.349827</td>\n",
       "    </tr>\n",
       "    <tr>\n",
       "      <th>Generosity</th>\n",
       "      <td>0.155256</td>\n",
       "      <td>-0.019011</td>\n",
       "      <td>0.051693</td>\n",
       "      <td>0.063191</td>\n",
       "      <td>0.316083</td>\n",
       "      <td>1.000000</td>\n",
       "      <td>0.294159</td>\n",
       "      <td>-0.116627</td>\n",
       "      <td>-0.063191</td>\n",
       "    </tr>\n",
       "    <tr>\n",
       "      <th>Trust_Gov</th>\n",
       "      <td>0.429080</td>\n",
       "      <td>0.350944</td>\n",
       "      <td>0.231841</td>\n",
       "      <td>0.279752</td>\n",
       "      <td>0.499183</td>\n",
       "      <td>0.294159</td>\n",
       "      <td>1.000000</td>\n",
       "      <td>-0.022755</td>\n",
       "      <td>-0.279752</td>\n",
       "    </tr>\n",
       "    <tr>\n",
       "      <th>Dystopia</th>\n",
       "      <td>0.475355</td>\n",
       "      <td>0.024226</td>\n",
       "      <td>0.070506</td>\n",
       "      <td>0.054963</td>\n",
       "      <td>0.081926</td>\n",
       "      <td>-0.116627</td>\n",
       "      <td>-0.022755</td>\n",
       "      <td>1.000000</td>\n",
       "      <td>-0.054963</td>\n",
       "    </tr>\n",
       "    <tr>\n",
       "      <th>Life_Exp2</th>\n",
       "      <td>-0.781951</td>\n",
       "      <td>-0.843077</td>\n",
       "      <td>-0.612080</td>\n",
       "      <td>-1.000000</td>\n",
       "      <td>-0.349827</td>\n",
       "      <td>-0.063191</td>\n",
       "      <td>-0.279752</td>\n",
       "      <td>-0.054963</td>\n",
       "      <td>1.000000</td>\n",
       "    </tr>\n",
       "  </tbody>\n",
       "</table>\n",
       "</div>"
      ],
      "text/plain": [
       "            Happiness       GDP    Family  Life_Exp   Freedom  Generosity  \\\n",
       "Happiness    1.000000  0.812469  0.752737  0.781951  0.570137    0.155256   \n",
       "GDP          0.812469  1.000000  0.688296  0.843077  0.369873   -0.019011   \n",
       "Family       0.752737  0.688296  1.000000  0.612080  0.424966    0.051693   \n",
       "Life_Exp     0.781951  0.843077  0.612080  1.000000  0.349827    0.063191   \n",
       "Freedom      0.570137  0.369873  0.424966  0.349827  1.000000    0.316083   \n",
       "Generosity   0.155256 -0.019011  0.051693  0.063191  0.316083    1.000000   \n",
       "Trust_Gov    0.429080  0.350944  0.231841  0.279752  0.499183    0.294159   \n",
       "Dystopia     0.475355  0.024226  0.070506  0.054963  0.081926   -0.116627   \n",
       "Life_Exp2   -0.781951 -0.843077 -0.612080 -1.000000 -0.349827   -0.063191   \n",
       "\n",
       "            Trust_Gov  Dystopia  Life_Exp2  \n",
       "Happiness    0.429080  0.475355  -0.781951  \n",
       "GDP          0.350944  0.024226  -0.843077  \n",
       "Family       0.231841  0.070506  -0.612080  \n",
       "Life_Exp     0.279752  0.054963  -1.000000  \n",
       "Freedom      0.499183  0.081926  -0.349827  \n",
       "Generosity   0.294159 -0.116627  -0.063191  \n",
       "Trust_Gov    1.000000 -0.022755  -0.279752  \n",
       "Dystopia    -0.022755  1.000000  -0.054963  \n",
       "Life_Exp2   -0.279752 -0.054963   1.000000  "
      ]
     },
     "execution_count": 32,
     "metadata": {},
     "output_type": "execute_result"
    }
   ],
   "source": [
    "corrs_clustered"
   ]
  },
  {
   "cell_type": "code",
   "execution_count": 33,
   "metadata": {},
   "outputs": [
    {
     "data": {
      "text/html": [
       "<style  type=\"text/css\" >\n",
       "    #T_33223fa2_9259_11ea_ab4b_00163eadedfarow0_col0 {\n",
       "            background-color:  #023858;\n",
       "            color:  #f1f1f1;\n",
       "        }    #T_33223fa2_9259_11ea_ab4b_00163eadedfarow0_col1 {\n",
       "            background-color:  #045483;\n",
       "            color:  #f1f1f1;\n",
       "        }    #T_33223fa2_9259_11ea_ab4b_00163eadedfarow0_col2 {\n",
       "            background-color:  #045f95;\n",
       "            color:  #f1f1f1;\n",
       "        }    #T_33223fa2_9259_11ea_ab4b_00163eadedfarow0_col3 {\n",
       "            background-color:  #045585;\n",
       "            color:  #f1f1f1;\n",
       "        }    #T_33223fa2_9259_11ea_ab4b_00163eadedfarow0_col4 {\n",
       "            background-color:  #2081b9;\n",
       "            color:  #000000;\n",
       "        }    #T_33223fa2_9259_11ea_ab4b_00163eadedfarow0_col5 {\n",
       "            background-color:  #d2d2e7;\n",
       "            color:  #000000;\n",
       "        }    #T_33223fa2_9259_11ea_ab4b_00163eadedfarow0_col6 {\n",
       "            background-color:  #5a9ec9;\n",
       "            color:  #000000;\n",
       "        }    #T_33223fa2_9259_11ea_ab4b_00163eadedfarow0_col7 {\n",
       "            background-color:  #65a3cb;\n",
       "            color:  #000000;\n",
       "        }    #T_33223fa2_9259_11ea_ab4b_00163eadedfarow0_col8 {\n",
       "            background-color:  #efe9f3;\n",
       "            color:  #000000;\n",
       "        }    #T_33223fa2_9259_11ea_ab4b_00163eadedfarow1_col0 {\n",
       "            background-color:  #045483;\n",
       "            color:  #f1f1f1;\n",
       "        }    #T_33223fa2_9259_11ea_ab4b_00163eadedfarow1_col1 {\n",
       "            background-color:  #023858;\n",
       "            color:  #f1f1f1;\n",
       "        }    #T_33223fa2_9259_11ea_ab4b_00163eadedfarow1_col2 {\n",
       "            background-color:  #0566a0;\n",
       "            color:  #f1f1f1;\n",
       "        }    #T_33223fa2_9259_11ea_ab4b_00163eadedfarow1_col3 {\n",
       "            background-color:  #034d79;\n",
       "            color:  #f1f1f1;\n",
       "        }    #T_33223fa2_9259_11ea_ab4b_00163eadedfarow1_col4 {\n",
       "            background-color:  #63a2cb;\n",
       "            color:  #000000;\n",
       "        }    #T_33223fa2_9259_11ea_ab4b_00163eadedfarow1_col5 {\n",
       "            background-color:  #f2ecf5;\n",
       "            color:  #000000;\n",
       "        }    #T_33223fa2_9259_11ea_ab4b_00163eadedfarow1_col6 {\n",
       "            background-color:  #76aad0;\n",
       "            color:  #000000;\n",
       "        }    #T_33223fa2_9259_11ea_ab4b_00163eadedfarow1_col7 {\n",
       "            background-color:  #ece7f2;\n",
       "            color:  #000000;\n",
       "        }    #T_33223fa2_9259_11ea_ab4b_00163eadedfarow1_col8 {\n",
       "            background-color:  #f3edf5;\n",
       "            color:  #000000;\n",
       "        }    #T_33223fa2_9259_11ea_ab4b_00163eadedfarow2_col0 {\n",
       "            background-color:  #045c90;\n",
       "            color:  #f1f1f1;\n",
       "        }    #T_33223fa2_9259_11ea_ab4b_00163eadedfarow2_col1 {\n",
       "            background-color:  #046299;\n",
       "            color:  #f1f1f1;\n",
       "        }    #T_33223fa2_9259_11ea_ab4b_00163eadedfarow2_col2 {\n",
       "            background-color:  #023858;\n",
       "            color:  #f1f1f1;\n",
       "        }    #T_33223fa2_9259_11ea_ab4b_00163eadedfarow2_col3 {\n",
       "            background-color:  #0566a0;\n",
       "            color:  #f1f1f1;\n",
       "        }    #T_33223fa2_9259_11ea_ab4b_00163eadedfarow2_col4 {\n",
       "            background-color:  #509ac6;\n",
       "            color:  #000000;\n",
       "        }    #T_33223fa2_9259_11ea_ab4b_00163eadedfarow2_col5 {\n",
       "            background-color:  #e7e3f0;\n",
       "            color:  #000000;\n",
       "        }    #T_33223fa2_9259_11ea_ab4b_00163eadedfarow2_col6 {\n",
       "            background-color:  #9cb9d9;\n",
       "            color:  #000000;\n",
       "        }    #T_33223fa2_9259_11ea_ab4b_00163eadedfarow2_col7 {\n",
       "            background-color:  #e3e0ee;\n",
       "            color:  #000000;\n",
       "        }    #T_33223fa2_9259_11ea_ab4b_00163eadedfarow2_col8 {\n",
       "            background-color:  #dddbec;\n",
       "            color:  #000000;\n",
       "        }    #T_33223fa2_9259_11ea_ab4b_00163eadedfarow3_col0 {\n",
       "            background-color:  #04598c;\n",
       "            color:  #f1f1f1;\n",
       "        }    #T_33223fa2_9259_11ea_ab4b_00163eadedfarow3_col1 {\n",
       "            background-color:  #034e7b;\n",
       "            color:  #f1f1f1;\n",
       "        }    #T_33223fa2_9259_11ea_ab4b_00163eadedfarow3_col2 {\n",
       "            background-color:  #056ead;\n",
       "            color:  #f1f1f1;\n",
       "        }    #T_33223fa2_9259_11ea_ab4b_00163eadedfarow3_col3 {\n",
       "            background-color:  #023858;\n",
       "            color:  #f1f1f1;\n",
       "        }    #T_33223fa2_9259_11ea_ab4b_00163eadedfarow3_col4 {\n",
       "            background-color:  #6ba5cd;\n",
       "            color:  #000000;\n",
       "        }    #T_33223fa2_9259_11ea_ab4b_00163eadedfarow3_col5 {\n",
       "            background-color:  #e4e1ef;\n",
       "            color:  #000000;\n",
       "        }    #T_33223fa2_9259_11ea_ab4b_00163eadedfarow3_col6 {\n",
       "            background-color:  #8eb3d5;\n",
       "            color:  #000000;\n",
       "        }    #T_33223fa2_9259_11ea_ab4b_00163eadedfarow3_col7 {\n",
       "            background-color:  #e6e2ef;\n",
       "            color:  #000000;\n",
       "        }    #T_33223fa2_9259_11ea_ab4b_00163eadedfarow3_col8 {\n",
       "            background-color:  #fff7fb;\n",
       "            color:  #000000;\n",
       "        }    #T_33223fa2_9259_11ea_ab4b_00163eadedfarow4_col0 {\n",
       "            background-color:  #056ead;\n",
       "            color:  #f1f1f1;\n",
       "        }    #T_33223fa2_9259_11ea_ab4b_00163eadedfarow4_col1 {\n",
       "            background-color:  #2987bc;\n",
       "            color:  #000000;\n",
       "        }    #T_33223fa2_9259_11ea_ab4b_00163eadedfarow4_col2 {\n",
       "            background-color:  #2f8bbe;\n",
       "            color:  #000000;\n",
       "        }    #T_33223fa2_9259_11ea_ab4b_00163eadedfarow4_col3 {\n",
       "            background-color:  #2383ba;\n",
       "            color:  #000000;\n",
       "        }    #T_33223fa2_9259_11ea_ab4b_00163eadedfarow4_col4 {\n",
       "            background-color:  #023858;\n",
       "            color:  #f1f1f1;\n",
       "        }    #T_33223fa2_9259_11ea_ab4b_00163eadedfarow4_col5 {\n",
       "            background-color:  #a1bbda;\n",
       "            color:  #000000;\n",
       "        }    #T_33223fa2_9259_11ea_ab4b_00163eadedfarow4_col6 {\n",
       "            background-color:  #3f93c2;\n",
       "            color:  #000000;\n",
       "        }    #T_33223fa2_9259_11ea_ab4b_00163eadedfarow4_col7 {\n",
       "            background-color:  #e0deed;\n",
       "            color:  #000000;\n",
       "        }    #T_33223fa2_9259_11ea_ab4b_00163eadedfarow4_col8 {\n",
       "            background-color:  #b7c5df;\n",
       "            color:  #000000;\n",
       "        }    #T_33223fa2_9259_11ea_ab4b_00163eadedfarow5_col0 {\n",
       "            background-color:  #67a4cc;\n",
       "            color:  #000000;\n",
       "        }    #T_33223fa2_9259_11ea_ab4b_00163eadedfarow5_col1 {\n",
       "            background-color:  #89b1d4;\n",
       "            color:  #000000;\n",
       "        }    #T_33223fa2_9259_11ea_ab4b_00163eadedfarow5_col2 {\n",
       "            background-color:  #97b7d7;\n",
       "            color:  #000000;\n",
       "        }    #T_33223fa2_9259_11ea_ab4b_00163eadedfarow5_col3 {\n",
       "            background-color:  #63a2cb;\n",
       "            color:  #000000;\n",
       "        }    #T_33223fa2_9259_11ea_ab4b_00163eadedfarow5_col4 {\n",
       "            background-color:  #76aad0;\n",
       "            color:  #000000;\n",
       "        }    #T_33223fa2_9259_11ea_ab4b_00163eadedfarow5_col5 {\n",
       "            background-color:  #023858;\n",
       "            color:  #f1f1f1;\n",
       "        }    #T_33223fa2_9259_11ea_ab4b_00163eadedfarow5_col6 {\n",
       "            background-color:  #89b1d4;\n",
       "            color:  #000000;\n",
       "        }    #T_33223fa2_9259_11ea_ab4b_00163eadedfarow5_col7 {\n",
       "            background-color:  #fff7fb;\n",
       "            color:  #000000;\n",
       "        }    #T_33223fa2_9259_11ea_ab4b_00163eadedfarow5_col8 {\n",
       "            background-color:  #81aed2;\n",
       "            color:  #000000;\n",
       "        }    #T_33223fa2_9259_11ea_ab4b_00163eadedfarow6_col0 {\n",
       "            background-color:  #2182b9;\n",
       "            color:  #000000;\n",
       "        }    #T_33223fa2_9259_11ea_ab4b_00163eadedfarow6_col1 {\n",
       "            background-color:  #2d8abd;\n",
       "            color:  #000000;\n",
       "        }    #T_33223fa2_9259_11ea_ab4b_00163eadedfarow6_col2 {\n",
       "            background-color:  #67a4cc;\n",
       "            color:  #000000;\n",
       "        }    #T_33223fa2_9259_11ea_ab4b_00163eadedfarow6_col3 {\n",
       "            background-color:  #308cbe;\n",
       "            color:  #000000;\n",
       "        }    #T_33223fa2_9259_11ea_ab4b_00163eadedfarow6_col4 {\n",
       "            background-color:  #348ebf;\n",
       "            color:  #000000;\n",
       "        }    #T_33223fa2_9259_11ea_ab4b_00163eadedfarow6_col5 {\n",
       "            background-color:  #a8bedc;\n",
       "            color:  #000000;\n",
       "        }    #T_33223fa2_9259_11ea_ab4b_00163eadedfarow6_col6 {\n",
       "            background-color:  #023858;\n",
       "            color:  #f1f1f1;\n",
       "        }    #T_33223fa2_9259_11ea_ab4b_00163eadedfarow6_col7 {\n",
       "            background-color:  #f2ecf5;\n",
       "            color:  #000000;\n",
       "        }    #T_33223fa2_9259_11ea_ab4b_00163eadedfarow6_col8 {\n",
       "            background-color:  #abbfdc;\n",
       "            color:  #000000;\n",
       "        }    #T_33223fa2_9259_11ea_ab4b_00163eadedfarow7_col0 {\n",
       "            background-color:  #167bb6;\n",
       "            color:  #000000;\n",
       "        }    #T_33223fa2_9259_11ea_ab4b_00163eadedfarow7_col1 {\n",
       "            background-color:  #80aed2;\n",
       "            color:  #000000;\n",
       "        }    #T_33223fa2_9259_11ea_ab4b_00163eadedfarow7_col2 {\n",
       "            background-color:  #93b5d6;\n",
       "            color:  #000000;\n",
       "        }    #T_33223fa2_9259_11ea_ab4b_00163eadedfarow7_col3 {\n",
       "            background-color:  #65a3cb;\n",
       "            color:  #000000;\n",
       "        }    #T_33223fa2_9259_11ea_ab4b_00163eadedfarow7_col4 {\n",
       "            background-color:  #b9c6e0;\n",
       "            color:  #000000;\n",
       "        }    #T_33223fa2_9259_11ea_ab4b_00163eadedfarow7_col5 {\n",
       "            background-color:  #fff7fb;\n",
       "            color:  #000000;\n",
       "        }    #T_33223fa2_9259_11ea_ab4b_00163eadedfarow7_col6 {\n",
       "            background-color:  #dbdaeb;\n",
       "            color:  #000000;\n",
       "        }    #T_33223fa2_9259_11ea_ab4b_00163eadedfarow7_col7 {\n",
       "            background-color:  #023858;\n",
       "            color:  #f1f1f1;\n",
       "        }    #T_33223fa2_9259_11ea_ab4b_00163eadedfarow7_col8 {\n",
       "            background-color:  #80aed2;\n",
       "            color:  #000000;\n",
       "        }    #T_33223fa2_9259_11ea_ab4b_00163eadedfarow8_col0 {\n",
       "            background-color:  #fff7fb;\n",
       "            color:  #000000;\n",
       "        }    #T_33223fa2_9259_11ea_ab4b_00163eadedfarow8_col1 {\n",
       "            background-color:  #fff7fb;\n",
       "            color:  #000000;\n",
       "        }    #T_33223fa2_9259_11ea_ab4b_00163eadedfarow8_col2 {\n",
       "            background-color:  #fff7fb;\n",
       "            color:  #000000;\n",
       "        }    #T_33223fa2_9259_11ea_ab4b_00163eadedfarow8_col3 {\n",
       "            background-color:  #fff7fb;\n",
       "            color:  #000000;\n",
       "        }    #T_33223fa2_9259_11ea_ab4b_00163eadedfarow8_col4 {\n",
       "            background-color:  #fff7fb;\n",
       "            color:  #000000;\n",
       "        }    #T_33223fa2_9259_11ea_ab4b_00163eadedfarow8_col5 {\n",
       "            background-color:  #f8f1f8;\n",
       "            color:  #000000;\n",
       "        }    #T_33223fa2_9259_11ea_ab4b_00163eadedfarow8_col6 {\n",
       "            background-color:  #fff7fb;\n",
       "            color:  #000000;\n",
       "        }    #T_33223fa2_9259_11ea_ab4b_00163eadedfarow8_col7 {\n",
       "            background-color:  #f7f0f7;\n",
       "            color:  #000000;\n",
       "        }    #T_33223fa2_9259_11ea_ab4b_00163eadedfarow8_col8 {\n",
       "            background-color:  #023858;\n",
       "            color:  #f1f1f1;\n",
       "        }</style><table id=\"T_33223fa2_9259_11ea_ab4b_00163eadedfa\" ><thead>    <tr>        <th class=\"blank level0\" ></th>        <th class=\"col_heading level0 col0\" >Happiness</th>        <th class=\"col_heading level0 col1\" >GDP</th>        <th class=\"col_heading level0 col2\" >Family</th>        <th class=\"col_heading level0 col3\" >Life_Exp</th>        <th class=\"col_heading level0 col4\" >Freedom</th>        <th class=\"col_heading level0 col5\" >Generosity</th>        <th class=\"col_heading level0 col6\" >Trust_Gov</th>        <th class=\"col_heading level0 col7\" >Dystopia</th>        <th class=\"col_heading level0 col8\" >Life_Exp2</th>    </tr></thead><tbody>\n",
       "                <tr>\n",
       "                        <th id=\"T_33223fa2_9259_11ea_ab4b_00163eadedfalevel0_row0\" class=\"row_heading level0 row0\" >Happiness</th>\n",
       "                        <td id=\"T_33223fa2_9259_11ea_ab4b_00163eadedfarow0_col0\" class=\"data row0 col0\" >1.00</td>\n",
       "                        <td id=\"T_33223fa2_9259_11ea_ab4b_00163eadedfarow0_col1\" class=\"data row0 col1\" >0.81</td>\n",
       "                        <td id=\"T_33223fa2_9259_11ea_ab4b_00163eadedfarow0_col2\" class=\"data row0 col2\" >0.75</td>\n",
       "                        <td id=\"T_33223fa2_9259_11ea_ab4b_00163eadedfarow0_col3\" class=\"data row0 col3\" >0.78</td>\n",
       "                        <td id=\"T_33223fa2_9259_11ea_ab4b_00163eadedfarow0_col4\" class=\"data row0 col4\" >0.57</td>\n",
       "                        <td id=\"T_33223fa2_9259_11ea_ab4b_00163eadedfarow0_col5\" class=\"data row0 col5\" >0.16</td>\n",
       "                        <td id=\"T_33223fa2_9259_11ea_ab4b_00163eadedfarow0_col6\" class=\"data row0 col6\" >0.43</td>\n",
       "                        <td id=\"T_33223fa2_9259_11ea_ab4b_00163eadedfarow0_col7\" class=\"data row0 col7\" >0.48</td>\n",
       "                        <td id=\"T_33223fa2_9259_11ea_ab4b_00163eadedfarow0_col8\" class=\"data row0 col8\" >-0.78</td>\n",
       "            </tr>\n",
       "            <tr>\n",
       "                        <th id=\"T_33223fa2_9259_11ea_ab4b_00163eadedfalevel0_row1\" class=\"row_heading level0 row1\" >GDP</th>\n",
       "                        <td id=\"T_33223fa2_9259_11ea_ab4b_00163eadedfarow1_col0\" class=\"data row1 col0\" >0.81</td>\n",
       "                        <td id=\"T_33223fa2_9259_11ea_ab4b_00163eadedfarow1_col1\" class=\"data row1 col1\" >1.00</td>\n",
       "                        <td id=\"T_33223fa2_9259_11ea_ab4b_00163eadedfarow1_col2\" class=\"data row1 col2\" >0.69</td>\n",
       "                        <td id=\"T_33223fa2_9259_11ea_ab4b_00163eadedfarow1_col3\" class=\"data row1 col3\" >0.84</td>\n",
       "                        <td id=\"T_33223fa2_9259_11ea_ab4b_00163eadedfarow1_col4\" class=\"data row1 col4\" >0.37</td>\n",
       "                        <td id=\"T_33223fa2_9259_11ea_ab4b_00163eadedfarow1_col5\" class=\"data row1 col5\" >-0.02</td>\n",
       "                        <td id=\"T_33223fa2_9259_11ea_ab4b_00163eadedfarow1_col6\" class=\"data row1 col6\" >0.35</td>\n",
       "                        <td id=\"T_33223fa2_9259_11ea_ab4b_00163eadedfarow1_col7\" class=\"data row1 col7\" >0.02</td>\n",
       "                        <td id=\"T_33223fa2_9259_11ea_ab4b_00163eadedfarow1_col8\" class=\"data row1 col8\" >-0.84</td>\n",
       "            </tr>\n",
       "            <tr>\n",
       "                        <th id=\"T_33223fa2_9259_11ea_ab4b_00163eadedfalevel0_row2\" class=\"row_heading level0 row2\" >Family</th>\n",
       "                        <td id=\"T_33223fa2_9259_11ea_ab4b_00163eadedfarow2_col0\" class=\"data row2 col0\" >0.75</td>\n",
       "                        <td id=\"T_33223fa2_9259_11ea_ab4b_00163eadedfarow2_col1\" class=\"data row2 col1\" >0.69</td>\n",
       "                        <td id=\"T_33223fa2_9259_11ea_ab4b_00163eadedfarow2_col2\" class=\"data row2 col2\" >1.00</td>\n",
       "                        <td id=\"T_33223fa2_9259_11ea_ab4b_00163eadedfarow2_col3\" class=\"data row2 col3\" >0.61</td>\n",
       "                        <td id=\"T_33223fa2_9259_11ea_ab4b_00163eadedfarow2_col4\" class=\"data row2 col4\" >0.42</td>\n",
       "                        <td id=\"T_33223fa2_9259_11ea_ab4b_00163eadedfarow2_col5\" class=\"data row2 col5\" >0.05</td>\n",
       "                        <td id=\"T_33223fa2_9259_11ea_ab4b_00163eadedfarow2_col6\" class=\"data row2 col6\" >0.23</td>\n",
       "                        <td id=\"T_33223fa2_9259_11ea_ab4b_00163eadedfarow2_col7\" class=\"data row2 col7\" >0.07</td>\n",
       "                        <td id=\"T_33223fa2_9259_11ea_ab4b_00163eadedfarow2_col8\" class=\"data row2 col8\" >-0.61</td>\n",
       "            </tr>\n",
       "            <tr>\n",
       "                        <th id=\"T_33223fa2_9259_11ea_ab4b_00163eadedfalevel0_row3\" class=\"row_heading level0 row3\" >Life_Exp</th>\n",
       "                        <td id=\"T_33223fa2_9259_11ea_ab4b_00163eadedfarow3_col0\" class=\"data row3 col0\" >0.78</td>\n",
       "                        <td id=\"T_33223fa2_9259_11ea_ab4b_00163eadedfarow3_col1\" class=\"data row3 col1\" >0.84</td>\n",
       "                        <td id=\"T_33223fa2_9259_11ea_ab4b_00163eadedfarow3_col2\" class=\"data row3 col2\" >0.61</td>\n",
       "                        <td id=\"T_33223fa2_9259_11ea_ab4b_00163eadedfarow3_col3\" class=\"data row3 col3\" >1.00</td>\n",
       "                        <td id=\"T_33223fa2_9259_11ea_ab4b_00163eadedfarow3_col4\" class=\"data row3 col4\" >0.35</td>\n",
       "                        <td id=\"T_33223fa2_9259_11ea_ab4b_00163eadedfarow3_col5\" class=\"data row3 col5\" >0.06</td>\n",
       "                        <td id=\"T_33223fa2_9259_11ea_ab4b_00163eadedfarow3_col6\" class=\"data row3 col6\" >0.28</td>\n",
       "                        <td id=\"T_33223fa2_9259_11ea_ab4b_00163eadedfarow3_col7\" class=\"data row3 col7\" >0.05</td>\n",
       "                        <td id=\"T_33223fa2_9259_11ea_ab4b_00163eadedfarow3_col8\" class=\"data row3 col8\" >-1.00</td>\n",
       "            </tr>\n",
       "            <tr>\n",
       "                        <th id=\"T_33223fa2_9259_11ea_ab4b_00163eadedfalevel0_row4\" class=\"row_heading level0 row4\" >Freedom</th>\n",
       "                        <td id=\"T_33223fa2_9259_11ea_ab4b_00163eadedfarow4_col0\" class=\"data row4 col0\" >0.57</td>\n",
       "                        <td id=\"T_33223fa2_9259_11ea_ab4b_00163eadedfarow4_col1\" class=\"data row4 col1\" >0.37</td>\n",
       "                        <td id=\"T_33223fa2_9259_11ea_ab4b_00163eadedfarow4_col2\" class=\"data row4 col2\" >0.42</td>\n",
       "                        <td id=\"T_33223fa2_9259_11ea_ab4b_00163eadedfarow4_col3\" class=\"data row4 col3\" >0.35</td>\n",
       "                        <td id=\"T_33223fa2_9259_11ea_ab4b_00163eadedfarow4_col4\" class=\"data row4 col4\" >1.00</td>\n",
       "                        <td id=\"T_33223fa2_9259_11ea_ab4b_00163eadedfarow4_col5\" class=\"data row4 col5\" >0.32</td>\n",
       "                        <td id=\"T_33223fa2_9259_11ea_ab4b_00163eadedfarow4_col6\" class=\"data row4 col6\" >0.50</td>\n",
       "                        <td id=\"T_33223fa2_9259_11ea_ab4b_00163eadedfarow4_col7\" class=\"data row4 col7\" >0.08</td>\n",
       "                        <td id=\"T_33223fa2_9259_11ea_ab4b_00163eadedfarow4_col8\" class=\"data row4 col8\" >-0.35</td>\n",
       "            </tr>\n",
       "            <tr>\n",
       "                        <th id=\"T_33223fa2_9259_11ea_ab4b_00163eadedfalevel0_row5\" class=\"row_heading level0 row5\" >Generosity</th>\n",
       "                        <td id=\"T_33223fa2_9259_11ea_ab4b_00163eadedfarow5_col0\" class=\"data row5 col0\" >0.16</td>\n",
       "                        <td id=\"T_33223fa2_9259_11ea_ab4b_00163eadedfarow5_col1\" class=\"data row5 col1\" >-0.02</td>\n",
       "                        <td id=\"T_33223fa2_9259_11ea_ab4b_00163eadedfarow5_col2\" class=\"data row5 col2\" >0.05</td>\n",
       "                        <td id=\"T_33223fa2_9259_11ea_ab4b_00163eadedfarow5_col3\" class=\"data row5 col3\" >0.06</td>\n",
       "                        <td id=\"T_33223fa2_9259_11ea_ab4b_00163eadedfarow5_col4\" class=\"data row5 col4\" >0.32</td>\n",
       "                        <td id=\"T_33223fa2_9259_11ea_ab4b_00163eadedfarow5_col5\" class=\"data row5 col5\" >1.00</td>\n",
       "                        <td id=\"T_33223fa2_9259_11ea_ab4b_00163eadedfarow5_col6\" class=\"data row5 col6\" >0.29</td>\n",
       "                        <td id=\"T_33223fa2_9259_11ea_ab4b_00163eadedfarow5_col7\" class=\"data row5 col7\" >-0.12</td>\n",
       "                        <td id=\"T_33223fa2_9259_11ea_ab4b_00163eadedfarow5_col8\" class=\"data row5 col8\" >-0.06</td>\n",
       "            </tr>\n",
       "            <tr>\n",
       "                        <th id=\"T_33223fa2_9259_11ea_ab4b_00163eadedfalevel0_row6\" class=\"row_heading level0 row6\" >Trust_Gov</th>\n",
       "                        <td id=\"T_33223fa2_9259_11ea_ab4b_00163eadedfarow6_col0\" class=\"data row6 col0\" >0.43</td>\n",
       "                        <td id=\"T_33223fa2_9259_11ea_ab4b_00163eadedfarow6_col1\" class=\"data row6 col1\" >0.35</td>\n",
       "                        <td id=\"T_33223fa2_9259_11ea_ab4b_00163eadedfarow6_col2\" class=\"data row6 col2\" >0.23</td>\n",
       "                        <td id=\"T_33223fa2_9259_11ea_ab4b_00163eadedfarow6_col3\" class=\"data row6 col3\" >0.28</td>\n",
       "                        <td id=\"T_33223fa2_9259_11ea_ab4b_00163eadedfarow6_col4\" class=\"data row6 col4\" >0.50</td>\n",
       "                        <td id=\"T_33223fa2_9259_11ea_ab4b_00163eadedfarow6_col5\" class=\"data row6 col5\" >0.29</td>\n",
       "                        <td id=\"T_33223fa2_9259_11ea_ab4b_00163eadedfarow6_col6\" class=\"data row6 col6\" >1.00</td>\n",
       "                        <td id=\"T_33223fa2_9259_11ea_ab4b_00163eadedfarow6_col7\" class=\"data row6 col7\" >-0.02</td>\n",
       "                        <td id=\"T_33223fa2_9259_11ea_ab4b_00163eadedfarow6_col8\" class=\"data row6 col8\" >-0.28</td>\n",
       "            </tr>\n",
       "            <tr>\n",
       "                        <th id=\"T_33223fa2_9259_11ea_ab4b_00163eadedfalevel0_row7\" class=\"row_heading level0 row7\" >Dystopia</th>\n",
       "                        <td id=\"T_33223fa2_9259_11ea_ab4b_00163eadedfarow7_col0\" class=\"data row7 col0\" >0.48</td>\n",
       "                        <td id=\"T_33223fa2_9259_11ea_ab4b_00163eadedfarow7_col1\" class=\"data row7 col1\" >0.02</td>\n",
       "                        <td id=\"T_33223fa2_9259_11ea_ab4b_00163eadedfarow7_col2\" class=\"data row7 col2\" >0.07</td>\n",
       "                        <td id=\"T_33223fa2_9259_11ea_ab4b_00163eadedfarow7_col3\" class=\"data row7 col3\" >0.05</td>\n",
       "                        <td id=\"T_33223fa2_9259_11ea_ab4b_00163eadedfarow7_col4\" class=\"data row7 col4\" >0.08</td>\n",
       "                        <td id=\"T_33223fa2_9259_11ea_ab4b_00163eadedfarow7_col5\" class=\"data row7 col5\" >-0.12</td>\n",
       "                        <td id=\"T_33223fa2_9259_11ea_ab4b_00163eadedfarow7_col6\" class=\"data row7 col6\" >-0.02</td>\n",
       "                        <td id=\"T_33223fa2_9259_11ea_ab4b_00163eadedfarow7_col7\" class=\"data row7 col7\" >1.00</td>\n",
       "                        <td id=\"T_33223fa2_9259_11ea_ab4b_00163eadedfarow7_col8\" class=\"data row7 col8\" >-0.05</td>\n",
       "            </tr>\n",
       "            <tr>\n",
       "                        <th id=\"T_33223fa2_9259_11ea_ab4b_00163eadedfalevel0_row8\" class=\"row_heading level0 row8\" >Life_Exp2</th>\n",
       "                        <td id=\"T_33223fa2_9259_11ea_ab4b_00163eadedfarow8_col0\" class=\"data row8 col0\" >-0.78</td>\n",
       "                        <td id=\"T_33223fa2_9259_11ea_ab4b_00163eadedfarow8_col1\" class=\"data row8 col1\" >-0.84</td>\n",
       "                        <td id=\"T_33223fa2_9259_11ea_ab4b_00163eadedfarow8_col2\" class=\"data row8 col2\" >-0.61</td>\n",
       "                        <td id=\"T_33223fa2_9259_11ea_ab4b_00163eadedfarow8_col3\" class=\"data row8 col3\" >-1.00</td>\n",
       "                        <td id=\"T_33223fa2_9259_11ea_ab4b_00163eadedfarow8_col4\" class=\"data row8 col4\" >-0.35</td>\n",
       "                        <td id=\"T_33223fa2_9259_11ea_ab4b_00163eadedfarow8_col5\" class=\"data row8 col5\" >-0.06</td>\n",
       "                        <td id=\"T_33223fa2_9259_11ea_ab4b_00163eadedfarow8_col6\" class=\"data row8 col6\" >-0.28</td>\n",
       "                        <td id=\"T_33223fa2_9259_11ea_ab4b_00163eadedfarow8_col7\" class=\"data row8 col7\" >-0.05</td>\n",
       "                        <td id=\"T_33223fa2_9259_11ea_ab4b_00163eadedfarow8_col8\" class=\"data row8 col8\" >1.00</td>\n",
       "            </tr>\n",
       "    </tbody></table>"
      ],
      "text/plain": [
       "<pandas.io.formats.style.Styler at 0x7b4f30af2af0>"
      ]
     },
     "execution_count": 33,
     "metadata": {},
     "output_type": "execute_result"
    }
   ],
   "source": [
    "corrs_clustered.style.background_gradient().set_precision(2)"
   ]
  },
  {
   "cell_type": "code",
   "execution_count": 38,
   "metadata": {},
   "outputs": [
    {
     "data": {
      "text/plain": [
       "'The darker the color, the higher the correlation. The lightest colors are negative correlations.\\n\\nNotice that several variables exhibit correlations quite close to 0. It is a good idea to see if these correlations are even significant.'"
      ]
     },
     "execution_count": 38,
     "metadata": {},
     "output_type": "execute_result"
    }
   ],
   "source": [
    "'''The darker the color, the higher the correlation. The lightest colors are negative correlations.\n",
    "\n",
    "Notice that several variables exhibit correlations quite close to 0. It is a good idea to see if these correlations are even significant.'''"
   ]
  },
  {
   "cell_type": "code",
   "execution_count": 39,
   "metadata": {
    "scrolled": true
   },
   "outputs": [
    {
     "name": "stdout",
     "output_type": "stream",
     "text": [
      "\n",
      "\n",
      "Significance of correlations with Trust_Gov\n",
      "Correlation with Happiness = 0.429 with CI of 0.377 to 0.478 and p_value 2.538e-08\n",
      "Correlation with GDP = 0.351 with CI of 0.295 to 0.404 and p_value 7.567e-06\n",
      "Correlation with Family = 0.232 with CI of 0.172 to 0.290 and p_value 3.700e-03\n",
      "Correlation with Life_Exp = 0.280 with CI of 0.222 to 0.336 and p_value 4.229e-04\n",
      "Correlation with Freedom = 0.499 with CI of 0.451 to 0.544 and p_value 3.810e-11\n",
      "Correlation with Generosity = 0.294 with CI of 0.236 to 0.350 and p_value 2.031e-04\n",
      "Correlation with Dystopia = -0.023 with CI of -0.085 to 0.039 and p_value 7.787e-01\n",
      "Correlation with Life_Exp2 = -0.280 with CI of -0.336 to -0.222 and p_value 4.229e-04\n",
      "Correlation with Life_Expect2_sqrt = -0.291 with CI of -0.347 to -0.233 and p_value 2.364e-04\n",
      "Correlation with Life_Expect2 = 0.291 with CI of 0.233 to 0.347 and p_value 2.364e-04\n",
      "\n",
      "\n",
      "Significance of correlations with Generosity\n",
      "Correlation with Happiness = 0.155 with CI of 0.094 to 0.215 and p_value 5.373e-02\n",
      "Correlation with GDP = -0.019 with CI of -0.081 to 0.043 and p_value 8.144e-01\n",
      "Correlation with Family = 0.052 with CI of -0.010 to 0.113 and p_value 5.230e-01\n",
      "Correlation with Life_Exp = 0.063 with CI of 0.001 to 0.125 and p_value 4.347e-01\n",
      "Correlation with Freedom = 0.316 with CI of 0.259 to 0.371 and p_value 6.161e-05\n",
      "Correlation with Trust_Gov = 0.294 with CI of 0.236 to 0.350 and p_value 2.031e-04\n",
      "Correlation with Dystopia = -0.117 with CI of -0.177 to -0.055 and p_value 1.484e-01\n",
      "Correlation with Life_Exp2 = -0.063 with CI of -0.125 to -0.001 and p_value 4.347e-01\n",
      "Correlation with Life_Expect2_sqrt = -0.068 with CI of -0.129 to -0.006 and p_value 4.020e-01\n",
      "Correlation with Life_Expect2 = 0.068 with CI of 0.006 to 0.129 and p_value 4.020e-01\n",
      "\n",
      "\n",
      "Significance of correlations with Dystopia\n",
      "Correlation with Happiness = 0.475 with CI of 0.426 to 0.522 and p_value 4.102e-10\n",
      "Correlation with GDP = 0.024 with CI of -0.038 to 0.086 and p_value 7.648e-01\n",
      "Correlation with Family = 0.071 with CI of 0.009 to 0.132 and p_value 3.833e-01\n",
      "Correlation with Life_Exp = 0.055 with CI of -0.007 to 0.117 and p_value 4.970e-01\n",
      "Correlation with Freedom = 0.082 with CI of 0.020 to 0.143 and p_value 3.109e-01\n",
      "Correlation with Generosity = -0.117 with CI of -0.177 to -0.055 and p_value 1.484e-01\n",
      "Correlation with Trust_Gov = -0.023 with CI of -0.085 to 0.039 and p_value 7.787e-01\n",
      "Correlation with Life_Exp2 = -0.055 with CI of -0.117 to 0.007 and p_value 4.970e-01\n",
      "Correlation with Life_Expect2_sqrt = -0.058 with CI of -0.120 to 0.004 and p_value 4.724e-01\n",
      "Correlation with Life_Expect2 = 0.058 with CI of -0.004 to 0.120 and p_value 4.724e-01\n"
     ]
    }
   ],
   "source": [
    "def correlation_sig2(df, col1, col2):\n",
    "    pearson_cor = ss.pearsonr(x = df[col1], y = dat[col2]) \n",
    "    conf_ints = r_conf_int(pearson_cor[0], 0.05, 1000)\n",
    "    print('Correlation with ' + col2 + ' = %4.3f with CI of %4.3f to %4.3f and p_value %4.3e' \n",
    "        % (pearson_cor[0], conf_ints[0], conf_ints[1], pearson_cor[1]))\n",
    "\n",
    "def test_significance(df, col_list):\n",
    "    cols = df.columns\n",
    "    for col1 in col_list: \n",
    "        print('\\n')\n",
    "        print('Significance of correlations with ' + col1)\n",
    "        for col2 in cols: \n",
    "            if(col1 != col2):\n",
    "                correlation_sig2(df, col1, col2)  \n",
    "\n",
    "test_cols = ['Trust_Gov', 'Generosity', 'Dystopia']\n",
    "test_significance(dat, test_cols)"
   ]
  },
  {
   "cell_type": "code",
   "execution_count": 40,
   "metadata": {},
   "outputs": [
    {
     "data": {
      "text/plain": [
       "'Using the correlation analysis, we have both learned to find clusters of relationships among data and to estimate individual correlations and test them for significance. If we had a specific variable we\\nwanted to study in greater detail, we could graduate to regression, which we will do in the next lab.'"
      ]
     },
     "execution_count": 40,
     "metadata": {},
     "output_type": "execute_result"
    }
   ],
   "source": [
    "'''Using the correlation analysis, we have both learned to find clusters of relationships among data and to estimate individual correlations and test them for significance. If we had a specific variable we\n",
    "wanted to study in greater detail, we could graduate to regression, which we will do in the next lab.'''"
   ]
  },
  {
   "cell_type": "code",
   "execution_count": null,
   "metadata": {},
   "outputs": [],
   "source": []
  }
 ],
 "metadata": {
  "kernelspec": {
   "display_name": "Python 3",
   "language": "python",
   "name": "python3"
  },
  "language_info": {
   "codemirror_mode": {
    "name": "ipython",
    "version": 3
   },
   "file_extension": ".py",
   "mimetype": "text/x-python",
   "name": "python",
   "nbconvert_exporter": "python",
   "pygments_lexer": "ipython3",
   "version": "3.8.2"
  }
 },
 "nbformat": 4,
 "nbformat_minor": 4
}
