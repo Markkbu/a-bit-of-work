{
 "cells": [
  {
   "cell_type": "code",
   "execution_count": 1,
   "metadata": {},
   "outputs": [],
   "source": [
    "from scipy import stats"
   ]
  },
  {
   "cell_type": "code",
   "execution_count": 2,
   "metadata": {
    "scrolled": true
   },
   "outputs": [
    {
     "data": {
      "text/plain": [
       "'Note that for this lab you need to be familiar with the effect size statistic, Cohen\\'s d, discussed in the online lesson. I will assume you have watched this and are familiar with how p-values work to reject the null hypothesis. If you need to refresh these concepts, do so before completing this lab. The standard guidelines for Cohen\\'s d are:\\n\\n| #  |    d Value    |  Meaning   |\\n|:--:|:-------------:|:----------:|\\n| 1. |    0 - 0.2    | Negligible |\\n| 2. |   0.2 - 0.5   |   Small    |\\n| 3. |   0.5 - 0.8   |   Medium   |\\n| 4. |     0.80 +    |   Large    |\\nPower Overview\\nTechnically defined, power is the proportion of the time in which you would achieve p < .05 for a given population effect size. Power is relevant only when the null hypothesis is false. Assuming that the null is false, what is the likelihood that your study will actually detect the effect that is truly present? For example, a study that has only 20% power has only a 20% chance to actually detect the effect that is present (i.e., achieve statistical significance, p < .05). Clearly, you do not want your study to be set up to fail. You want good power...usually the recommendation is .80 or higher.\\n\\nPower is highly dependnet on sample size.\\n\\nFor example, imagine that, in the population, the size of the difference between two groups (e.g., \"intervention group to increase productivity\" vs. \"business as usual\" group) was d = .4. A study with n= 40 people per group would only have 42% power, i.e., be able to reject the null hypothesis 42% of the time.\\n\\nHow do I know that? I used a power calculator.\\n\\nThis can be easily calculated using the tt_ind_solve_power function in the statsmodels.stats.power Python package.'"
      ]
     },
     "execution_count": 2,
     "metadata": {},
     "output_type": "execute_result"
    }
   ],
   "source": [
    "'''Note that for this lab you need to be familiar with the effect size statistic, Cohen's d, discussed in the online lesson. I will assume you have watched this and are familiar with how p-values work to reject the null hypothesis. If you need to refresh these concepts, do so before completing this lab. The standard guidelines for Cohen's d are:\n",
    "\n",
    "| #  |    d Value    |  Meaning   |\n",
    "|:--:|:-------------:|:----------:|\n",
    "| 1. |    0 - 0.2    | Negligible |\n",
    "| 2. |   0.2 - 0.5   |   Small    |\n",
    "| 3. |   0.5 - 0.8   |   Medium   |\n",
    "| 4. |     0.80 +    |   Large    |\n",
    "Power Overview\n",
    "Technically defined, power is the proportion of the time in which you would achieve p < .05 for a given population effect size. Power is relevant only when the null hypothesis is false. Assuming that the null is false, what is the likelihood that your study will actually detect the effect that is truly present? For example, a study that has only 20% power has only a 20% chance to actually detect the effect that is present (i.e., achieve statistical significance, p < .05). Clearly, you do not want your study to be set up to fail. You want good power...usually the recommendation is .80 or higher.\n",
    "\n",
    "Power is highly dependnet on sample size.\n",
    "\n",
    "For example, imagine that, in the population, the size of the difference between two groups (e.g., \"intervention group to increase productivity\" vs. \"business as usual\" group) was d = .4. A study with n= 40 people per group would only have 42% power, i.e., be able to reject the null hypothesis 42% of the time.\n",
    "\n",
    "How do I know that? I used a power calculator.\n",
    "\n",
    "This can be easily calculated using the tt_ind_solve_power function in the statsmodels.stats.power Python package.'''"
   ]
  },
  {
   "cell_type": "code",
   "execution_count": 4,
   "metadata": {},
   "outputs": [
    {
     "data": {
      "text/plain": [
       "0.4235211505921998"
      ]
     },
     "execution_count": 4,
     "metadata": {},
     "output_type": "execute_result"
    }
   ],
   "source": [
    "from statsmodels.stats.power import tt_ind_solve_power\n",
    "tt_ind_solve_power(effect_size= 0.4, nobs1=40 , alpha=0.05 , power=None, ratio=1, alternative='two-sided')"
   ]
  },
  {
   "cell_type": "code",
   "execution_count": 5,
   "metadata": {},
   "outputs": [
    {
     "data": {
      "text/plain": [
       "0.8036474965430769"
      ]
     },
     "execution_count": 5,
     "metadata": {},
     "output_type": "execute_result"
    }
   ],
   "source": [
    "tt_ind_solve_power(effect_size= 0.4, nobs1=100 , alpha=0.05 , power=None, ratio=1, alternative='two-sided')"
   ]
  },
  {
   "cell_type": "code",
   "execution_count": 6,
   "metadata": {},
   "outputs": [
    {
     "data": {
      "text/plain": [
       "0.9322751860167275"
      ]
     },
     "execution_count": 6,
     "metadata": {},
     "output_type": "execute_result"
    }
   ],
   "source": [
    "tt_ind_solve_power(effect_size= 0.4, nobs1=150 , alpha=0.05 , power=None, ratio=1, alternative='two-sided')"
   ]
  },
  {
   "cell_type": "code",
   "execution_count": 7,
   "metadata": {},
   "outputs": [
    {
     "data": {
      "text/plain": [
       "99.08032683981143"
      ]
     },
     "execution_count": 7,
     "metadata": {},
     "output_type": "execute_result"
    }
   ],
   "source": [
    "tt_ind_solve_power(effect_size= 0.4, nobs1=None , alpha=0.05 , power=.8, ratio=1, alternative='two-sided')"
   ]
  },
  {
   "cell_type": "code",
   "execution_count": 9,
   "metadata": {},
   "outputs": [
    {
     "data": {
      "text/plain": [
       "393.4056989990335"
      ]
     },
     "execution_count": 9,
     "metadata": {},
     "output_type": "execute_result"
    }
   ],
   "source": [
    "tt_ind_solve_power(effect_size= 0.2, nobs1=None , alpha=0.05 , power=.8, ratio=1, alternative='two-sided')"
   ]
  },
  {
   "cell_type": "code",
   "execution_count": 10,
   "metadata": {},
   "outputs": [
    {
     "data": {
      "text/plain": [
       "25.52457250047935"
      ]
     },
     "execution_count": 10,
     "metadata": {},
     "output_type": "execute_result"
    }
   ],
   "source": [
    "tt_ind_solve_power(effect_size= 0.8, nobs1=None , alpha=0.05 , power=.8, ratio=1, alternative='two-sided')"
   ]
  },
  {
   "cell_type": "code",
   "execution_count": 11,
   "metadata": {},
   "outputs": [
    {
     "data": {
      "text/plain": [
       "0.18558861172807584"
      ]
     },
     "execution_count": 11,
     "metadata": {},
     "output_type": "execute_result"
    }
   ],
   "source": [
    "tt_ind_solve_power(effect_size= 0.3, nobs1=26 , alpha=0.05 , power=None, ratio=1, alternative='two-sided')"
   ]
  },
  {
   "cell_type": "code",
   "execution_count": 12,
   "metadata": {},
   "outputs": [],
   "source": [
    "import pandas as pd"
   ]
  },
  {
   "cell_type": "code",
   "execution_count": 17,
   "metadata": {},
   "outputs": [
    {
     "name": "stdout",
     "output_type": "stream",
     "text": [
      "[0.1, 0.2, 0.3, 0.4, 0.5, 0.6, 0.7, 0.8, 0.9, 1.0, 1.1, 1.2, 1.3, 1.4, 1.5]\n"
     ]
    },
    {
     "data": {
      "text/html": [
       "<div>\n",
       "<style scoped>\n",
       "    .dataframe tbody tr th:only-of-type {\n",
       "        vertical-align: middle;\n",
       "    }\n",
       "\n",
       "    .dataframe tbody tr th {\n",
       "        vertical-align: top;\n",
       "    }\n",
       "\n",
       "    .dataframe thead th {\n",
       "        text-align: right;\n",
       "    }\n",
       "</style>\n",
       "<table border=\"1\" class=\"dataframe\">\n",
       "  <thead>\n",
       "    <tr style=\"text-align: right;\">\n",
       "      <th></th>\n",
       "      <th>d_values</th>\n",
       "      <th>power</th>\n",
       "    </tr>\n",
       "  </thead>\n",
       "  <tbody>\n",
       "    <tr>\n",
       "      <th>0</th>\n",
       "      <td>0.1</td>\n",
       "      <td>0.064449</td>\n",
       "    </tr>\n",
       "    <tr>\n",
       "      <th>1</th>\n",
       "      <td>0.2</td>\n",
       "      <td>0.108995</td>\n",
       "    </tr>\n",
       "    <tr>\n",
       "      <th>2</th>\n",
       "      <td>0.3</td>\n",
       "      <td>0.185589</td>\n",
       "    </tr>\n",
       "    <tr>\n",
       "      <th>3</th>\n",
       "      <td>0.4</td>\n",
       "      <td>0.293111</td>\n",
       "    </tr>\n",
       "    <tr>\n",
       "      <th>4</th>\n",
       "      <td>0.5</td>\n",
       "      <td>0.424034</td>\n",
       "    </tr>\n",
       "    <tr>\n",
       "      <th>5</th>\n",
       "      <td>0.6</td>\n",
       "      <td>0.564252</td>\n",
       "    </tr>\n",
       "    <tr>\n",
       "      <th>6</th>\n",
       "      <td>0.7</td>\n",
       "      <td>0.696798</td>\n",
       "    </tr>\n",
       "    <tr>\n",
       "      <th>7</th>\n",
       "      <td>0.8</td>\n",
       "      <td>0.807487</td>\n",
       "    </tr>\n",
       "    <tr>\n",
       "      <th>8</th>\n",
       "      <td>0.9</td>\n",
       "      <td>0.889166</td>\n",
       "    </tr>\n",
       "    <tr>\n",
       "      <th>9</th>\n",
       "      <td>1.0</td>\n",
       "      <td>0.942430</td>\n",
       "    </tr>\n",
       "    <tr>\n",
       "      <th>10</th>\n",
       "      <td>1.1</td>\n",
       "      <td>0.973127</td>\n",
       "    </tr>\n",
       "    <tr>\n",
       "      <th>11</th>\n",
       "      <td>1.2</td>\n",
       "      <td>0.988762</td>\n",
       "    </tr>\n",
       "    <tr>\n",
       "      <th>12</th>\n",
       "      <td>1.3</td>\n",
       "      <td>0.995800</td>\n",
       "    </tr>\n",
       "    <tr>\n",
       "      <th>13</th>\n",
       "      <td>1.4</td>\n",
       "      <td>0.998600</td>\n",
       "    </tr>\n",
       "    <tr>\n",
       "      <th>14</th>\n",
       "      <td>1.5</td>\n",
       "      <td>0.999584</td>\n",
       "    </tr>\n",
       "  </tbody>\n",
       "</table>\n",
       "</div>"
      ],
      "text/plain": [
       "    d_values     power\n",
       "0        0.1  0.064449\n",
       "1        0.2  0.108995\n",
       "2        0.3  0.185589\n",
       "3        0.4  0.293111\n",
       "4        0.5  0.424034\n",
       "5        0.6  0.564252\n",
       "6        0.7  0.696798\n",
       "7        0.8  0.807487\n",
       "8        0.9  0.889166\n",
       "9        1.0  0.942430\n",
       "10       1.1  0.973127\n",
       "11       1.2  0.988762\n",
       "12       1.3  0.995800\n",
       "13       1.4  0.998600\n",
       "14       1.5  0.999584"
      ]
     },
     "execution_count": 17,
     "metadata": {},
     "output_type": "execute_result"
    }
   ],
   "source": [
    "d_vals = [x/10.0 for x in range(1, 16)]\n",
    "powers = [tt_ind_solve_power(effect_size= x, nobs1=26 , alpha=0.05 , power=None, ratio=1, alternative='two-sided')for x in d_vals]\n",
    "d_powers = pd.DataFrame({'d_values':d_vals, 'power':powers})\n",
    "print(d_vals)\n",
    "d_powers"
   ]
  },
  {
   "cell_type": "code",
   "execution_count": 18,
   "metadata": {},
   "outputs": [],
   "source": [
    "## create list of d values\n",
    "d_vals = [x/10.0 for x in range(2,16)]\n",
    "\n",
    "## Initialize frame\n",
    "powers = pd.DataFrame({'sample_size':range(20,200,10)})\n",
    "\n",
    "##Loop over d values\n",
    "for d_val in d_vals:\n",
    "    col_name = 'd =' +str(d_val)\n",
    "    ## List comprehension for each d value itterating over the sample size\n",
    "    powers[col_name]= [tt_ind_solve_power(effect_size= d_val, nobs1=x , alpha=0.05 , \n",
    "                                          power=None, ratio=1, alternative='two-sided')for x in range(20,200,10)]\n"
   ]
  },
  {
   "cell_type": "code",
   "execution_count": 19,
   "metadata": {
    "scrolled": true
   },
   "outputs": [
    {
     "data": {
      "text/html": [
       "<div>\n",
       "<style scoped>\n",
       "    .dataframe tbody tr th:only-of-type {\n",
       "        vertical-align: middle;\n",
       "    }\n",
       "\n",
       "    .dataframe tbody tr th {\n",
       "        vertical-align: top;\n",
       "    }\n",
       "\n",
       "    .dataframe thead th {\n",
       "        text-align: right;\n",
       "    }\n",
       "</style>\n",
       "<table border=\"1\" class=\"dataframe\">\n",
       "  <thead>\n",
       "    <tr style=\"text-align: right;\">\n",
       "      <th></th>\n",
       "      <th>sample_size</th>\n",
       "      <th>d =0.2</th>\n",
       "      <th>d =0.3</th>\n",
       "      <th>d =0.4</th>\n",
       "      <th>d =0.5</th>\n",
       "      <th>d =0.6</th>\n",
       "      <th>d =0.7</th>\n",
       "      <th>d =0.8</th>\n",
       "      <th>d =0.9</th>\n",
       "      <th>d =1.0</th>\n",
       "      <th>d =1.1</th>\n",
       "      <th>d =1.2</th>\n",
       "      <th>d =1.3</th>\n",
       "      <th>d =1.4</th>\n",
       "      <th>d =1.5</th>\n",
       "    </tr>\n",
       "  </thead>\n",
       "  <tbody>\n",
       "    <tr>\n",
       "      <th>0</th>\n",
       "      <td>20</td>\n",
       "      <td>0.094567</td>\n",
       "      <td>0.152268</td>\n",
       "      <td>0.234349</td>\n",
       "      <td>0.337939</td>\n",
       "      <td>0.456034</td>\n",
       "      <td>0.578290</td>\n",
       "      <td>0.693404</td>\n",
       "      <td>0.792036</td>\n",
       "      <td>0.868953</td>\n",
       "      <td>0.923550</td>\n",
       "      <td>0.958827</td>\n",
       "      <td>0.979575</td>\n",
       "      <td>0.990685</td>\n",
       "      <td>0.996100</td>\n",
       "    </tr>\n",
       "    <tr>\n",
       "      <th>1</th>\n",
       "      <td>30</td>\n",
       "      <td>0.118679</td>\n",
       "      <td>0.207852</td>\n",
       "      <td>0.331522</td>\n",
       "      <td>0.477897</td>\n",
       "      <td>0.627505</td>\n",
       "      <td>0.759905</td>\n",
       "      <td>0.861423</td>\n",
       "      <td>0.928872</td>\n",
       "      <td>0.967708</td>\n",
       "      <td>0.987086</td>\n",
       "      <td>0.995465</td>\n",
       "      <td>0.998605</td>\n",
       "      <td>0.999625</td>\n",
       "      <td>0.999912</td>\n",
       "    </tr>\n",
       "    <tr>\n",
       "      <th>2</th>\n",
       "      <td>40</td>\n",
       "      <td>0.143080</td>\n",
       "      <td>0.263284</td>\n",
       "      <td>0.423521</td>\n",
       "      <td>0.598147</td>\n",
       "      <td>0.754952</td>\n",
       "      <td>0.871133</td>\n",
       "      <td>0.942182</td>\n",
       "      <td>0.978044</td>\n",
       "      <td>0.992985</td>\n",
       "      <td>0.998122</td>\n",
       "      <td>0.999580</td>\n",
       "      <td>0.999922</td>\n",
       "      <td>1.000000</td>\n",
       "      <td>1.000000</td>\n",
       "    </tr>\n",
       "    <tr>\n",
       "      <th>3</th>\n",
       "      <td>50</td>\n",
       "      <td>0.167675</td>\n",
       "      <td>0.317802</td>\n",
       "      <td>0.508186</td>\n",
       "      <td>0.696893</td>\n",
       "      <td>0.843875</td>\n",
       "      <td>0.933907</td>\n",
       "      <td>0.977279</td>\n",
       "      <td>0.993712</td>\n",
       "      <td>0.998607</td>\n",
       "      <td>0.999754</td>\n",
       "      <td>1.000000</td>\n",
       "      <td>1.000000</td>\n",
       "      <td>1.000000</td>\n",
       "      <td>1.000000</td>\n",
       "    </tr>\n",
       "    <tr>\n",
       "      <th>4</th>\n",
       "      <td>60</td>\n",
       "      <td>0.192375</td>\n",
       "      <td>0.370802</td>\n",
       "      <td>0.584382</td>\n",
       "      <td>0.775266</td>\n",
       "      <td>0.903115</td>\n",
       "      <td>0.967314</td>\n",
       "      <td>0.991481</td>\n",
       "      <td>0.998300</td>\n",
       "      <td>0.999742</td>\n",
       "      <td>1.000000</td>\n",
       "      <td>1.000000</td>\n",
       "      <td>1.000000</td>\n",
       "      <td>1.000000</td>\n",
       "      <td>1.000000</td>\n",
       "    </tr>\n",
       "    <tr>\n",
       "      <th>5</th>\n",
       "      <td>70</td>\n",
       "      <td>0.217094</td>\n",
       "      <td>0.421819</td>\n",
       "      <td>0.651730</td>\n",
       "      <td>0.835822</td>\n",
       "      <td>0.941194</td>\n",
       "      <td>0.984313</td>\n",
       "      <td>0.996925</td>\n",
       "      <td>0.999561</td>\n",
       "      <td>1.000000</td>\n",
       "      <td>1.000000</td>\n",
       "      <td>1.000000</td>\n",
       "      <td>1.000000</td>\n",
       "      <td>1.000000</td>\n",
       "      <td>1.000000</td>\n",
       "    </tr>\n",
       "    <tr>\n",
       "      <th>6</th>\n",
       "      <td>80</td>\n",
       "      <td>0.241758</td>\n",
       "      <td>0.470512</td>\n",
       "      <td>0.710370</td>\n",
       "      <td>0.881602</td>\n",
       "      <td>0.964976</td>\n",
       "      <td>0.992660</td>\n",
       "      <td>0.998925</td>\n",
       "      <td>0.999891</td>\n",
       "      <td>1.000000</td>\n",
       "      <td>1.000000</td>\n",
       "      <td>1.000000</td>\n",
       "      <td>1.000000</td>\n",
       "      <td>1.000000</td>\n",
       "      <td>1.000000</td>\n",
       "    </tr>\n",
       "    <tr>\n",
       "      <th>7</th>\n",
       "      <td>90</td>\n",
       "      <td>0.266296</td>\n",
       "      <td>0.516642</td>\n",
       "      <td>0.760782</td>\n",
       "      <td>0.915587</td>\n",
       "      <td>0.979481</td>\n",
       "      <td>0.996639</td>\n",
       "      <td>0.999634</td>\n",
       "      <td>1.000000</td>\n",
       "      <td>1.000000</td>\n",
       "      <td>1.000000</td>\n",
       "      <td>1.000000</td>\n",
       "      <td>1.000000</td>\n",
       "      <td>1.000000</td>\n",
       "      <td>1.000000</td>\n",
       "    </tr>\n",
       "    <tr>\n",
       "      <th>8</th>\n",
       "      <td>100</td>\n",
       "      <td>0.290646</td>\n",
       "      <td>0.560059</td>\n",
       "      <td>0.803647</td>\n",
       "      <td>0.940427</td>\n",
       "      <td>0.988152</td>\n",
       "      <td>0.998490</td>\n",
       "      <td>0.999878</td>\n",
       "      <td>1.000000</td>\n",
       "      <td>1.000000</td>\n",
       "      <td>1.000000</td>\n",
       "      <td>1.000000</td>\n",
       "      <td>1.000000</td>\n",
       "      <td>1.000000</td>\n",
       "      <td>1.000000</td>\n",
       "    </tr>\n",
       "    <tr>\n",
       "      <th>9</th>\n",
       "      <td>110</td>\n",
       "      <td>0.314751</td>\n",
       "      <td>0.600687</td>\n",
       "      <td>0.839748</td>\n",
       "      <td>0.958341</td>\n",
       "      <td>0.993246</td>\n",
       "      <td>0.999333</td>\n",
       "      <td>1.000000</td>\n",
       "      <td>1.000000</td>\n",
       "      <td>1.000000</td>\n",
       "      <td>1.000000</td>\n",
       "      <td>1.000000</td>\n",
       "      <td>1.000000</td>\n",
       "      <td>1.000000</td>\n",
       "      <td>1.000000</td>\n",
       "    </tr>\n",
       "    <tr>\n",
       "      <th>10</th>\n",
       "      <td>120</td>\n",
       "      <td>0.338562</td>\n",
       "      <td>0.638505</td>\n",
       "      <td>0.869896</td>\n",
       "      <td>0.971109</td>\n",
       "      <td>0.996194</td>\n",
       "      <td>0.999709</td>\n",
       "      <td>1.000000</td>\n",
       "      <td>1.000000</td>\n",
       "      <td>1.000000</td>\n",
       "      <td>1.000000</td>\n",
       "      <td>1.000000</td>\n",
       "      <td>1.000000</td>\n",
       "      <td>1.000000</td>\n",
       "      <td>1.000000</td>\n",
       "    </tr>\n",
       "    <tr>\n",
       "      <th>11</th>\n",
       "      <td>130</td>\n",
       "      <td>0.362033</td>\n",
       "      <td>0.673544</td>\n",
       "      <td>0.894881</td>\n",
       "      <td>0.980114</td>\n",
       "      <td>0.997877</td>\n",
       "      <td>0.999875</td>\n",
       "      <td>1.000000</td>\n",
       "      <td>1.000000</td>\n",
       "      <td>1.000000</td>\n",
       "      <td>1.000000</td>\n",
       "      <td>1.000000</td>\n",
       "      <td>1.000000</td>\n",
       "      <td>1.000000</td>\n",
       "      <td>1.000000</td>\n",
       "    </tr>\n",
       "    <tr>\n",
       "      <th>12</th>\n",
       "      <td>140</td>\n",
       "      <td>0.385124</td>\n",
       "      <td>0.705866</td>\n",
       "      <td>0.915449</td>\n",
       "      <td>0.986407</td>\n",
       "      <td>0.998827</td>\n",
       "      <td>1.000000</td>\n",
       "      <td>1.000000</td>\n",
       "      <td>1.000000</td>\n",
       "      <td>1.000000</td>\n",
       "      <td>1.000000</td>\n",
       "      <td>1.000000</td>\n",
       "      <td>1.000000</td>\n",
       "      <td>1.000000</td>\n",
       "      <td>1.000000</td>\n",
       "    </tr>\n",
       "    <tr>\n",
       "      <th>13</th>\n",
       "      <td>150</td>\n",
       "      <td>0.407802</td>\n",
       "      <td>0.735567</td>\n",
       "      <td>0.932275</td>\n",
       "      <td>0.990768</td>\n",
       "      <td>0.999358</td>\n",
       "      <td>1.000000</td>\n",
       "      <td>1.000000</td>\n",
       "      <td>1.000000</td>\n",
       "      <td>1.000000</td>\n",
       "      <td>1.000000</td>\n",
       "      <td>1.000000</td>\n",
       "      <td>1.000000</td>\n",
       "      <td>1.000000</td>\n",
       "      <td>1.000000</td>\n",
       "    </tr>\n",
       "    <tr>\n",
       "      <th>14</th>\n",
       "      <td>160</td>\n",
       "      <td>0.430036</td>\n",
       "      <td>0.762761</td>\n",
       "      <td>0.945964</td>\n",
       "      <td>0.993766</td>\n",
       "      <td>0.999651</td>\n",
       "      <td>1.000000</td>\n",
       "      <td>1.000000</td>\n",
       "      <td>1.000000</td>\n",
       "      <td>1.000000</td>\n",
       "      <td>1.000000</td>\n",
       "      <td>1.000000</td>\n",
       "      <td>1.000000</td>\n",
       "      <td>1.000000</td>\n",
       "      <td>1.000000</td>\n",
       "    </tr>\n",
       "    <tr>\n",
       "      <th>15</th>\n",
       "      <td>170</td>\n",
       "      <td>0.451801</td>\n",
       "      <td>0.787575</td>\n",
       "      <td>0.957043</td>\n",
       "      <td>0.995814</td>\n",
       "      <td>0.999812</td>\n",
       "      <td>1.000000</td>\n",
       "      <td>1.000000</td>\n",
       "      <td>1.000000</td>\n",
       "      <td>1.000000</td>\n",
       "      <td>1.000000</td>\n",
       "      <td>1.000000</td>\n",
       "      <td>1.000000</td>\n",
       "      <td>1.000000</td>\n",
       "      <td>1.000000</td>\n",
       "    </tr>\n",
       "    <tr>\n",
       "      <th>16</th>\n",
       "      <td>180</td>\n",
       "      <td>0.473075</td>\n",
       "      <td>0.810149</td>\n",
       "      <td>0.965967</td>\n",
       "      <td>0.997203</td>\n",
       "      <td>0.999899</td>\n",
       "      <td>1.000000</td>\n",
       "      <td>1.000000</td>\n",
       "      <td>1.000000</td>\n",
       "      <td>1.000000</td>\n",
       "      <td>1.000000</td>\n",
       "      <td>1.000000</td>\n",
       "      <td>1.000000</td>\n",
       "      <td>1.000000</td>\n",
       "      <td>1.000000</td>\n",
       "    </tr>\n",
       "    <tr>\n",
       "      <th>17</th>\n",
       "      <td>190</td>\n",
       "      <td>0.493840</td>\n",
       "      <td>0.830625</td>\n",
       "      <td>0.973124</td>\n",
       "      <td>0.998140</td>\n",
       "      <td>1.000000</td>\n",
       "      <td>1.000000</td>\n",
       "      <td>1.000000</td>\n",
       "      <td>1.000000</td>\n",
       "      <td>1.000000</td>\n",
       "      <td>1.000000</td>\n",
       "      <td>1.000000</td>\n",
       "      <td>1.000000</td>\n",
       "      <td>1.000000</td>\n",
       "      <td>1.000000</td>\n",
       "    </tr>\n",
       "  </tbody>\n",
       "</table>\n",
       "</div>"
      ],
      "text/plain": [
       "    sample_size    d =0.2    d =0.3    d =0.4    d =0.5    d =0.6    d =0.7  \\\n",
       "0            20  0.094567  0.152268  0.234349  0.337939  0.456034  0.578290   \n",
       "1            30  0.118679  0.207852  0.331522  0.477897  0.627505  0.759905   \n",
       "2            40  0.143080  0.263284  0.423521  0.598147  0.754952  0.871133   \n",
       "3            50  0.167675  0.317802  0.508186  0.696893  0.843875  0.933907   \n",
       "4            60  0.192375  0.370802  0.584382  0.775266  0.903115  0.967314   \n",
       "5            70  0.217094  0.421819  0.651730  0.835822  0.941194  0.984313   \n",
       "6            80  0.241758  0.470512  0.710370  0.881602  0.964976  0.992660   \n",
       "7            90  0.266296  0.516642  0.760782  0.915587  0.979481  0.996639   \n",
       "8           100  0.290646  0.560059  0.803647  0.940427  0.988152  0.998490   \n",
       "9           110  0.314751  0.600687  0.839748  0.958341  0.993246  0.999333   \n",
       "10          120  0.338562  0.638505  0.869896  0.971109  0.996194  0.999709   \n",
       "11          130  0.362033  0.673544  0.894881  0.980114  0.997877  0.999875   \n",
       "12          140  0.385124  0.705866  0.915449  0.986407  0.998827  1.000000   \n",
       "13          150  0.407802  0.735567  0.932275  0.990768  0.999358  1.000000   \n",
       "14          160  0.430036  0.762761  0.945964  0.993766  0.999651  1.000000   \n",
       "15          170  0.451801  0.787575  0.957043  0.995814  0.999812  1.000000   \n",
       "16          180  0.473075  0.810149  0.965967  0.997203  0.999899  1.000000   \n",
       "17          190  0.493840  0.830625  0.973124  0.998140  1.000000  1.000000   \n",
       "\n",
       "      d =0.8    d =0.9    d =1.0    d =1.1    d =1.2    d =1.3    d =1.4  \\\n",
       "0   0.693404  0.792036  0.868953  0.923550  0.958827  0.979575  0.990685   \n",
       "1   0.861423  0.928872  0.967708  0.987086  0.995465  0.998605  0.999625   \n",
       "2   0.942182  0.978044  0.992985  0.998122  0.999580  0.999922  1.000000   \n",
       "3   0.977279  0.993712  0.998607  0.999754  1.000000  1.000000  1.000000   \n",
       "4   0.991481  0.998300  0.999742  1.000000  1.000000  1.000000  1.000000   \n",
       "5   0.996925  0.999561  1.000000  1.000000  1.000000  1.000000  1.000000   \n",
       "6   0.998925  0.999891  1.000000  1.000000  1.000000  1.000000  1.000000   \n",
       "7   0.999634  1.000000  1.000000  1.000000  1.000000  1.000000  1.000000   \n",
       "8   0.999878  1.000000  1.000000  1.000000  1.000000  1.000000  1.000000   \n",
       "9   1.000000  1.000000  1.000000  1.000000  1.000000  1.000000  1.000000   \n",
       "10  1.000000  1.000000  1.000000  1.000000  1.000000  1.000000  1.000000   \n",
       "11  1.000000  1.000000  1.000000  1.000000  1.000000  1.000000  1.000000   \n",
       "12  1.000000  1.000000  1.000000  1.000000  1.000000  1.000000  1.000000   \n",
       "13  1.000000  1.000000  1.000000  1.000000  1.000000  1.000000  1.000000   \n",
       "14  1.000000  1.000000  1.000000  1.000000  1.000000  1.000000  1.000000   \n",
       "15  1.000000  1.000000  1.000000  1.000000  1.000000  1.000000  1.000000   \n",
       "16  1.000000  1.000000  1.000000  1.000000  1.000000  1.000000  1.000000   \n",
       "17  1.000000  1.000000  1.000000  1.000000  1.000000  1.000000  1.000000   \n",
       "\n",
       "      d =1.5  \n",
       "0   0.996100  \n",
       "1   0.999912  \n",
       "2   1.000000  \n",
       "3   1.000000  \n",
       "4   1.000000  \n",
       "5   1.000000  \n",
       "6   1.000000  \n",
       "7   1.000000  \n",
       "8   1.000000  \n",
       "9   1.000000  \n",
       "10  1.000000  \n",
       "11  1.000000  \n",
       "12  1.000000  \n",
       "13  1.000000  \n",
       "14  1.000000  \n",
       "15  1.000000  \n",
       "16  1.000000  \n",
       "17  1.000000  "
      ]
     },
     "execution_count": 19,
     "metadata": {},
     "output_type": "execute_result"
    }
   ],
   "source": [
    "powers"
   ]
  },
  {
   "cell_type": "code",
   "execution_count": 20,
   "metadata": {},
   "outputs": [
    {
     "data": {
      "text/plain": [
       "Text(0.5, 0, 'Sample Size')"
      ]
     },
     "execution_count": 20,
     "metadata": {},
     "output_type": "execute_result"
    },
    {
     "data": {
      "image/png": "[encoded data removed]",
      "text/plain": [
       "<Figure size 864x720 with 1 Axes>"
      ]
     },
     "metadata": {
      "needs_background": "light"
     },
     "output_type": "display_data"
    }
   ],
   "source": [
    "import matplotlib.pyplot as plt\n",
    "%matplotlib inline\n",
    "fig = plt.figure(figsize=(12,10)) # define plot area\n",
    "ax = fig.gca() # define axis\n",
    "powers.plot(x = 'sample_size', ax = ax, linestyle = '-.')\n",
    "plt.hlines(y = 0.8, xmin = 20, xmax = 200, color = 'red', linestyle = '--')\n",
    "plt.title('Power vs. sample size for values of d')\n",
    "plt.ylabel('Power')\n",
    "plt.xlabel('Sample Size')"
   ]
  },
  {
   "cell_type": "code",
   "execution_count": 23,
   "metadata": {},
   "outputs": [
    {
     "data": {
      "text/plain": [
       "'You can modify the above code for different \\nsample sizes and ranges, but the rest stays the same. You can easily see with the graph that 80% power (red \\ndashed line) would take 180 participants per group for a d = .03 but would only take 45 people per group at d = .06.\\n\\nOne Final Word of Caution\\nSome people have brushed aside the issue of poor power, especially when a result is \\nsignificant. After all, if a result is significant, it had power to reject the null, right?\\n\\nWrong. Beware significant findings from under-powered studies.\\n\\nConsider a study that has very low power. In such a case, the researcher has almost no ability to find true effects.\\n\\nHowever, false positives still happen 5% of the time (when the null is true).\\n\\nThus, as power gets lower, the number of \"true\" positives (real effects, discovered) goes down, while the number of \\nfalse positives stays \\nfixed. When power is low, false positives can equal or even outnumber true positives. In such cases, when an \\neffect is significant, it is very challenging to know whether the effect is a true positive or a false positive. \\nWe will explore this issue in a future lesson, but take this as a word of caution about under-powered studies.\\n'"
      ]
     },
     "execution_count": 23,
     "metadata": {},
     "output_type": "execute_result"
    }
   ],
   "source": [
    "'''You can modify the above code for different \n",
    "sample sizes and ranges, but the rest stays the same. You can easily see with the graph that 80% power (red \n",
    "dashed line) would take 180 participants per group for a d = .03 but would only take 45 people per group at d = .06.\n",
    "\n",
    "One Final Word of Caution\n",
    "Some people have brushed aside the issue of poor power, especially when a result is \n",
    "significant. After all, if a result is significant, it had power to reject the null, right?\n",
    "\n",
    "Wrong. Beware significant findings from under-powered studies.\n",
    "\n",
    "Consider a study that has very low power. In such a case, the researcher has almost no ability to find true effects.\n",
    "\n",
    "However, false positives still happen 5% of the time (when the null is true).\n",
    "\n",
    "Thus, as power gets lower, the number of \"true\" positives (real effects, discovered) goes down, while the number of \n",
    "false positives stays \n",
    "fixed. When power is low, false positives can equal or even outnumber true positives. In such cases, when an \n",
    "effect is significant, it is very challenging to know whether the effect is a true positive or a false positive. \n",
    "We will explore this issue in a future lesson, but take this as a word of caution about under-powered studies.\n",
    "'''"
   ]
  },
  {
   "cell_type": "code",
   "execution_count": null,
   "metadata": {},
   "outputs": [],
   "source": []
  }
 ],
 "metadata": {
  "kernelspec": {
   "display_name": "Python 3",
   "language": "python",
   "name": "python3"
  },
  "language_info": {
   "codemirror_mode": {
    "name": "ipython",
    "version": 3
   },
   "file_extension": ".py",
   "mimetype": "text/x-python",
   "name": "python",
   "nbconvert_exporter": "python",
   "pygments_lexer": "ipython3",
   "version": "3.8.2"
  }
 },
 "nbformat": 4,
 "nbformat_minor": 4
}
