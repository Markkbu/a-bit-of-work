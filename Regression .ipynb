{
 "cells": [
  {
   "cell_type": "code",
   "execution_count": 1,
   "metadata": {},
   "outputs": [
    {
     "name": "stdout",
     "output_type": "stream",
     "text": [
      "      CRIM    ZN  INDUS  CHAS    NOX     RM   AGE     DIS  RAD    TAX  \\\n",
      "0  0.00632  18.0   2.31   0.0  0.538  6.575  65.2  4.0900  1.0  296.0   \n",
      "1  0.02731   0.0   7.07   0.0  0.469  6.421  78.9  4.9671  2.0  242.0   \n",
      "2  0.02729   0.0   7.07   0.0  0.469  7.185  61.1  4.9671  2.0  242.0   \n",
      "3  0.03237   0.0   2.18   0.0  0.458  6.998  45.8  6.0622  3.0  222.0   \n",
      "4  0.06905   0.0   2.18   0.0  0.458  7.147  54.2  6.0622  3.0  222.0   \n",
      "\n",
      "   PTRATIO       B  LSTAT  \n",
      "0     15.3  396.90   4.98  \n",
      "1     17.8  396.90   9.14  \n",
      "2     17.8  392.83   4.03  \n",
      "3     18.7  394.63   2.94  \n",
      "4     18.7  396.90   5.33  \n",
      "   target\n",
      "0    24.0\n",
      "1    21.6\n",
      "2    34.7\n",
      "3    33.4\n",
      "4    36.2\n"
     ]
    }
   ],
   "source": [
    "import pandas as pd\n",
    "import numpy as np\n",
    "import sklearn.datasets as ds\n",
    "import matplotlib.pyplot as plt\n",
    "\n",
    "# Regression data\n",
    "dataset_reg = ds.load_boston()\n",
    "X_reg = pd.DataFrame(data = dataset_reg['data'], columns = dataset_reg['feature_names'])\n",
    "y_reg = pd.DataFrame(data = dataset_reg['target'], columns = ['target'])\n",
    "print(X_reg.head())\n",
    "print(y_reg.head())"
   ]
  },
  {
   "cell_type": "code",
   "execution_count": 7,
   "metadata": {},
   "outputs": [
    {
     "name": "stdout",
     "output_type": "stream",
     "text": [
      "   mean radius  mean texture  mean perimeter  mean area  mean smoothness  \\\n",
      "0        17.99         10.38          122.80     1001.0          0.11840   \n",
      "1        20.57         17.77          132.90     1326.0          0.08474   \n",
      "2        19.69         21.25          130.00     1203.0          0.10960   \n",
      "3        11.42         20.38           77.58      386.1          0.14250   \n",
      "4        20.29         14.34          135.10     1297.0          0.10030   \n",
      "\n",
      "   mean compactness  mean concavity  mean concave points  mean symmetry  \\\n",
      "0           0.27760          0.3001              0.14710         0.2419   \n",
      "1           0.07864          0.0869              0.07017         0.1812   \n",
      "2           0.15990          0.1974              0.12790         0.2069   \n",
      "3           0.28390          0.2414              0.10520         0.2597   \n",
      "4           0.13280          0.1980              0.10430         0.1809   \n",
      "\n",
      "   mean fractal dimension  ...  worst radius  worst texture  worst perimeter  \\\n",
      "0                 0.07871  ...         25.38          17.33           184.60   \n",
      "1                 0.05667  ...         24.99          23.41           158.80   \n",
      "2                 0.05999  ...         23.57          25.53           152.50   \n",
      "3                 0.09744  ...         14.91          26.50            98.87   \n",
      "4                 0.05883  ...         22.54          16.67           152.20   \n",
      "\n",
      "   worst area  worst smoothness  worst compactness  worst concavity  \\\n",
      "0      2019.0            0.1622             0.6656           0.7119   \n",
      "1      1956.0            0.1238             0.1866           0.2416   \n",
      "2      1709.0            0.1444             0.4245           0.4504   \n",
      "3       567.7            0.2098             0.8663           0.6869   \n",
      "4      1575.0            0.1374             0.2050           0.4000   \n",
      "\n",
      "   worst concave points  worst symmetry  worst fractal dimension  \n",
      "0                0.2654          0.4601                  0.11890  \n",
      "1                0.1860          0.2750                  0.08902  \n",
      "2                0.2430          0.3613                  0.08758  \n",
      "3                0.2575          0.6638                  0.17300  \n",
      "4                0.1625          0.2364                  0.07678  \n",
      "\n",
      "[5 rows x 30 columns]\n",
      "   target\n",
      "0       0\n",
      "1       0\n",
      "2       0\n",
      "3       0\n",
      "4       0\n"
     ]
    }
   ],
   "source": [
    "# Classification data\n",
    "dataset_class = ds.load_breast_cancer()\n",
    "X_class = pd.DataFrame(data = dataset_class['data'], columns = dataset_class['feature_names'])\n",
    "y_class = pd.DataFrame(data = dataset_class['target'], columns = ['target'])\n",
    "print(X_class.head())\n",
    "print(y_class.head())"
   ]
  },
  {
   "cell_type": "code",
   "execution_count": 3,
   "metadata": {},
   "outputs": [
    {
     "data": {
      "image/png": "[encoded data removed]",
      "text/plain": [
       "<Figure size 432x288 with 1 Axes>"
      ]
     },
     "metadata": {
      "needs_background": "light"
     },
     "output_type": "display_data"
    }
   ],
   "source": [
    "from sklearn.linear_model import LinearRegression\n",
    "   \n",
    "# We single out 1 independent variable \n",
    "x_val = X_reg[['RM']]\n",
    "\n",
    "# Creation of the LinearRegression object\n",
    "lin_r = LinearRegression()\n",
    "\n",
    "# Fitting the data\n",
    "lin_r.fit(x_val, y_reg)\n",
    "\n",
    "# Obtaining predictions\n",
    "prediction = lin_r.predict(x_val)\n",
    "\n",
    "# Plotting the predicted and actual values\n",
    "plt.scatter(x_val, y_reg, color = 'blue')\n",
    "plt.scatter(x_val, prediction, color = 'red')\n",
    "plt.show()"
   ]
  },
  {
   "cell_type": "code",
   "execution_count": null,
   "metadata": {},
   "outputs": [],
   "source": [
    "'''Notice how we obtain a straight line for the prediction. This one minimises the distances with all observations. \n",
    "We can obtain the parameter estimates for  β0β0  and  β1β1  as follows:'''"
   ]
  },
  {
   "cell_type": "code",
   "execution_count": 8,
   "metadata": {},
   "outputs": [
    {
     "name": "stdout",
     "output_type": "stream",
     "text": [
      "[[9.10210898]]\n",
      "[-34.67062078]\n"
     ]
    }
   ],
   "source": [
    "# beta_1 / the slope\n",
    "print(lin_r.coef_)\n",
    "\n",
    "# beta_0 / the intercept\n",
    "print(lin_r.intercept_)"
   ]
  },
  {
   "cell_type": "code",
   "execution_count": 4,
   "metadata": {},
   "outputs": [],
   "source": [
    "#logical Regression\n",
    "\n",
    "from sklearn.linear_model import LogisticRegression\n",
    "\n",
    "# Again, we select a particular independent variable for our analysis\n",
    "x_val = X_class[['mean perimeter']]\n",
    "\n",
    "# Creating the LogisticRegression object\n",
    "log_r = LogisticRegression(solver='liblinear')\n",
    "\n",
    "# Fitting the data\n",
    "log_r.fit(x_val, y_class.values.reshape(-1,))\n",
    "\n",
    "# And... prediction\n",
    "prediction = log_r.predict(x_val)"
   ]
  },
  {
   "cell_type": "code",
   "execution_count": null,
   "metadata": {},
   "outputs": [],
   "source": [
    "'''In this case, plotting would not work out well since we only have two possible outcomes. We can calculate\n",
    "the number of correct predictions:'''"
   ]
  },
  {
   "cell_type": "code",
   "execution_count": 5,
   "metadata": {},
   "outputs": [
    {
     "name": "stdout",
     "output_type": "stream",
     "text": [
      "#Correct:  505  out of  569\n"
     ]
    }
   ],
   "source": [
    "correct = 0\n",
    "for pred, actual in zip(prediction, y_class.values):\n",
    "    if pred == actual:\n",
    "        correct +=1\n",
    "    \n",
    "print(\"#Correct: \", correct, \" out of \", len(prediction))"
   ]
  },
  {
   "cell_type": "code",
   "execution_count": null,
   "metadata": {},
   "outputs": [],
   "source": [
    "'''There are many evaluation criteria we can use to evaluate both a regression and classification, \n",
    "so this was an initial visual and simple attempt at verifying our results. Notice how similar the creation, \n",
    "fitting, and prediction of both models is. In general, the art is not in coding the models, but selecting \n",
    "the right one for the right occasion, and comparison.'''"
   ]
  }
 ],
 "metadata": {
  "kernelspec": {
   "display_name": "Python 3",
   "language": "python",
   "name": "python3"
  },
  "language_info": {
   "codemirror_mode": {
    "name": "ipython",
    "version": 3
   },
   "file_extension": ".py",
   "mimetype": "text/x-python",
   "name": "python",
   "nbconvert_exporter": "python",
   "pygments_lexer": "ipython3",
   "version": "3.8.2"
  }
 },
 "nbformat": 4,
 "nbformat_minor": 4
}
