{
 "cells": [
  {
   "cell_type": "code",
   "execution_count": 1,
   "metadata": {},
   "outputs": [],
   "source": [
    "import pandas as pd\n",
    "import numpy as np\n",
    "import seaborn as sns"
   ]
  },
  {
   "cell_type": "code",
   "execution_count": 2,
   "metadata": {},
   "outputs": [],
   "source": [
    "sns.set_style('whitegrid')"
   ]
  },
  {
   "cell_type": "code",
   "execution_count": 3,
   "metadata": {},
   "outputs": [],
   "source": [
    "avg = 1\n",
    "std_dev = .1\n",
    "num_reps = 500\n",
    "num_simulations = 1000"
   ]
  },
  {
   "cell_type": "code",
   "execution_count": 36,
   "metadata": {},
   "outputs": [],
   "source": [
    "# Show an example of calculating the percent to target\n",
    "pct_to_target = np.random.normal(\n",
    "    avg,\n",
    "    std_dev, num_reps\n",
    ").round(3)"
   ]
  },
  {
   "cell_type": "code",
   "execution_count": 37,
   "metadata": {},
   "outputs": [
    {
     "data": {
      "text/plain": [
       "array([1.142, 0.831, 0.978, 1.039, 0.679])"
      ]
     },
     "execution_count": 37,
     "metadata": {},
     "output_type": "execute_result"
    }
   ],
   "source": [
    "pct_to_target[0:5]"
   ]
  },
  {
   "cell_type": "code",
   "execution_count": 39,
   "metadata": {},
   "outputs": [],
   "source": [
    "#another example of target sales distribution\n",
    "sales_target_values= [75_000, 100_000, 200_000, 300_000, 400_000, 500_000]\n",
    "sales_target_prob = [.3,.3,.2,.1,.05,.05]\n",
    "sales_target = np.random.choice(sales_target_values,num_reps, \n",
    "                    p=sales_target_prob) \n",
    "\n"
   ]
  },
  {
   "cell_type": "code",
   "execution_count": 40,
   "metadata": {},
   "outputs": [
    {
     "data": {
      "text/plain": [
       "array([200000, 300000, 100000,  75000, 100000,  75000, 300000, 200000,\n",
       "        75000,  75000, 100000, 500000, 300000, 100000])"
      ]
     },
     "execution_count": 40,
     "metadata": {},
     "output_type": "execute_result"
    }
   ],
   "source": [
    "sales_target[0:14]"
   ]
  },
  {
   "cell_type": "code",
   "execution_count": 44,
   "metadata": {},
   "outputs": [],
   "source": [
    "df = pd.DataFrame(index=range(num_reps), \n",
    "                 data={'PCT_to_Target': pct_to_target,\n",
    "                       'Sales_Target': sales_target})\n",
    "\n",
    "df['Sales'] = df['PCT_to_Target'] * df['Sales_Target']\n",
    "\n",
    "\n",
    "\n"
   ]
  },
  {
   "cell_type": "code",
   "execution_count": 45,
   "metadata": {},
   "outputs": [
    {
     "data": {
      "text/html": [
       "<div>\n",
       "<style scoped>\n",
       "    .dataframe tbody tr th:only-of-type {\n",
       "        vertical-align: middle;\n",
       "    }\n",
       "\n",
       "    .dataframe tbody tr th {\n",
       "        vertical-align: top;\n",
       "    }\n",
       "\n",
       "    .dataframe thead th {\n",
       "        text-align: right;\n",
       "    }\n",
       "</style>\n",
       "<table border=\"1\" class=\"dataframe\">\n",
       "  <thead>\n",
       "    <tr style=\"text-align: right;\">\n",
       "      <th></th>\n",
       "      <th>PCT_to_Target</th>\n",
       "      <th>Sales_Target</th>\n",
       "      <th>Sales</th>\n",
       "    </tr>\n",
       "  </thead>\n",
       "  <tbody>\n",
       "    <tr>\n",
       "      <th>0</th>\n",
       "      <td>1.142</td>\n",
       "      <td>200000</td>\n",
       "      <td>228400.0</td>\n",
       "    </tr>\n",
       "    <tr>\n",
       "      <th>1</th>\n",
       "      <td>0.831</td>\n",
       "      <td>300000</td>\n",
       "      <td>249300.0</td>\n",
       "    </tr>\n",
       "    <tr>\n",
       "      <th>2</th>\n",
       "      <td>0.978</td>\n",
       "      <td>100000</td>\n",
       "      <td>97800.0</td>\n",
       "    </tr>\n",
       "    <tr>\n",
       "      <th>3</th>\n",
       "      <td>1.039</td>\n",
       "      <td>75000</td>\n",
       "      <td>77925.0</td>\n",
       "    </tr>\n",
       "    <tr>\n",
       "      <th>4</th>\n",
       "      <td>0.679</td>\n",
       "      <td>100000</td>\n",
       "      <td>67900.0</td>\n",
       "    </tr>\n",
       "  </tbody>\n",
       "</table>\n",
       "</div>"
      ],
      "text/plain": [
       "   PCT_to_Target  Sales_Target     Sales\n",
       "0          1.142        200000  228400.0\n",
       "1          0.831        300000  249300.0\n",
       "2          0.978        100000   97800.0\n",
       "3          1.039         75000   77925.0\n",
       "4          0.679        100000   67900.0"
      ]
     },
     "execution_count": 45,
     "metadata": {},
     "output_type": "execute_result"
    }
   ],
   "source": [
    "df.head()"
   ]
  },
  {
   "cell_type": "code",
   "execution_count": 47,
   "metadata": {},
   "outputs": [
    {
     "data": {
      "text/plain": [
       "<matplotlib.axes._subplots.AxesSubplot at 0x7b32ae5504f0>"
      ]
     },
     "execution_count": 47,
     "metadata": {},
     "output_type": "execute_result"
    },
    {
     "data": {
      "image/png": "[encoded data removed]",
      "text/plain": [
       "<Figure size 432x288 with 1 Axes>"
      ]
     },
     "metadata": {},
     "output_type": "display_data"
    }
   ],
   "source": [
    "df['PCT_to_Target'].plot(kind='hist',title='Percentage to Target Dist')"
   ]
  },
  {
   "cell_type": "code",
   "execution_count": 48,
   "metadata": {},
   "outputs": [],
   "source": [
    "def calc_commission_rate(x):\n",
    "    if x <= .90:\n",
    "        return .02\n",
    "    if x <= .99:\n",
    "        return .03\n",
    "    else:\n",
    "        return .04"
   ]
  },
  {
   "cell_type": "code",
   "execution_count": 51,
   "metadata": {},
   "outputs": [],
   "source": [
    "df['Commission_Rate'] = df['PCT_to_Target'].apply(calc_commission_rate)"
   ]
  },
  {
   "cell_type": "code",
   "execution_count": 52,
   "metadata": {},
   "outputs": [
    {
     "data": {
      "text/html": [
       "<div>\n",
       "<style scoped>\n",
       "    .dataframe tbody tr th:only-of-type {\n",
       "        vertical-align: middle;\n",
       "    }\n",
       "\n",
       "    .dataframe tbody tr th {\n",
       "        vertical-align: top;\n",
       "    }\n",
       "\n",
       "    .dataframe thead th {\n",
       "        text-align: right;\n",
       "    }\n",
       "</style>\n",
       "<table border=\"1\" class=\"dataframe\">\n",
       "  <thead>\n",
       "    <tr style=\"text-align: right;\">\n",
       "      <th></th>\n",
       "      <th>PCT_to_Target</th>\n",
       "      <th>Sales_Target</th>\n",
       "      <th>Sales</th>\n",
       "      <th>Commission_Rate</th>\n",
       "    </tr>\n",
       "  </thead>\n",
       "  <tbody>\n",
       "    <tr>\n",
       "      <th>0</th>\n",
       "      <td>1.142</td>\n",
       "      <td>200000</td>\n",
       "      <td>228400.0</td>\n",
       "      <td>0.04</td>\n",
       "    </tr>\n",
       "    <tr>\n",
       "      <th>1</th>\n",
       "      <td>0.831</td>\n",
       "      <td>300000</td>\n",
       "      <td>249300.0</td>\n",
       "      <td>0.02</td>\n",
       "    </tr>\n",
       "    <tr>\n",
       "      <th>2</th>\n",
       "      <td>0.978</td>\n",
       "      <td>100000</td>\n",
       "      <td>97800.0</td>\n",
       "      <td>0.03</td>\n",
       "    </tr>\n",
       "    <tr>\n",
       "      <th>3</th>\n",
       "      <td>1.039</td>\n",
       "      <td>75000</td>\n",
       "      <td>77925.0</td>\n",
       "      <td>0.04</td>\n",
       "    </tr>\n",
       "    <tr>\n",
       "      <th>4</th>\n",
       "      <td>0.679</td>\n",
       "      <td>100000</td>\n",
       "      <td>67900.0</td>\n",
       "      <td>0.02</td>\n",
       "    </tr>\n",
       "  </tbody>\n",
       "</table>\n",
       "</div>"
      ],
      "text/plain": [
       "   PCT_to_Target  Sales_Target     Sales  Commission_Rate\n",
       "0          1.142        200000  228400.0             0.04\n",
       "1          0.831        300000  249300.0             0.02\n",
       "2          0.978        100000   97800.0             0.03\n",
       "3          1.039         75000   77925.0             0.04\n",
       "4          0.679        100000   67900.0             0.02"
      ]
     },
     "execution_count": 52,
     "metadata": {},
     "output_type": "execute_result"
    }
   ],
   "source": [
    "df.head()"
   ]
  },
  {
   "cell_type": "code",
   "execution_count": 53,
   "metadata": {},
   "outputs": [],
   "source": [
    "df['Commission_Ammount'] = df['Commission_Rate'] * df['Sales']"
   ]
  },
  {
   "cell_type": "code",
   "execution_count": 54,
   "metadata": {},
   "outputs": [
    {
     "data": {
      "text/html": [
       "<div>\n",
       "<style scoped>\n",
       "    .dataframe tbody tr th:only-of-type {\n",
       "        vertical-align: middle;\n",
       "    }\n",
       "\n",
       "    .dataframe tbody tr th {\n",
       "        vertical-align: top;\n",
       "    }\n",
       "\n",
       "    .dataframe thead th {\n",
       "        text-align: right;\n",
       "    }\n",
       "</style>\n",
       "<table border=\"1\" class=\"dataframe\">\n",
       "  <thead>\n",
       "    <tr style=\"text-align: right;\">\n",
       "      <th></th>\n",
       "      <th>PCT_to_Target</th>\n",
       "      <th>Sales_Target</th>\n",
       "      <th>Sales</th>\n",
       "      <th>Commission_Rate</th>\n",
       "      <th>Commission_Ammount</th>\n",
       "    </tr>\n",
       "  </thead>\n",
       "  <tbody>\n",
       "    <tr>\n",
       "      <th>0</th>\n",
       "      <td>1.142</td>\n",
       "      <td>200000</td>\n",
       "      <td>228400.0</td>\n",
       "      <td>0.04</td>\n",
       "      <td>9136.0</td>\n",
       "    </tr>\n",
       "    <tr>\n",
       "      <th>1</th>\n",
       "      <td>0.831</td>\n",
       "      <td>300000</td>\n",
       "      <td>249300.0</td>\n",
       "      <td>0.02</td>\n",
       "      <td>4986.0</td>\n",
       "    </tr>\n",
       "    <tr>\n",
       "      <th>2</th>\n",
       "      <td>0.978</td>\n",
       "      <td>100000</td>\n",
       "      <td>97800.0</td>\n",
       "      <td>0.03</td>\n",
       "      <td>2934.0</td>\n",
       "    </tr>\n",
       "    <tr>\n",
       "      <th>3</th>\n",
       "      <td>1.039</td>\n",
       "      <td>75000</td>\n",
       "      <td>77925.0</td>\n",
       "      <td>0.04</td>\n",
       "      <td>3117.0</td>\n",
       "    </tr>\n",
       "    <tr>\n",
       "      <th>4</th>\n",
       "      <td>0.679</td>\n",
       "      <td>100000</td>\n",
       "      <td>67900.0</td>\n",
       "      <td>0.02</td>\n",
       "      <td>1358.0</td>\n",
       "    </tr>\n",
       "  </tbody>\n",
       "</table>\n",
       "</div>"
      ],
      "text/plain": [
       "   PCT_to_Target  Sales_Target     Sales  Commission_Rate  Commission_Ammount\n",
       "0          1.142        200000  228400.0             0.04              9136.0\n",
       "1          0.831        300000  249300.0             0.02              4986.0\n",
       "2          0.978        100000   97800.0             0.03              2934.0\n",
       "3          1.039         75000   77925.0             0.04              3117.0\n",
       "4          0.679        100000   67900.0             0.02              1358.0"
      ]
     },
     "execution_count": 54,
     "metadata": {},
     "output_type": "execute_result"
    }
   ],
   "source": [
    "df.head()"
   ]
  },
  {
   "cell_type": "code",
   "execution_count": 55,
   "metadata": {},
   "outputs": [
    {
     "data": {
      "text/html": [
       "<div>\n",
       "<style scoped>\n",
       "    .dataframe tbody tr th:only-of-type {\n",
       "        vertical-align: middle;\n",
       "    }\n",
       "\n",
       "    .dataframe tbody tr th {\n",
       "        vertical-align: top;\n",
       "    }\n",
       "\n",
       "    .dataframe thead th {\n",
       "        text-align: right;\n",
       "    }\n",
       "</style>\n",
       "<table border=\"1\" class=\"dataframe\">\n",
       "  <thead>\n",
       "    <tr style=\"text-align: right;\">\n",
       "      <th></th>\n",
       "      <th>PCT_to_Target</th>\n",
       "      <th>Sales_Target</th>\n",
       "      <th>Sales</th>\n",
       "      <th>Commission_Rate</th>\n",
       "      <th>Commission_Ammount</th>\n",
       "    </tr>\n",
       "  </thead>\n",
       "  <tbody>\n",
       "    <tr>\n",
       "      <th>count</th>\n",
       "      <td>500.000000</td>\n",
       "      <td>500.000000</td>\n",
       "      <td>500.00000</td>\n",
       "      <td>500.000000</td>\n",
       "      <td>500.000000</td>\n",
       "    </tr>\n",
       "    <tr>\n",
       "      <th>mean</th>\n",
       "      <td>1.001252</td>\n",
       "      <td>163600.000000</td>\n",
       "      <td>164025.45000</td>\n",
       "      <td>0.034140</td>\n",
       "      <td>5692.794500</td>\n",
       "    </tr>\n",
       "    <tr>\n",
       "      <th>std</th>\n",
       "      <td>0.093723</td>\n",
       "      <td>116155.172283</td>\n",
       "      <td>119027.87708</td>\n",
       "      <td>0.007153</td>\n",
       "      <td>4521.312296</td>\n",
       "    </tr>\n",
       "    <tr>\n",
       "      <th>min</th>\n",
       "      <td>0.679000</td>\n",
       "      <td>75000.000000</td>\n",
       "      <td>60375.00000</td>\n",
       "      <td>0.020000</td>\n",
       "      <td>1207.500000</td>\n",
       "    </tr>\n",
       "    <tr>\n",
       "      <th>25%</th>\n",
       "      <td>0.940000</td>\n",
       "      <td>75000.000000</td>\n",
       "      <td>81387.50000</td>\n",
       "      <td>0.030000</td>\n",
       "      <td>2927.250000</td>\n",
       "    </tr>\n",
       "    <tr>\n",
       "      <th>50%</th>\n",
       "      <td>1.001000</td>\n",
       "      <td>100000.000000</td>\n",
       "      <td>102450.00000</td>\n",
       "      <td>0.040000</td>\n",
       "      <td>4018.000000</td>\n",
       "    </tr>\n",
       "    <tr>\n",
       "      <th>75%</th>\n",
       "      <td>1.064250</td>\n",
       "      <td>200000.000000</td>\n",
       "      <td>207800.00000</td>\n",
       "      <td>0.040000</td>\n",
       "      <td>8150.000000</td>\n",
       "    </tr>\n",
       "    <tr>\n",
       "      <th>max</th>\n",
       "      <td>1.284000</td>\n",
       "      <td>500000.000000</td>\n",
       "      <td>596000.00000</td>\n",
       "      <td>0.040000</td>\n",
       "      <td>23840.000000</td>\n",
       "    </tr>\n",
       "  </tbody>\n",
       "</table>\n",
       "</div>"
      ],
      "text/plain": [
       "       PCT_to_Target   Sales_Target         Sales  Commission_Rate  \\\n",
       "count     500.000000     500.000000     500.00000       500.000000   \n",
       "mean        1.001252  163600.000000  164025.45000         0.034140   \n",
       "std         0.093723  116155.172283  119027.87708         0.007153   \n",
       "min         0.679000   75000.000000   60375.00000         0.020000   \n",
       "25%         0.940000   75000.000000   81387.50000         0.030000   \n",
       "50%         1.001000  100000.000000  102450.00000         0.040000   \n",
       "75%         1.064250  200000.000000  207800.00000         0.040000   \n",
       "max         1.284000  500000.000000  596000.00000         0.040000   \n",
       "\n",
       "       Commission_Ammount  \n",
       "count          500.000000  \n",
       "mean          5692.794500  \n",
       "std           4521.312296  \n",
       "min           1207.500000  \n",
       "25%           2927.250000  \n",
       "50%           4018.000000  \n",
       "75%           8150.000000  \n",
       "max          23840.000000  "
      ]
     },
     "execution_count": 55,
     "metadata": {},
     "output_type": "execute_result"
    }
   ],
   "source": [
    "df.describe()"
   ]
  },
  {
   "cell_type": "code",
   "execution_count": 56,
   "metadata": {},
   "outputs": [],
   "source": [
    "# Define a list to keep all the results from each simulation that we want to analyze\n",
    "all_stats = []\n",
    "\n",
    "# Loop through many simulations\n",
    "for i in range(num_simulations):\n",
    "    \n",
    "    # Choose random inputs for the sales targets and percent to target\n",
    "    sales_target = np.random.choice(sales_target_values, num_reps, p=sales_target_prob)\n",
    "    pct_to_target = np.random.normal(avg, std_dev, num_reps).round(2)\n",
    "    \n",
    "    # Build the dataframe based on the inputs and number of reps\n",
    "    df = pd.DataFrame(index=range(num_reps), data={'Pct_To_Target': pct_to_target,\n",
    "                                                   'Sales_Target': sales_target})\n",
    "\n",
    " # Back into the sales number using the percent to target rate\n",
    "    df['Sales'] = df['Pct_To_Target'] * df['Sales_Target']\n",
    "    \n",
    "    # Determine the commissions rate and calculate it\n",
    "    df['Commission_Rate'] = df['Pct_To_Target'].apply(calc_commission_rate)\n",
    "    df['Commission_Amount'] = df['Commission_Rate'] * df['Sales']\n",
    "    \n",
    "    # We want to track sales,commission amounts and sales targets over all the simulations\n",
    "    all_stats.append([df['Sales'].sum().round(0), \n",
    "                      df['Commission_Amount'].sum().round(0), \n",
    "                      df['Sales_Target'].sum().round(0)])"
   ]
  },
  {
   "cell_type": "code",
   "execution_count": 57,
   "metadata": {},
   "outputs": [],
   "source": [
    "results_df = pd.DataFrame.from_records(all_stats, columns=['Sales', 'Commission_Amount', 'Sales_Target'])"
   ]
  },
  {
   "cell_type": "code",
   "execution_count": 58,
   "metadata": {},
   "outputs": [
    {
     "data": {
      "text/html": [
       "<style  type=\"text/css\" >\n",
       "</style><table id=\"T_93b072a4_b2e7_11ea_9e8f_00163eadedfa\" ><thead>    <tr>        <th class=\"blank level0\" ></th>        <th class=\"col_heading level0 col0\" >Sales</th>        <th class=\"col_heading level0 col1\" >Commission_Amount</th>        <th class=\"col_heading level0 col2\" >Sales_Target</th>    </tr></thead><tbody>\n",
       "                <tr>\n",
       "                        <th id=\"T_93b072a4_b2e7_11ea_9e8f_00163eadedfalevel0_row0\" class=\"row_heading level0 row0\" >count</th>\n",
       "                        <td id=\"T_93b072a4_b2e7_11ea_9e8f_00163eadedfarow0_col0\" class=\"data row0 col0\" >1,000.0</td>\n",
       "                        <td id=\"T_93b072a4_b2e7_11ea_9e8f_00163eadedfarow0_col1\" class=\"data row0 col1\" >1,000.0</td>\n",
       "                        <td id=\"T_93b072a4_b2e7_11ea_9e8f_00163eadedfarow0_col2\" class=\"data row0 col2\" >1,000.0</td>\n",
       "            </tr>\n",
       "            <tr>\n",
       "                        <th id=\"T_93b072a4_b2e7_11ea_9e8f_00163eadedfalevel0_row1\" class=\"row_heading level0 row1\" >mean</th>\n",
       "                        <td id=\"T_93b072a4_b2e7_11ea_9e8f_00163eadedfarow1_col0\" class=\"data row1 col0\" >83,801,532.0</td>\n",
       "                        <td id=\"T_93b072a4_b2e7_11ea_9e8f_00163eadedfarow1_col1\" class=\"data row1 col1\" >2,860,346.0</td>\n",
       "                        <td id=\"T_93b072a4_b2e7_11ea_9e8f_00163eadedfarow1_col2\" class=\"data row1 col2\" >83,814,975.0</td>\n",
       "            </tr>\n",
       "            <tr>\n",
       "                        <th id=\"T_93b072a4_b2e7_11ea_9e8f_00163eadedfalevel0_row2\" class=\"row_heading level0 row2\" >std</th>\n",
       "                        <td id=\"T_93b072a4_b2e7_11ea_9e8f_00163eadedfarow2_col0\" class=\"data row2 col0\" >2,740,056.0</td>\n",
       "                        <td id=\"T_93b072a4_b2e7_11ea_9e8f_00163eadedfarow2_col1\" class=\"data row2 col1\" >103,177.0</td>\n",
       "                        <td id=\"T_93b072a4_b2e7_11ea_9e8f_00163eadedfarow2_col2\" class=\"data row2 col2\" >2,701,900.0</td>\n",
       "            </tr>\n",
       "            <tr>\n",
       "                        <th id=\"T_93b072a4_b2e7_11ea_9e8f_00163eadedfalevel0_row3\" class=\"row_heading level0 row3\" >min</th>\n",
       "                        <td id=\"T_93b072a4_b2e7_11ea_9e8f_00163eadedfarow3_col0\" class=\"data row3 col0\" >75,107,250.0</td>\n",
       "                        <td id=\"T_93b072a4_b2e7_11ea_9e8f_00163eadedfarow3_col1\" class=\"data row3 col1\" >2,552,865.0</td>\n",
       "                        <td id=\"T_93b072a4_b2e7_11ea_9e8f_00163eadedfarow3_col2\" class=\"data row3 col2\" >75,125,000.0</td>\n",
       "            </tr>\n",
       "            <tr>\n",
       "                        <th id=\"T_93b072a4_b2e7_11ea_9e8f_00163eadedfalevel0_row4\" class=\"row_heading level0 row4\" >25%</th>\n",
       "                        <td id=\"T_93b072a4_b2e7_11ea_9e8f_00163eadedfarow4_col0\" class=\"data row4 col0\" >81,936,375.0</td>\n",
       "                        <td id=\"T_93b072a4_b2e7_11ea_9e8f_00163eadedfarow4_col1\" class=\"data row4 col1\" >2,792,831.0</td>\n",
       "                        <td id=\"T_93b072a4_b2e7_11ea_9e8f_00163eadedfarow4_col2\" class=\"data row4 col2\" >81,975,000.0</td>\n",
       "            </tr>\n",
       "            <tr>\n",
       "                        <th id=\"T_93b072a4_b2e7_11ea_9e8f_00163eadedfalevel0_row5\" class=\"row_heading level0 row5\" >50%</th>\n",
       "                        <td id=\"T_93b072a4_b2e7_11ea_9e8f_00163eadedfarow5_col0\" class=\"data row5 col0\" >83,783,625.0</td>\n",
       "                        <td id=\"T_93b072a4_b2e7_11ea_9e8f_00163eadedfarow5_col1\" class=\"data row5 col1\" >2,857,080.0</td>\n",
       "                        <td id=\"T_93b072a4_b2e7_11ea_9e8f_00163eadedfarow5_col2\" class=\"data row5 col2\" >83,850,000.0</td>\n",
       "            </tr>\n",
       "            <tr>\n",
       "                        <th id=\"T_93b072a4_b2e7_11ea_9e8f_00163eadedfalevel0_row6\" class=\"row_heading level0 row6\" >75%</th>\n",
       "                        <td id=\"T_93b072a4_b2e7_11ea_9e8f_00163eadedfarow6_col0\" class=\"data row6 col0\" >85,706,938.0</td>\n",
       "                        <td id=\"T_93b072a4_b2e7_11ea_9e8f_00163eadedfarow6_col1\" class=\"data row6 col1\" >2,931,058.0</td>\n",
       "                        <td id=\"T_93b072a4_b2e7_11ea_9e8f_00163eadedfarow6_col2\" class=\"data row6 col2\" >85,775,000.0</td>\n",
       "            </tr>\n",
       "            <tr>\n",
       "                        <th id=\"T_93b072a4_b2e7_11ea_9e8f_00163eadedfalevel0_row7\" class=\"row_heading level0 row7\" >max</th>\n",
       "                        <td id=\"T_93b072a4_b2e7_11ea_9e8f_00163eadedfarow7_col0\" class=\"data row7 col0\" >92,275,500.0</td>\n",
       "                        <td id=\"T_93b072a4_b2e7_11ea_9e8f_00163eadedfarow7_col1\" class=\"data row7 col1\" >3,166,905.0</td>\n",
       "                        <td id=\"T_93b072a4_b2e7_11ea_9e8f_00163eadedfarow7_col2\" class=\"data row7 col2\" >93,100,000.0</td>\n",
       "            </tr>\n",
       "    </tbody></table>"
      ],
      "text/plain": [
       "<pandas.io.formats.style.Styler at 0x7b32d1395190>"
      ]
     },
     "execution_count": 58,
     "metadata": {},
     "output_type": "execute_result"
    }
   ],
   "source": [
    "results_df.describe().round(0).style.format('{:,}')"
   ]
  },
  {
   "cell_type": "code",
   "execution_count": 59,
   "metadata": {},
   "outputs": [
    {
     "data": {
      "text/plain": [
       "<matplotlib.axes._subplots.AxesSubplot at 0x7b32ae3aef40>"
      ]
     },
     "execution_count": 59,
     "metadata": {},
     "output_type": "execute_result"
    },
    {
     "data": {
      "image/png": "[encoded data removed]",
      "text/plain": [
       "<Figure size 432x288 with 1 Axes>"
      ]
     },
     "metadata": {},
     "output_type": "display_data"
    }
   ],
   "source": [
    "results_df['Commission_Amount'].plot(kind='hist', title=\"Total Commission Amount\")"
   ]
  },
  {
   "cell_type": "code",
   "execution_count": 61,
   "metadata": {},
   "outputs": [
    {
     "data": {
      "text/plain": [
       "<matplotlib.axes._subplots.AxesSubplot at 0x7b32aacae7c0>"
      ]
     },
     "execution_count": 61,
     "metadata": {},
     "output_type": "execute_result"
    },
    {
     "data": {
      "image/png": "[encoded data removed]",
      "text/plain": [
       "<Figure size 432x288 with 1 Axes>"
      ]
     },
     "metadata": {},
     "output_type": "display_data"
    }
   ],
   "source": [
    "results_df['Sales'].plot(kind='hist', title='Sales Distro')"
   ]
  },
  {
   "cell_type": "code",
   "execution_count": null,
   "metadata": {},
   "outputs": [],
   "source": []
  }
 ],
 "metadata": {
  "kernelspec": {
   "display_name": "Python 3",
   "language": "python",
   "name": "python3"
  },
  "language_info": {
   "codemirror_mode": {
    "name": "ipython",
    "version": 3
   },
   "file_extension": ".py",
   "mimetype": "text/x-python",
   "name": "python",
   "nbconvert_exporter": "python",
   "pygments_lexer": "ipython3",
   "version": "3.8.2"
  }
 },
 "nbformat": 4,
 "nbformat_minor": 4
}
