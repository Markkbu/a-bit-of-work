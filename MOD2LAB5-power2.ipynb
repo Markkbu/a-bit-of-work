{
 "cells": [
  {
   "cell_type": "code",
   "execution_count": 1,
   "metadata": {},
   "outputs": [],
   "source": [
    "from statsmodels.stats.power import tt_ind_solve_power"
   ]
  },
  {
   "cell_type": "code",
   "execution_count": 3,
   "metadata": {},
   "outputs": [
    {
     "data": {
      "text/plain": [
       "2102.444766799638"
      ]
     },
     "execution_count": 3,
     "metadata": {},
     "output_type": "execute_result"
    }
   ],
   "source": [
    "tt_ind_solve_power(effect_size=0.1, nobs1 = None, alpha=0.05, \n",
    "                   power=0.9, ratio=1, alternative='two-sided')"
   ]
  },
  {
   "cell_type": "code",
   "execution_count": 4,
   "metadata": {},
   "outputs": [
    {
     "data": {
      "text/plain": [
       "252.12750515434277"
      ]
     },
     "execution_count": 4,
     "metadata": {},
     "output_type": "execute_result"
    }
   ],
   "source": [
    "tt_ind_solve_power(effect_size=0.25, nobs1 = None, alpha=0.05, power=0.8, ratio=1, alternative='two-sided')"
   ]
  },
  {
   "cell_type": "code",
   "execution_count": 5,
   "metadata": {},
   "outputs": [
    {
     "data": {
      "text/plain": [
       "0.2808352254289386"
      ]
     },
     "execution_count": 5,
     "metadata": {},
     "output_type": "execute_result"
    }
   ],
   "source": [
    "tt_ind_solve_power(effect_size=None, nobs1 = 200, alpha=0.05, power=0.8, ratio=1, alternative='two-sided')"
   ]
  },
  {
   "cell_type": "code",
   "execution_count": 6,
   "metadata": {},
   "outputs": [
    {
     "data": {
      "text/plain": [
       "[0.07895538929133396,\n",
       " 0.1694809244542697,\n",
       " 0.3217470763276429,\n",
       " 0.5140816347005553,\n",
       " 0.7033332979408062,\n",
       " 0.8491491055035322,\n",
       " 0.9371867266873951,\n",
       " 0.9788403128661938,\n",
       " 0.9942830780694523,\n",
       " 0.9987688466795083]"
      ]
     },
     "execution_count": 6,
     "metadata": {},
     "output_type": "execute_result"
    }
   ],
   "source": [
    "d_values = [x/100.0 for x in range(5,55,5)] \n",
    "# Need range to 55 since Python is zero based indexing\n",
    "\n",
    "powers = [tt_ind_solve_power(effect_size=d, nobs1 = 200, alpha=0.05, power=None, \n",
    "                             ratio=1, alternative='two-sided') for d in d_values]\n",
    "powers"
   ]
  },
  {
   "cell_type": "code",
   "execution_count": 7,
   "metadata": {},
   "outputs": [
    {
     "data": {
      "text/plain": [
       "0.9091290568795594"
      ]
     },
     "execution_count": 7,
     "metadata": {},
     "output_type": "execute_result"
    }
   ],
   "source": [
    "tt_ind_solve_power(effect_size=None, nobs1 = 20, alpha=0.05, power=0.8, ratio=1, alternative='two-sided')"
   ]
  },
  {
   "cell_type": "code",
   "execution_count": 8,
   "metadata": {},
   "outputs": [
    {
     "data": {
      "text/plain": [
       "0.12033536754525166"
      ]
     },
     "execution_count": 8,
     "metadata": {},
     "output_type": "execute_result"
    }
   ],
   "source": [
    "tt_ind_solve_power(effect_size=.25, nobs1 = 20, alpha=0.05, power=None, ratio=1, alternative='two-sided')"
   ]
  },
  {
   "cell_type": "code",
   "execution_count": null,
   "metadata": {},
   "outputs": [],
   "source": []
  }
 ],
 "metadata": {
  "kernelspec": {
   "display_name": "Python 3",
   "language": "python",
   "name": "python3"
  },
  "language_info": {
   "codemirror_mode": {
    "name": "ipython",
    "version": 3
   },
   "file_extension": ".py",
   "mimetype": "text/x-python",
   "name": "python",
   "nbconvert_exporter": "python",
   "pygments_lexer": "ipython3",
   "version": "3.8.2"
  }
 },
 "nbformat": 4,
 "nbformat_minor": 4
}
